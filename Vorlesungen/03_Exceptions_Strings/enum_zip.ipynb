{
 "cells": [
  {
   "cell_type": "code",
   "execution_count": null,
   "metadata": {},
   "outputs": [],
   "source": [
    "# Enumerate generiert einen Zähler anhand eines gegebenen iterierbaren Objektes\n",
    "fruechte = [\"Banane\", \"Birne\", \"Erdbeere\"]\n",
    "for i,frucht in enumerate(fruechte):\n",
    "    print(i,frucht)"
   ]
  },
  {
   "cell_type": "code",
   "execution_count": null,
   "metadata": {},
   "outputs": [],
   "source": [
    "fruechte = [\"Banane\", \"Birne\", \"Erdbeere\"]\n",
    "i = 0\n",
    "for frucht in fruechte:\n",
    "    print(i, frucht)\n",
    "    i += 1"
   ]
  },
  {
   "cell_type": "code",
   "execution_count": null,
   "metadata": {},
   "outputs": [],
   "source": [
    "list(enumerate(fruechte))"
   ]
  },
  {
   "cell_type": "code",
   "execution_count": null,
   "metadata": {},
   "outputs": [],
   "source": []
  },
  {
   "cell_type": "code",
   "execution_count": null,
   "metadata": {},
   "outputs": [],
   "source": [
    "# Zip fügt die einzelnen Elemente mehrerer iterierbarerer zu Tupeln zusammen\n",
    "fruechte = [\"Banane\", \"Birne\", \"Erdbeere\"]\n",
    "gemuese = (\"Spargel\", \"Tomate\", \"Salat\")\n",
    "for nachspeise, vorspeise in zip(fruechte, gemuese):\n",
    "    print(nachspeise, vorspeise)"
   ]
  }
 ],
 "metadata": {
  "kernelspec": {
   "display_name": "Python 3 (ipykernel)",
   "language": "python",
   "name": "python3"
  },
  "language_info": {
   "codemirror_mode": {
    "name": "ipython",
    "version": 3
   },
   "file_extension": ".py",
   "mimetype": "text/x-python",
   "name": "python",
   "nbconvert_exporter": "python",
   "pygments_lexer": "ipython3",
   "version": "3.9.7"
  }
 },
 "nbformat": 4,
 "nbformat_minor": 2
}
