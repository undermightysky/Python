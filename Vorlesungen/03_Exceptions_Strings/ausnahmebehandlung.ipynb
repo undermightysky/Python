{
 "cells": [
  {
   "cell_type": "markdown",
   "metadata": {},
   "source": [
    "# Ausnahmebehandlung\n",
    "\n",
    "In Python können Ausnahmebehandlungen für den Kontrollfluss des Programmes verwendet (anstelle von if/else Strukturen). <br>\n",
    "Hierbei spielt das Idiom **EAFP** (*easier to ask for forgiveness than permission*) eine Rolle.<br>\n",
    "In Python wird grundsätzlich davon ausgegangen, dass eine Operation mit den gegebenen Argumenten ausführbar ist.<br>\n",
    "Sollte sich diese Annahme als falsch erweisen, werden möglich auftretende Exceptions im Nachhinein abgefangen und behandelt.<br>\n",
    "Diese Herangehensweise steht im Konstrast zu **LBYL** (*look before you leap*), bei welcher zuerst auf alle möglich auftretenden Fehler geprüft wird, bevor die Operation ausgeführt wird. <br>\n",
    "Dieses Vorgehen hat jedoch einige Nachteile: <br>\n",
    " - Die vielen Prüfungen im Vorfeld erschweren die Lesbarkeit. \n",
    " - Es gehen sehr wahrscheinlich mögliche zu überprüfende Fehlerquellen vergessen, die Operation failt also trotz voran gegangener Prüfungen. \n",
    " - Zwischen Prüfung und Ausführung der Operation könnten sich die Bedingungen geändert haben (multi-threaded environment). \n",
    " \n",
    "Performance Einbussen wegen der Verwendung von Exception Handlern müssen - im Gegensatz zu anderen Programmiersprachen wie C++ oder PHP - in der Regel nicht befürchtet werden.\n",
    "\n",
    "Sobald eine Exception auftritt, gibt Python den **Traceback** aus. Die Traceback-Ausgabe enthält eine Fülle von Informationen, die helfen können, den Grund für die ausgelöste Exception zu finden und zu diagnostizieren. \n",
    "\n",
    "Der allgemeine Aufbau einer Exception besteht aus einer **try-except Struktur**: \n",
    " - Der Code innerhalb von **try** wird so lange ausgeführt, bis eine Exception geworfen wird. \n",
    " - Im **except-Block** wird definiert, wie auf eine spezifische Exception reagiert werden soll. \n",
    " - Man kann mehrere **except-Blöcke** verwenden, um auf verschiedene Exceptions unterschiedlich zu reagieren. "
   ]
  },
  {
   "cell_type": "markdown",
   "metadata": {},
   "source": [
    "## LBYL Beispiel"
   ]
  },
  {
   "cell_type": "code",
   "execution_count": null,
   "metadata": {},
   "outputs": [],
   "source": [
    "eingabe = input(\"Zahl ungleich Null eingeben: \")\n",
    "\n",
    "if(eingabe.lstrip('-+').isdecimal()): \n",
    "    x = int(eingabe)\n",
    "    if x != 0: \n",
    "        print(1/x)\n",
    "    else:\n",
    "        print(\"Falsche Eingabe!\") \n",
    "else:\n",
    "    print(\"Falsche Eingabe!\")"
   ]
  },
  {
   "cell_type": "code",
   "execution_count": null,
   "metadata": {},
   "outputs": [],
   "source": [
    "eingabe = input(\"Zahl ungleich Null eingeben: \")\n",
    "\n",
    "if(eingabe.lstrip('-+').isdecimal() and (int(eingabe)) != 0): \n",
    "    x = int(eingabe)\n",
    "    print(1/x)\n",
    "else:\n",
    "    print(\"Falsche Eingabe!\")"
   ]
  },
  {
   "cell_type": "markdown",
   "metadata": {},
   "source": [
    "Mit Hilfe des **walrus Operators** kann man seit Python 3.8 bei der Evaluierung eines Ausdrucks (das if-Statement in diesem Beispiel) einer Variable einen Wert zuweisen. Der **walrus Operator** ist ein **Zuweisungsoperator**. <br>\n",
    "(Der Code ist nun etwas übersichtlicher, aber immer noch nicht so leserlich wie wenn man das Ganze mit einer try-except-Struktur lösen würde)"
   ]
  },
  {
   "cell_type": "code",
   "execution_count": null,
   "metadata": {},
   "outputs": [],
   "source": [
    "eingabe = input(\"Zahl ungleich Null eingeben: \")\n",
    "\n",
    "if(eingabe.lstrip('-+').isdecimal() and (x:=int(eingabe)) != 0): \n",
    "    print(1/x)\n",
    "else:\n",
    "    print(\"Falsche Eingabe!\")"
   ]
  },
  {
   "cell_type": "markdown",
   "metadata": {},
   "source": [
    "## EAFP Beispiel"
   ]
  },
  {
   "cell_type": "code",
   "execution_count": null,
   "metadata": {},
   "outputs": [],
   "source": [
    "eingabe = input(\"Zahl ungleich Null eingeben: \")\n",
    "\n",
    "try:\n",
    "    x = int(eingabe)\n",
    "    print(1/x)\n",
    "except (ValueError, ZeroDivisionError): \n",
    "    print(\"Falsche Eingabe!\")"
   ]
  },
  {
   "cell_type": "markdown",
   "metadata": {},
   "source": [
    "## Unspezifische Exceptions abfangen\n",
    "Nicht empfohlen, da auch Exceptions geschluckt werden, die weitergegeben werden sollten, z.B. KeyboardInterrupt (CTRL+C bspw)."
   ]
  },
  {
   "cell_type": "code",
   "execution_count": null,
   "metadata": {
    "scrolled": true
   },
   "outputs": [],
   "source": [
    "eingabe = '10 Fr.'\n",
    "try:\n",
    "    x = int(eingabe)\n",
    "except:\n",
    "    print('Oops! Irgendein Fehler ist aufgetreten.')"
   ]
  },
  {
   "cell_type": "markdown",
   "metadata": {},
   "source": [
    "## Abfangen mehrerer Exceptions\n",
    "\n",
    "In einem **except-Block** können mehrere Exceptions abgefangen und behandelt werden. <br>\n",
    "Dazu werden die Exceptions einfach kommasepariert aufgelistet. "
   ]
  },
  {
   "cell_type": "code",
   "execution_count": null,
   "metadata": {},
   "outputs": [],
   "source": [
    "eingabe = '10 Fr.'\n",
    "try:\n",
    "    x = int(eingabe)\n",
    "    y = 1/x\n",
    "except (ValueError, ZeroDivisionError):\n",
    "    print('Oops! Bitte wiederholen.')"
   ]
  },
  {
   "cell_type": "markdown",
   "metadata": {},
   "source": [
    "Beim Abfangen einer Exception kann mit Hilfe des **as** Keywords ein **Alias** auf die Exception erzeugt werden. <br>\n",
    "Damit hat man Zugriff auf genauere Informationen über die geworfene Exception. "
   ]
  },
  {
   "cell_type": "code",
   "execution_count": null,
   "metadata": {},
   "outputs": [],
   "source": [
    "eingabe = '10 Fr.'\n",
    "try:\n",
    "    x = int(eingabe)\n",
    "    y = 1/x\n",
    "except (ValueError, ZeroDivisionError) as e:\n",
    "    print('Oops! Bitte wiederholen.\\nException: ' + str(e))"
   ]
  },
  {
   "cell_type": "markdown",
   "metadata": {},
   "source": [
    "Manchmal möchte man auf verschiedene Exceptions auf eine andere Art und Weise reagieren. <br>\n",
    "Zu diesem Zweck kann man nach dem **try-Block** mehrere **except-Blöcke** anhängen:"
   ]
  },
  {
   "cell_type": "code",
   "execution_count": null,
   "metadata": {},
   "outputs": [],
   "source": [
    "eingabe = '0'\n",
    "try:\n",
    "    x = int(eingabe)\n",
    "    y = 1/x\n",
    "except ValueError:\n",
    "    print('Oops1! ')\n",
    "except ZeroDivisionError as e:\n",
    "    print('Oops2! ' + str(e))"
   ]
  },
  {
   "cell_type": "markdown",
   "metadata": {},
   "source": [
    "## else\n",
    "Der **Code im else-Block** wird immer dann ausgeführt, wenn **keine Exception** aufgetreten ist: "
   ]
  },
  {
   "cell_type": "code",
   "execution_count": null,
   "metadata": {
    "scrolled": true
   },
   "outputs": [],
   "source": [
    "try:\n",
    "    f = open('datei.txt')\n",
    "except FileNotFoundError:\n",
    "    print('Kann Datei nicht öffnen.')\n",
    "else: \n",
    "    f.close()\n",
    "    print(\"Keine Exception\")\n",
    "print('Ende')"
   ]
  },
  {
   "cell_type": "markdown",
   "metadata": {},
   "source": [
    "## finally\n",
    "Der **finally-Block** wird **immer ausgeführt**, ob es nun im **try-Block oder in einem der anderen Blöcke (except, else)** eine Exception gab. <br>\n",
    "Diese Ausnahmen werden temporär gespeichert, damit der **finally-Block** ausgeführt werden kann. "
   ]
  },
  {
   "cell_type": "code",
   "execution_count": null,
   "metadata": {},
   "outputs": [],
   "source": [
    "def test():\n",
    "    try:\n",
    "        welt_retten()\n",
    "    except: \n",
    "        # x = 1/0\n",
    "        print(\"Dann eben nicht...\")\n",
    "         # x = 1/0\n",
    "        return\n",
    "    finally:\n",
    "        print('Dinge, die so oder so gemacht werden müssen.')\n",
    "test()"
   ]
  },
  {
   "cell_type": "markdown",
   "metadata": {
    "collapsed": true
   },
   "source": [
    "# Exceptions generieren\n",
    "Mit dem **raise Keyword** können eigene Exceptions generiert werden. <br>\n",
    "Hierbei kann die allgemeine Ausnahme **Exception( )** geworfen werden, von welcher alle eingebauten Exceptions abgeleitet sind:"
   ]
  },
  {
   "cell_type": "code",
   "execution_count": null,
   "metadata": {},
   "outputs": [],
   "source": [
    "x = 6\n",
    "if x > 5: \n",
    "    raise Exception('Der Wert 5 darf nicht überschritten werden!')"
   ]
  },
  {
   "cell_type": "markdown",
   "metadata": {},
   "source": [
    "Man kann aber auch eine spezifische und eventuell für das Problem passendere Exception generieren: <br>\n",
    "(Es gibt ebenfalls die Möglichkeit eigene Exceptions zu erstellen, dies wird hier nicht behandelt)"
   ]
  },
  {
   "cell_type": "code",
   "execution_count": null,
   "metadata": {},
   "outputs": [],
   "source": [
    "# ValueError: \n",
    "# Raised when an operation or function receives an argument that \n",
    "# has the right type but an inappropriate value, and the situation \n",
    "# is not described by a more precise exception such as IndexError.\n",
    "x = 6\n",
    "if x > 5: \n",
    "    raise ValueError('Der Wert 5 darf nicht überschritten werden!')"
   ]
  },
  {
   "cell_type": "markdown",
   "metadata": {},
   "source": [
    "# Exception Chaining\n",
    "\n",
    "Die Verkettung von Exceptions geschieht automatisch, wenn eine Exception im **exept-** oder **finally-Block** generiert wird.<br>\n",
    "Man kann Exceptions aber auch absichtlich verketten. Wenn man beispielsweise als Reaktion auf eine Exception eine weitere Exception auslösen möchte, dann möchte man für Debugging-Zwecke trotz allem Information über **beide Exceptions** im Traceback haben. <br>\n",
    "Um Exceptions zu verketten verwendet man die **raise-from-Anweisung**: "
   ]
  },
  {
   "cell_type": "code",
   "execution_count": null,
   "metadata": {},
   "outputs": [],
   "source": [
    "def beispiel():\n",
    "    try:\n",
    "        int('N/A')\n",
    "    except ValueError as e:\n",
    "        raise RuntimeError('Fehler beim Parsen') from e\n",
    "  \n",
    "beispiel()"
   ]
  },
  {
   "cell_type": "markdown",
   "metadata": {},
   "source": [
    "Ohne die explizite Verkettung der Exceptions, sind diese trotzdem über den Traceback veranschaulicht, jedoch ist nicht ersichtlich, ob und wie die beiden Exceptions zusammen hängen: "
   ]
  },
  {
   "cell_type": "code",
   "execution_count": null,
   "metadata": {},
   "outputs": [],
   "source": [
    "def beispiel():\n",
    "    try:\n",
    "        int('N/A')\n",
    "    except ValueError as e:\n",
    "        raise RuntimeError('Fehler beim Parsen')\n",
    "  \n",
    "beispiel()"
   ]
  }
 ],
 "metadata": {
  "kernelspec": {
   "display_name": "Python 3 (ipykernel)",
   "language": "python",
   "name": "python3"
  },
  "language_info": {
   "codemirror_mode": {
    "name": "ipython",
    "version": 3
   },
   "file_extension": ".py",
   "mimetype": "text/x-python",
   "name": "python",
   "nbconvert_exporter": "python",
   "pygments_lexer": "ipython3",
   "version": "3.9.7"
  }
 },
 "nbformat": 4,
 "nbformat_minor": 2
}
