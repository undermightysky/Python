{
 "cells": [
  {
   "cell_type": "markdown",
   "metadata": {},
   "source": [
    "# Stringformatierung\n",
    "\n",
    "## mit format()\n",
    "\n",
    "Von Python 2.6 bis 3.6 war es empfohlen, strings mit Hilfe der **format() Methode** zu formatieren. <br>\n",
    "Die Methode wird hierbei mit Hilfe des **Punkt Operators** auf den String (genauer gesagt das Objekt der Klasse String) angewendet. <br>\n",
    "Der **format() Methode** werden hierbei die im String **einzusetzenden Argumente** mit (oder ohne) entsprechender Formatierung übergeben. <br>\n",
    "Im String selber wird mit Hilfe **geschweifter Klammern Platzhalter** geschaffen, in welchen die **Argumente eingesetzt** werden. "
   ]
  },
  {
   "cell_type": "code",
   "execution_count": null,
   "metadata": {},
   "outputs": [],
   "source": [
    "spannung = 12.56\n",
    "strom = 0.5"
   ]
  },
  {
   "cell_type": "code",
   "execution_count": null,
   "metadata": {},
   "outputs": [],
   "source": [
    "'Die Spannung beträgt {}V, der Strom beträgt {}A'.format(spannung, strom)"
   ]
  },
  {
   "cell_type": "markdown",
   "metadata": {},
   "source": [
    "mit Index und Positionsargumenten:"
   ]
  },
  {
   "cell_type": "code",
   "execution_count": null,
   "metadata": {},
   "outputs": [],
   "source": [
    "'Die Spannung beträgt {0}V, der Strom beträgt {1}A'.format(spannung, strom)"
   ]
  },
  {
   "cell_type": "code",
   "execution_count": null,
   "metadata": {},
   "outputs": [],
   "source": [
    "'Die Spannung beträgt {1}V, der Strom beträgt {0}A'.format(strom, spannung)"
   ]
  },
  {
   "cell_type": "markdown",
   "metadata": {},
   "source": [
    "mit Schlüsselwortargumenten:"
   ]
  },
  {
   "cell_type": "code",
   "execution_count": null,
   "metadata": {
    "scrolled": true
   },
   "outputs": [],
   "source": [
    "'Die Spannung beträgt {U}V, der Strom beträgt {I}A'.format(U=spannung, I=strom)"
   ]
  },
  {
   "cell_type": "markdown",
   "metadata": {},
   "source": [
    "Sind viele Variablen im Spiel, so wird die Formatierung mit Hilfe der **format() Methode** lang und unübersichtlich. "
   ]
  },
  {
   "cell_type": "code",
   "execution_count": null,
   "metadata": {},
   "outputs": [],
   "source": [
    "vorname = \"Pippi\"\n",
    "nachname = \"Langstrumpf\"\n",
    "alter = 10\n",
    "beruf = \"Kinderheldin\"\n",
    "wohnort = \"Villa Kunterbunt\"\n",
    "heimatland = \"Schweden\""
   ]
  },
  {
   "cell_type": "code",
   "execution_count": null,
   "metadata": {},
   "outputs": [],
   "source": [
    "# Um Zeichenketten über mehrere Zeilen verteilen zu können, kann man den Zeilenumbruch mit einem \\ abschliessen\n",
    "(\"Ihr Name ist {vorname} {nachname}, sie ist {alter} Jahre alt.\" \\\n",
    " \" Sie ist eine {beruf} und lebt in der {wohnort} in {heimatland}.\") \\\n",
    " .format(vorname=vorname, \n",
    "         nachname=nachname, \n",
    "         alter=alter,\n",
    "         beruf=beruf, \n",
    "         wohnort=wohnort, \n",
    "         heimatland=heimatland)"
   ]
  },
  {
   "cell_type": "markdown",
   "metadata": {
    "collapsed": true
   },
   "source": [
    "## mit f-String (formatted string literals oder Stringliterale)\n",
    "\n",
    "Stringliterale sind seit Python 3.6 verfügbar. <br>\n",
    "Sie starten mit dem **Buchstaben f gefolgt von einem String**. <br>\n",
    "Der String enthält - ähnlich wie bei der **format() Methode** - geschweifte Klammern als Platzhalter, in welcher die zu formatierenden Werte eingesetzt werden. <br>\n",
    "Im **Unterschied zur format() Methode** werden die Ausdrücke in den geschweiften Klammern **während der Laufzeit ausgewertet** und schliesslich auch mit Hilfe der **format() Methode** formatiert. <br>\n",
    "Dies bedeutet, dass die **darzustellenden Werte direkt in die geschweiften Klammern eingesetzt** werden können:"
   ]
  },
  {
   "cell_type": "code",
   "execution_count": null,
   "metadata": {
    "scrolled": true
   },
   "outputs": [],
   "source": [
    "f'Die Spannung beträgt {spannung}V, der Strom beträgt {strom}A'"
   ]
  },
  {
   "cell_type": "markdown",
   "metadata": {},
   "source": [
    "Die Verwendung von f-strings **erhöht die Lesbarkeit**:"
   ]
  },
  {
   "cell_type": "code",
   "execution_count": null,
   "metadata": {},
   "outputs": [],
   "source": [
    "f\"Ihr Name ist {vorname} {nachname}, sie ist {alter} Jahre alt.\\\n",
    "Sie ist eine {beruf} und lebt in der {wohnort} in {heimatland}.\""
   ]
  },
  {
   "cell_type": "markdown",
   "metadata": {},
   "source": [
    "Seit Python 3.8 gibt es so genannte **self-documenting expressions**, hierbei wird **in den geschweiften Klammern nach dem Variablennamen ein Gleichheitszeichen eingefügt**. <br>\n",
    "Dadurch wird automatisch der Name des Ausdrucks mit der zugehörigen Repräsentation des evaluierten Ausdruckes ausgegeben: <br>"
   ]
  },
  {
   "cell_type": "code",
   "execution_count": null,
   "metadata": {},
   "outputs": [],
   "source": [
    "messwert = 2.45\n",
    "f\"{messwert=}\""
   ]
  },
  {
   "cell_type": "markdown",
   "metadata": {},
   "source": [
    "Da die **geschweiften Klammern in f-strings während der Laufzeit ausgewertet** werden, können in diese alle **gültigen Python Ausdrücke** eingefügt werden, dies macht die **f-Strings gegenüber der format() Methode um einiges mächtiger**:  "
   ]
  },
  {
   "cell_type": "code",
   "execution_count": null,
   "metadata": {},
   "outputs": [],
   "source": [
    "f\"Die Summe aus 2 und 4 ist {2+4}\""
   ]
  },
  {
   "cell_type": "markdown",
   "metadata": {},
   "source": [
    "Möchte man den Ausdruck **nicht evaluieren**, so kann man **zwei geschweifte Klammern** verwenden:"
   ]
  },
  {
   "cell_type": "code",
   "execution_count": null,
   "metadata": {},
   "outputs": [],
   "source": [
    "f\"Die Summe aus 2 und 4 ist {{2+4}}\""
   ]
  },
  {
   "cell_type": "markdown",
   "metadata": {},
   "source": [
    "Möchte man den Ausdruck **evaluieren** und diesen **in geschweiften Klammern darstellen**, so muss man **drei geschweifte Klammern** verwenden: "
   ]
  },
  {
   "cell_type": "code",
   "execution_count": null,
   "metadata": {},
   "outputs": [],
   "source": [
    "f\"Die Summe aus 2 und 4 ist {{{2+4}}}\""
   ]
  },
  {
   "cell_type": "code",
   "execution_count": null,
   "metadata": {},
   "outputs": [],
   "source": [
    "def summe(a, b):\n",
    "    return a + b\n",
    "a = 4\n",
    "b = 5\n",
    "f\"Die Summe aus {a} und {b} ist {summe(a,b)}\""
   ]
  },
  {
   "cell_type": "markdown",
   "metadata": {},
   "source": [
    "Nutzen Sie wenn immer möglich **f-Strings**. <br>"
   ]
  },
  {
   "cell_type": "code",
   "execution_count": null,
   "metadata": {
    "scrolled": true
   },
   "outputs": [],
   "source": [
    "# Noch nicht überzeugt?\n",
    "import this"
   ]
  }
 ],
 "metadata": {
  "kernelspec": {
   "display_name": "Python 3 (ipykernel)",
   "language": "python",
   "name": "python3"
  },
  "language_info": {
   "codemirror_mode": {
    "name": "ipython",
    "version": 3
   },
   "file_extension": ".py",
   "mimetype": "text/x-python",
   "name": "python",
   "nbconvert_exporter": "python",
   "pygments_lexer": "ipython3",
   "version": "3.9.7"
  }
 },
 "nbformat": 4,
 "nbformat_minor": 2
}
