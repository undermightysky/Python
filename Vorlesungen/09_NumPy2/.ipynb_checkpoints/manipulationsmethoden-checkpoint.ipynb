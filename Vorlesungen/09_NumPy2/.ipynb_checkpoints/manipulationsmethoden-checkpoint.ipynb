{
 "cells": [
  {
   "cell_type": "markdown",
   "metadata": {},
   "source": [
    "# Manipulationsmethoden für Numpy Arrays\n",
    "\n",
    "https://numpy.org/doc/stable/reference/routines.array-manipulation.html"
   ]
  },
  {
   "cell_type": "code",
   "execution_count": 3,
   "metadata": {},
   "outputs": [],
   "source": [
    "import numpy as np"
   ]
  },
  {
   "cell_type": "code",
   "execution_count": null,
   "metadata": {},
   "outputs": [],
   "source": [
    "# 1D Arrays\n",
    "x = np.array([1, 10, 100, 1000])\n",
    "y = np.array([2, 20, 200, 2000])\n",
    "z = np.array([3, 30, 300, 3000])"
   ]
  },
  {
   "cell_type": "markdown",
   "metadata": {},
   "source": [
    "### 1D Arrays zu 1D Arrays zusammenfügen"
   ]
  },
  {
   "cell_type": "code",
   "execution_count": null,
   "metadata": {},
   "outputs": [],
   "source": [
    "# Verbindet eine Folge von Arrays entlang einer bestehenden Achse (bei 1D Arrays ist das axis=0)\n",
    "arr1 = np.concatenate([x, y, z])\n",
    "print(arr1)"
   ]
  },
  {
   "cell_type": "code",
   "execution_count": null,
   "metadata": {},
   "outputs": [],
   "source": [
    "# Verbindet eine Folge von Arrays entlang der ersten Achse\n",
    "arr2 = np.r_[x, y, z]\n",
    "print(arr2)"
   ]
  },
  {
   "cell_type": "markdown",
   "metadata": {},
   "source": [
    "## 1D Arrays zu 2D Arrays zusammenfügen"
   ]
  },
  {
   "cell_type": "code",
   "execution_count": null,
   "metadata": {},
   "outputs": [],
   "source": [
    "# 1D Arrays\n",
    "x = np.array([1, 10, 100, 1000])\n",
    "y = np.array([2, 20, 200, 2000])\n",
    "z = np.array([3, 30, 300, 3000])"
   ]
  },
  {
   "cell_type": "markdown",
   "metadata": {},
   "source": [
    "### zeilenweise"
   ]
  },
  {
   "cell_type": "code",
   "execution_count": null,
   "metadata": {},
   "outputs": [],
   "source": [
    "# Stapelt eine Folge von Arrays entlang der Zeilenachse (vertikal)\n",
    "arr3 = np.row_stack([x, y, z])\n",
    "print(arr3)"
   ]
  },
  {
   "cell_type": "markdown",
   "metadata": {},
   "source": [
    "### spaltenweise"
   ]
  },
  {
   "cell_type": "code",
   "execution_count": null,
   "metadata": {},
   "outputs": [],
   "source": [
    "# Stapelt eine Folge von Arrays entlang der Spaltenachse (horizontal)\n",
    "arr4 = np.column_stack([x, y, z])\n",
    "print(arr4)"
   ]
  },
  {
   "cell_type": "code",
   "execution_count": null,
   "metadata": {},
   "outputs": [],
   "source": [
    "# Stapelt eine Folge von Arrays entlang der zweiten Achse\n",
    "arr5 = np.c_[x, y, z]\n",
    "print(arr5)"
   ]
  },
  {
   "cell_type": "markdown",
   "metadata": {},
   "source": [
    "## 2D Arrays zu 2D Arrays zusammenfügen"
   ]
  },
  {
   "cell_type": "code",
   "execution_count": null,
   "metadata": {},
   "outputs": [],
   "source": [
    "# 2D Arrays\n",
    "x2 = np.array([1, 10, 100, 1000]).reshape(2,2)\n",
    "y2 = np.array([2, 20, 200, 2000]).reshape(2,2)\n",
    "z2 = np.array([3, 30, 300, 3000]).reshape(2,2)\n",
    "print(x2)\n",
    "print(y2)\n",
    "print(z2)"
   ]
  },
  {
   "cell_type": "markdown",
   "metadata": {},
   "source": [
    "### zeilenweise"
   ]
  },
  {
   "cell_type": "code",
   "execution_count": null,
   "metadata": {},
   "outputs": [],
   "source": [
    "# Stapelt eine Folge von Arrays entlang der Zeilenachse (vertikal)\n",
    "arr6 = np.vstack([x2, y2, z2, [10, 10]])\n",
    "print(arr6)\n",
    "print(arr6.shape)"
   ]
  },
  {
   "cell_type": "code",
   "execution_count": null,
   "metadata": {},
   "outputs": [],
   "source": [
    "# Verbindet eine Folge von Arrays entlang einer bestehenden Achse, hier entlang der Achse 0 \n",
    "arr7 = np.concatenate([x2, y2, z2], axis=0)\n",
    "print(arr7)\n",
    "print(arr7.shape)"
   ]
  },
  {
   "cell_type": "code",
   "execution_count": null,
   "metadata": {},
   "outputs": [],
   "source": [
    "# Verbindet eine Folge von Arrays entlang der ersten Achse\n",
    "arr8 = np.r_[x2, y2, z2]\n",
    "print(arr8)\n",
    "print(arr8.shape)"
   ]
  },
  {
   "cell_type": "markdown",
   "metadata": {},
   "source": [
    "### spaltenweise"
   ]
  },
  {
   "cell_type": "code",
   "execution_count": null,
   "metadata": {},
   "outputs": [],
   "source": [
    "# Stapelt eine Folge von Arrays entlang der Spaltenachse (horizontal)\n",
    "arr9 = np.hstack([x2, y2, z2])\n",
    "print(arr9)"
   ]
  },
  {
   "cell_type": "code",
   "execution_count": null,
   "metadata": {},
   "outputs": [],
   "source": [
    "# Verbindet eine Folge von Arrays entlang einer bestehenden Achse, hier entlang der Achse 1 \n",
    "arr10 = np.concatenate([x2, y2, z2], axis=1)\n",
    "print(arr10)\n",
    "print(arr10.shape)"
   ]
  },
  {
   "cell_type": "code",
   "execution_count": null,
   "metadata": {},
   "outputs": [],
   "source": [
    "# Stapelt eine Folge von Arrays entlang der zweiten Achse\n",
    "arr11 = np.c_[x2, y2, z2]\n",
    "print(arr11)"
   ]
  },
  {
   "cell_type": "markdown",
   "metadata": {},
   "source": [
    "## nD Arrays zusammenfügen"
   ]
  },
  {
   "cell_type": "code",
   "execution_count": null,
   "metadata": {},
   "outputs": [],
   "source": [
    "# Verbindet eine Folge von Arrays entlang einer neuen Achse, hier entlang der Achse 0\n",
    "arr12 = np.stack([x2, y2, z2], axis=0)\n",
    "print(arr12)\n",
    "print(arr12.shape)"
   ]
  },
  {
   "cell_type": "code",
   "execution_count": null,
   "metadata": {},
   "outputs": [],
   "source": [
    "# Verbindet eine Folge von Arrays entlang einer neuen Achse, hier entlang der Achse 1\n",
    "arr13 = np.stack([x2, y2, z2], axis=1)\n",
    "print(arr13)\n",
    "print(arr13.shape)"
   ]
  },
  {
   "cell_type": "code",
   "execution_count": null,
   "metadata": {},
   "outputs": [],
   "source": [
    "# Verbindet eine Folge von Arrays entlang einer neuen Achse, hier entlang der Achse 2\n",
    "arr14 = np.stack([x2, y2, z2], axis=2)\n",
    "print(arr14)\n",
    "print(arr14.shape)"
   ]
  },
  {
   "cell_type": "markdown",
   "metadata": {},
   "source": [
    "### Vorteil r_[ ] und c_[ ]\n",
    "\n",
    "Den RClass und CClass Objekten r_ bzw. c_ können so genannte Slice Objekte übergeben werden, welche entlang einer bestimmten Achse (erste Achse bei r_, zweite Achse bei c_) zusammen gefügt werden. Die Syntax ist dadurch sehr ähnlich wie die Syntax, welche in Matlab verwendet wird, um Arrays zu bauen. "
   ]
  },
  {
   "cell_type": "code",
   "execution_count": null,
   "metadata": {},
   "outputs": [],
   "source": [
    "# Zeilenvektor mit slice objects\n",
    "x = np.r_[1:5, 15, 20:110:10]\n",
    "print('\\nVektor mit r_[]')\n",
    "print(x)\n",
    "print(x.shape)"
   ]
  },
  {
   "cell_type": "code",
   "execution_count": null,
   "metadata": {},
   "outputs": [],
   "source": [
    "# Möchte man denselben Vektor mit hstack() bauen, so muss man die Funktion arange() verwenden\n",
    "x = np.hstack((np.arange(1,5), 15, np.arange(20,110,10)))\n",
    "print('\\nVektor mit hstack()')\n",
    "print(x)\n",
    "print(x.shape)"
   ]
  },
  {
   "cell_type": "code",
   "execution_count": null,
   "metadata": {},
   "outputs": [],
   "source": [
    "# Spaltenvektor mit slice objects bauen\n",
    "x = np.c_[0:10]\n",
    "print('\\nVektor mit c_[]')\n",
    "print(x)\n",
    "print(x.shape)"
   ]
  },
  {
   "cell_type": "code",
   "execution_count": null,
   "metadata": {},
   "outputs": [],
   "source": [
    "# Möchte man denselben Vektor mit vstack() bauen, so muss man die Funktion arange() verwenden\n",
    "x = np.vstack((np.arange(0,10)))\n",
    "print('\\nVektor mit v_stack()')\n",
    "print(x)\n",
    "print(x.shape)"
   ]
  },
  {
   "cell_type": "markdown",
   "metadata": {},
   "source": [
    "## Dimensionsänderung"
   ]
  },
  {
   "cell_type": "markdown",
   "metadata": {},
   "source": [
    "### Veränderung der Dimension"
   ]
  },
  {
   "cell_type": "code",
   "execution_count": null,
   "metadata": {
    "scrolled": true
   },
   "outputs": [],
   "source": [
    "# reshape verleiht einem Array eine neue Form ohne die totale Anzahl Elemente oder deren Inhalt zu ändern\n",
    "A = np.arange(0,10)\n",
    "B = A.reshape(5,2)\n",
    "\n",
    "print(A)\n",
    "print(B)"
   ]
  },
  {
   "cell_type": "code",
   "execution_count": null,
   "metadata": {},
   "outputs": [],
   "source": [
    "# Mit -1 kann eine Dimension nicht angegeben werden und wird automatisch ermittelt\n",
    "A = np.arange(0,20)\n",
    "B = A.reshape(5,2,-1)\n",
    "\n",
    "print(A.shape)\n",
    "print(B.shape)"
   ]
  },
  {
   "cell_type": "code",
   "execution_count": null,
   "metadata": {},
   "outputs": [],
   "source": [
    "# Achtung: Mit Reshape erhalten wir nur eine view auf die Daten\n",
    "A = np.arange(0,10)\n",
    "B = A.reshape(5,2)\n",
    "\n",
    "print(A)\n",
    "print(B)\n",
    "B[0][0] = 1000\n",
    "print(A)\n",
    "print(B)"
   ]
  },
  {
   "cell_type": "code",
   "execution_count": null,
   "metadata": {},
   "outputs": [],
   "source": [
    "# Echte Kopie mit copy()\n",
    "A = np.arange(0,10)\n",
    "B = A.reshape(5,2).copy()\n",
    "\n",
    "print(A)\n",
    "print(B)\n",
    "B[0][0] = 1000\n",
    "print(A)\n",
    "print(B)"
   ]
  },
  {
   "cell_type": "code",
   "execution_count": null,
   "metadata": {},
   "outputs": [],
   "source": [
    "# Mit resize kann die Form des Arrays \"in-place\" verändert werden\n",
    "A = np.arange(0,10)\n",
    "print(A)\n",
    "A.resize(2,5)\n",
    "print(A)"
   ]
  },
  {
   "cell_type": "markdown",
   "metadata": {},
   "source": [
    "### Flache Arrays erzeugen"
   ]
  },
  {
   "cell_type": "code",
   "execution_count": 4,
   "metadata": {},
   "outputs": [
    {
     "name": "stdout",
     "output_type": "stream",
     "text": [
      "[[0 1]\n",
      " [2 3]\n",
      " [4 5]\n",
      " [6 7]\n",
      " [8 9]]\n"
     ]
    }
   ],
   "source": [
    "A = np.arange(0,10).reshape(5,2)\n",
    "print(A)"
   ]
  },
  {
   "cell_type": "code",
   "execution_count": null,
   "metadata": {},
   "outputs": [],
   "source": [
    "A_flat = A.reshape(-1)\n",
    "print(A_flat)"
   ]
  },
  {
   "cell_type": "code",
   "execution_count": null,
   "metadata": {},
   "outputs": [],
   "source": [
    "# Achtung: arr.reshape(-1) erzeugt nur eine View keine echte Kopie\n",
    "A_flat[0] = 1000\n",
    "print(A)\n",
    "print(A_flat)"
   ]
  },
  {
   "cell_type": "code",
   "execution_count": null,
   "metadata": {},
   "outputs": [],
   "source": [
    "# Die Methode flatten() erzeugt eine echte Kopie\n",
    "A_flat2 = A.flatten()\n",
    "A_flat2[0] = 2000\n",
    "print(A)\n",
    "print(A_flat2)"
   ]
  },
  {
   "cell_type": "code",
   "execution_count": 5,
   "metadata": {},
   "outputs": [
    {
     "name": "stdout",
     "output_type": "stream",
     "text": [
      "[0 1 2 3 4 5 6 7 8 9]\n"
     ]
    }
   ],
   "source": [
    "# Die Methode ravel() erzeugt eine View wann immer möglich\n",
    "A_ravel = A.ravel()\n",
    "print(A_ravel)"
   ]
  },
  {
   "cell_type": "code",
   "execution_count": null,
   "metadata": {},
   "outputs": [],
   "source": [
    "A_ravel[0] = 3000\n",
    "print(A)\n",
    "print(A_ravel)"
   ]
  },
  {
   "cell_type": "markdown",
   "metadata": {},
   "source": [
    "### Erhöhung der Dimension"
   ]
  },
  {
   "cell_type": "code",
   "execution_count": null,
   "metadata": {},
   "outputs": [],
   "source": [
    "A = np.arange(0,16)\n",
    "B = A.reshape(2,8)\n",
    "print(A)\n",
    "print(B)"
   ]
  },
  {
   "cell_type": "code",
   "execution_count": null,
   "metadata": {},
   "outputs": [],
   "source": [
    "D = A[:, np.newaxis]\n",
    "print('\\nD')\n",
    "print(D)\n",
    "print(D.shape)"
   ]
  },
  {
   "cell_type": "markdown",
   "metadata": {},
   "source": [
    "### Arrays wiederholen"
   ]
  },
  {
   "cell_type": "code",
   "execution_count": null,
   "metadata": {},
   "outputs": [],
   "source": [
    "# tile wiederholt ein gegebenes Array entlang der gegebenen Achsen (tile = Fliese)\n",
    "A = np.arange(0,4).reshape(2,2)\n",
    "B = np.tile(A, (5,2))\n",
    "\n",
    "print(A)\n",
    "print(B)"
   ]
  },
  {
   "cell_type": "code",
   "execution_count": null,
   "metadata": {},
   "outputs": [],
   "source": [
    "# Die Elemente eines Arrays n mal wiederholen entlang der gegebenen Achse\n",
    "x = np.array([1, 2, 3])\n",
    "y = np.repeat(x, 3)\n",
    "\n",
    "print(x)\n",
    "print(y)"
   ]
  }
 ],
 "metadata": {
  "kernelspec": {
   "display_name": "Python 3 (ipykernel)",
   "language": "python",
   "name": "python3"
  },
  "language_info": {
   "codemirror_mode": {
    "name": "ipython",
    "version": 3
   },
   "file_extension": ".py",
   "mimetype": "text/x-python",
   "name": "python",
   "nbconvert_exporter": "python",
   "pygments_lexer": "ipython3",
   "version": "3.9.7"
  }
 },
 "nbformat": 4,
 "nbformat_minor": 2
}
