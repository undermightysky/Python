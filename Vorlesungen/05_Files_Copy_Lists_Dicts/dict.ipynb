{
 "cells": [
  {
   "cell_type": "markdown",
   "metadata": {},
   "source": [
    "# Dictionaries im Detail\n",
    "\n",
    "Ein Dictionary ist ein assoziatives Array, es besteht aus einer Sammlung von Schlüssel-Wert-Paaren, wobei jeder Schlüssel nur einmal im Dictionary vorkommt. Dictionaries sind veränderlich und können während der Laufzeit neue Schlüssel-Wert-Paare aufnehmen oder abgeben. Der Zugriff auf die Werte im Dictionary erfolgt über den zugehörigen Schlüssel oder die entsprechenden Dictionary Methoden."
   ]
  },
  {
   "cell_type": "markdown",
   "metadata": {},
   "source": [
    "## Dictionary erzeugen\n",
    "\n",
    "Ein Dictionary kann entweder erzeugt werden, indem die Schlüssel-Wert-Paare kommasepariert in geschweiften Klammern angegeben werden, wobei ein Doppelpunkt jeden Schlüssel von seinem Wert trennt.\n",
    "Ein Dictionary kann auch mit der eingebauten Funktion dict() erzeugt werden, wobei eine Folge von Schlüssel-Wert-Paaren als Argument übergeben wird, bspw. als Liste von Tupeln. "
   ]
  },
  {
   "cell_type": "code",
   "execution_count": null,
   "metadata": {},
   "outputs": [],
   "source": [
    "book = {\n",
    "    \"Title\" : \"Einführung in Python 3\", \n",
    "    \"ISBN\" : \"978-3-446-45208-4\", \n",
    "    \"Price\" : 29.50, \n",
    "    \"Ausführung\": [\"Hardcover\", \"Taschenbuch\"],\n",
    "}"
   ]
  },
  {
   "cell_type": "code",
   "execution_count": 3,
   "metadata": {},
   "outputs": [
    {
     "data": {
      "text/plain": [
       "{'Title': 'Einführung in Python 3', 'ISBN': '978-3-446-45208-4', 'Price': 29.5}"
      ]
     },
     "execution_count": 3,
     "metadata": {},
     "output_type": "execute_result"
    }
   ],
   "source": [
    "book = dict([(\"Title\", \"Einführung in Python 3\"),(\"ISBN\", \"978-3-446-45208-4\"),(\"Price\", 29.50)])\n",
    "book"
   ]
  },
  {
   "cell_type": "code",
   "execution_count": null,
   "metadata": {},
   "outputs": [],
   "source": [
    "# Eine Kopie eines gegebenen Dictionaries erzeugen (KEINE deepcopy!)\n",
    "book2 = book.copy()\n",
    "book[\"Ausführung\"][0] = \"E-Book\"\n",
    "print(book2)"
   ]
  },
  {
   "cell_type": "markdown",
   "metadata": {},
   "source": [
    "## Zugriff auf Elemente"
   ]
  },
  {
   "cell_type": "code",
   "execution_count": null,
   "metadata": {},
   "outputs": [],
   "source": [
    "# Der Zugriff über eckige Klammern und Schlüsselwort\n",
    "title = book[\"Title\"]\n",
    "title"
   ]
  },
  {
   "cell_type": "code",
   "execution_count": null,
   "metadata": {},
   "outputs": [],
   "source": [
    "# Zugriff über die get Methode, gibt None zurück, wenn Schlüssel nicht vorhanden\n",
    "title = book.get(\"Title\") \n",
    "print(title)"
   ]
  },
  {
   "cell_type": "code",
   "execution_count": null,
   "metadata": {},
   "outputs": [],
   "source": [
    "# Als zweites Argument kann auch ein Rückgabewert angegeben werden\n",
    "author = book.get(\"Author\", \"not provided\") \n",
    "author"
   ]
  },
  {
   "cell_type": "code",
   "execution_count": null,
   "metadata": {},
   "outputs": [],
   "source": [
    "# Alle Werte im Dictionary als Liste (eigentlich eine View)\n",
    "all_values = book.values() \n",
    "all_values"
   ]
  },
  {
   "cell_type": "code",
   "execution_count": null,
   "metadata": {},
   "outputs": [],
   "source": [
    "# Alle Schlüssel im Dictionary als Liste (eigentlich eine View)\n",
    "all_keys = book.keys()  \n",
    "list(all_keys)"
   ]
  },
  {
   "cell_type": "code",
   "execution_count": null,
   "metadata": {},
   "outputs": [],
   "source": [
    "# Alle Schlüssel-Wert-Paare im Dictionary als Liste (eigentlich eine View)\n",
    "all_items = book.items() \n",
    "list(all_items)"
   ]
  },
  {
   "cell_type": "markdown",
   "metadata": {},
   "source": [
    "## Element ändern oder hinzufügen"
   ]
  },
  {
   "cell_type": "code",
   "execution_count": null,
   "metadata": {},
   "outputs": [],
   "source": [
    "# Zugriff über die eckigen Klammern und dem Schlüssel, dessen Wert geändert werden soll\n",
    "book[\"Title\"] = \"Numerisches Python\" \n",
    "book"
   ]
  },
  {
   "cell_type": "code",
   "execution_count": null,
   "metadata": {},
   "outputs": [],
   "source": [
    "# Ist das Schlüssel-Wert-Paar nicht vorhanden, so wird es dem Dictionary hinzu gefügt\n",
    "book[\"Author\"] = \"Bernd Klein\"    \n",
    "book"
   ]
  },
  {
   "cell_type": "code",
   "execution_count": null,
   "metadata": {},
   "outputs": [],
   "source": [
    "# Die setdefault() Methode gibt den Wert eines gegebenen Schlüssels zurück. \n",
    "# Sollte der Schlüssel nicht vorhanden sein, so wird dieser ins Dictionary eingefügt. \n",
    "jahr = book.setdefault(\"Erscheinungsjahr\", 2017)\n",
    "jahr"
   ]
  },
  {
   "cell_type": "markdown",
   "metadata": {},
   "source": [
    "## Element entfernen"
   ]
  },
  {
   "cell_type": "code",
   "execution_count": null,
   "metadata": {},
   "outputs": [],
   "source": [
    "# Ein spezifisches Schlüssel-Wert-Paar entfernen\n",
    "book.pop(\"Author\")\n",
    "book"
   ]
  },
  {
   "cell_type": "code",
   "execution_count": null,
   "metadata": {},
   "outputs": [],
   "source": [
    "# Das letzt hinzugefügte Schlüssel-Wert-Paar entfernen\n",
    "book.popitem()\n",
    "book"
   ]
  },
  {
   "cell_type": "code",
   "execution_count": null,
   "metadata": {},
   "outputs": [],
   "source": [
    "# Alle Schlüssel-Wert-Paare entfernen\n",
    "book.clear()\n",
    "book"
   ]
  }
 ],
 "metadata": {
  "kernelspec": {
   "display_name": "Python 3 (ipykernel)",
   "language": "python",
   "name": "python3"
  },
  "language_info": {
   "codemirror_mode": {
    "name": "ipython",
    "version": 3
   },
   "file_extension": ".py",
   "mimetype": "text/x-python",
   "name": "python",
   "nbconvert_exporter": "python",
   "pygments_lexer": "ipython3",
   "version": "3.9.7"
  }
 },
 "nbformat": 4,
 "nbformat_minor": 2
}
