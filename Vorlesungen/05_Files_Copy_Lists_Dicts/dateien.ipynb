{
 "cells": [
  {
   "cell_type": "markdown",
   "metadata": {},
   "source": [
    "# Datei öffnen und lesen"
   ]
  },
  {
   "cell_type": "markdown",
   "metadata": {},
   "source": [
    "## mit read()\n",
    "\n",
    "Dateien können mit der eingebauten eingebauten Funktion open() geöffnet werden, welche ein File-Objekt zurück gibt.<br>\n",
    "Es liegt in der Verantwortung des Programmierers **die Datei nach Vollendung des Lese- oder Schreibvorgangs wieder zu schliessen**. "
   ]
  },
  {
   "cell_type": "code",
   "execution_count": 1,
   "metadata": {},
   "outputs": [
    {
     "name": "stdout",
     "output_type": "stream",
     "text": [
      "False\n",
      "True\n"
     ]
    }
   ],
   "source": [
    "# utf-8 ist ein internationaler endocing Standard und der default Standard in Python 3. Jedes Zeichen wird mit einer \n",
    "# eindeutigen Zahl kodiert, wobei bei utf-8 je nach Zeichen 1, 2, 3 oder 4 Bytes verwendet werden. Alle englischen Zeichen \n",
    "# benötigen für die Codierung nur 1 Byte, was ziemlich effizient ist. \n",
    "# Vor allem unter Windows sollte utf-8 explizit angegeben werden, da Windows sonst auf eine veraltete Kodierung wie bspw. \n",
    "# cp1252 zurück greift, was dann dazu führen kann, dass auf anderen Systemen die Zeichen nicht richtig interpretiert werden.\n",
    "f = open(\"mailaenderli.txt\", encoding=\"utf-8\") \n",
    "text = f.read()\n",
    "print(f.closed)\n",
    "f.close()\n",
    "print(f.closed)"
   ]
  },
  {
   "cell_type": "markdown",
   "metadata": {},
   "source": [
    "## besser mit der with-Anweisung\n",
    "\n",
    "Dateien können auch mit der with Anweisung geöffnet werde, was den Vorteil bietet, dass **die Datei beim Verlassen des with Blocks automatisch geschlossen wird.** "
   ]
  },
  {
   "cell_type": "code",
   "execution_count": null,
   "metadata": {},
   "outputs": [],
   "source": [
    "# Mit read() kann eine spezfischische Anzahl Bytes aus dem File gelesen werden.\n",
    "# Wird kein Argument übergeben, so wird der gesamte Dateiinhalt als String gelesen. \n",
    "with open(\"mailaenderli.txt\", encoding=\"utf-8\") as f:\n",
    "    text = f.read()\n",
    "print(f.closed)"
   ]
  },
  {
   "cell_type": "code",
   "execution_count": null,
   "metadata": {},
   "outputs": [],
   "source": [
    "print(text)"
   ]
  },
  {
   "cell_type": "markdown",
   "metadata": {},
   "source": [
    "## Variante mit readlines()"
   ]
  },
  {
   "cell_type": "code",
   "execution_count": null,
   "metadata": {},
   "outputs": [],
   "source": [
    "# Mit readlines() wird der Dateiinhalt in eine Liste gelesen, wobei jede Zeile in einem neuen Listenelement gespeichert wird.\n",
    "with open(\"mailaenderli.txt\", encoding=\"utf-8\") as f:\n",
    "    text = f.readlines()\n",
    "print(f.closed)"
   ]
  },
  {
   "cell_type": "code",
   "execution_count": null,
   "metadata": {},
   "outputs": [],
   "source": [
    "print(text)\n",
    "# Der gesamte Dateiinhalt ist in einer Liste gespeichert, wobei jede Zeile ein neues Element bildet. \n",
    "# Über den Dateiinhalt kann mit einer for Schleife iteriert werden: \n",
    "for zeile in text: # Mit readlines() wird der Dateiinhalt in eine Liste gelesen, wobei jede Zeile in einem neuen Listenelement gespeichert wird.\n",
    "with open(\"mailaenderli.txt\", encoding=\"utf-8\") as f:\n",
    "    text = f.readlines()\n",
    "print(f.closed)\n",
    "    print(zeile, end=\"\") # print() fügt eine zusätzliches \\n zu jeder Zeile hinzu, mit end=\"\" kann dies verhindert werden"
   ]
  },
  {
   "cell_type": "markdown",
   "metadata": {},
   "source": [
    "## Variante mit for-Schleife"
   ]
  },
  {
   "cell_type": "code",
   "execution_count": null,
   "metadata": {},
   "outputs": [],
   "source": [
    "# Möchte man die Datei zeilenweise lesen, dann kann man auch direkt mit Hilfe des File-Objekts über den Dateiinhalt iterieren. \n",
    "with open('mailaenderli.txt', encoding='utf-8') as f:\n",
    "    for zeile in f:\n",
    "        print(zeile, end='')"
   ]
  },
  {
   "cell_type": "markdown",
   "metadata": {},
   "source": [
    "# Datei schreiben"
   ]
  },
  {
   "cell_type": "code",
   "execution_count": null,
   "metadata": {},
   "outputs": [],
   "source": [
    "personen = ['Alice', 'Bob',  'Charlie']"
   ]
  },
  {
   "cell_type": "code",
   "execution_count": null,
   "metadata": {},
   "outputs": [],
   "source": [
    "# Mit writelines() den Inhalt einer Liste in eine Datei schreiben\n",
    "with open('rangliste.txt', 'w', encoding='utf-8') as f:\n",
    "    f.writelines(personen)"
   ]
  },
  {
   "cell_type": "code",
   "execution_count": null,
   "metadata": {},
   "outputs": [],
   "source": [
    "# Überprüfen\n",
    "with open('rangliste.txt') as f:\n",
    "    print(f.read())"
   ]
  },
  {
   "cell_type": "code",
   "execution_count": null,
   "metadata": {},
   "outputs": [],
   "source": [
    "# Mit write() Text- oder Byte-Objekte in eine Datei schreiben\n",
    "with open('rangliste.txt', 'w', encoding='utf-8') as f:\n",
    "    for n, person in enumerate(personen, start=1):\n",
    "        f.write(f\"{n}. {person} \\n\")"
   ]
  },
  {
   "cell_type": "code",
   "execution_count": null,
   "metadata": {},
   "outputs": [],
   "source": [
    "# Überprüfen\n",
    "with open('rangliste.txt') as f:\n",
    "    print(f.read())"
   ]
  }
 ],
 "metadata": {
  "kernelspec": {
   "display_name": "Python 3 (ipykernel)",
   "language": "python",
   "name": "python3"
  },
  "language_info": {
   "codemirror_mode": {
    "name": "ipython",
    "version": 3
   },
   "file_extension": ".py",
   "mimetype": "text/x-python",
   "name": "python",
   "nbconvert_exporter": "python",
   "pygments_lexer": "ipython3",
   "version": "3.9.7"
  }
 },
 "nbformat": 4,
 "nbformat_minor": 2
}
