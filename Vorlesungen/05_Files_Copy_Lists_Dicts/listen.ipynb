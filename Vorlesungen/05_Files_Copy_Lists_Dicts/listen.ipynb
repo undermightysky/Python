{
 "cells": [
  {
   "cell_type": "markdown",
   "metadata": {},
   "source": [
    "# Listen im Detail\n",
    "\n",
    "Eine Liste ist eine Sammlung beliebiger Objekte. \n",
    "Listen sind veränderlich  und können während der Laufzeit neue Objekte aufnehmen oder abgeben.\n",
    "Listen werden in Python definiert, indem eine durch Komma getrennte Folge von Objekten in eckige Klammern [ ] eingeschlossen wird, wie unten gezeigt:"
   ]
  },
  {
   "cell_type": "markdown",
   "metadata": {},
   "source": [
    "## Liste erstellen"
   ]
  },
  {
   "cell_type": "code",
   "execution_count": null,
   "metadata": {},
   "outputs": [],
   "source": [
    "liste = ['a', 'b', 'c']"
   ]
  },
  {
   "cell_type": "code",
   "execution_count": 1,
   "metadata": {},
   "outputs": [],
   "source": [
    "liste = list(('a', 'b', 'c'))"
   ]
  },
  {
   "cell_type": "code",
   "execution_count": null,
   "metadata": {},
   "outputs": [],
   "source": [
    "liste2 = liste.copy()"
   ]
  },
  {
   "cell_type": "markdown",
   "metadata": {},
   "source": [
    "## Element hinzufügen"
   ]
  },
  {
   "cell_type": "code",
   "execution_count": null,
   "metadata": {},
   "outputs": [],
   "source": [
    "liste = ['a', 'b', 'c']"
   ]
  },
  {
   "cell_type": "code",
   "execution_count": null,
   "metadata": {},
   "outputs": [],
   "source": [
    "# Ein Element am Ende einfügen\n",
    "liste.append('X')  # am Ende\n",
    "liste"
   ]
  },
  {
   "cell_type": "code",
   "execution_count": null,
   "metadata": {},
   "outputs": [],
   "source": [
    "# Ein Element an einem bestimmten Index einfügen\n",
    "liste.insert(2, 'Y')  # mit Index\n",
    "liste"
   ]
  },
  {
   "cell_type": "markdown",
   "metadata": {},
   "source": [
    "Mehrere Elemente hinzufügen"
   ]
  },
  {
   "cell_type": "code",
   "execution_count": null,
   "metadata": {},
   "outputs": [],
   "source": [
    "liste = ['a', 'b', 'c']"
   ]
  },
  {
   "cell_type": "code",
   "execution_count": null,
   "metadata": {},
   "outputs": [],
   "source": [
    "# Elemente am Ende mit Hilfe des + Operators einfügen\n",
    "liste += [3, 4]\n",
    "liste"
   ]
  },
  {
   "cell_type": "code",
   "execution_count": null,
   "metadata": {},
   "outputs": [],
   "source": [
    "# Elemente am Ende hinzufügen\n",
    "liste.extend([5, 6])\n",
    "liste"
   ]
  },
  {
   "cell_type": "code",
   "execution_count": null,
   "metadata": {},
   "outputs": [],
   "source": [
    "# Das geht\n",
    "t = ([],[])\n",
    "t[0].extend([1,2])\n",
    "t"
   ]
  },
  {
   "cell_type": "code",
   "execution_count": null,
   "metadata": {},
   "outputs": [],
   "source": [
    "# Das geht nicht\n",
    "t = ([],[])\n",
    "t[0] = [1, 2]\n",
    "t"
   ]
  },
  {
   "cell_type": "markdown",
   "metadata": {},
   "source": [
    "Mehrere Elemente zwischendrin einfügen:"
   ]
  },
  {
   "cell_type": "code",
   "execution_count": null,
   "metadata": {},
   "outputs": [],
   "source": [
    "liste[3:3] = ['#', '$']\n",
    "liste"
   ]
  },
  {
   "cell_type": "markdown",
   "metadata": {},
   "source": [
    "## Element ersetzen"
   ]
  },
  {
   "cell_type": "markdown",
   "metadata": {},
   "source": [
    "Einzelnes Element:"
   ]
  },
  {
   "cell_type": "code",
   "execution_count": null,
   "metadata": {},
   "outputs": [],
   "source": [
    "liste[1] = 'B'\n",
    "liste"
   ]
  },
  {
   "cell_type": "markdown",
   "metadata": {},
   "source": [
    "Einen ganzen Bereich:"
   ]
  },
  {
   "cell_type": "code",
   "execution_count": null,
   "metadata": {},
   "outputs": [],
   "source": [
    "liste[3:] = ['D', 'E']\n",
    "liste"
   ]
  },
  {
   "cell_type": "markdown",
   "metadata": {},
   "source": [
    "## Element entfernen"
   ]
  },
  {
   "cell_type": "code",
   "execution_count": null,
   "metadata": {},
   "outputs": [],
   "source": [
    "liste = ['a', 'b', 'c', 'd', 'e', 'f']"
   ]
  },
  {
   "cell_type": "code",
   "execution_count": null,
   "metadata": {},
   "outputs": [],
   "source": [
    "# Das letzte Element entfernen\n",
    "    element = liste.pop()\n",
    "print(element)\n",
    "liste"
   ]
  },
  {
   "cell_type": "code",
   "execution_count": null,
   "metadata": {
    "scrolled": true
   },
   "outputs": [],
   "source": [
    "# Ein Element an einem bestimmten Index entfernen\n",
    "element = liste.pop(0)\n",
    "print(element)\n",
    "liste"
   ]
  },
  {
   "cell_type": "code",
   "execution_count": null,
   "metadata": {},
   "outputs": [],
   "source": [
    "# Das erste Element mit einem bestimmten Wert entfernen\n",
    "liste.remove('c')\n",
    "liste"
   ]
  },
  {
   "cell_type": "markdown",
   "metadata": {},
   "source": [
    "## Elemente untersuchen"
   ]
  },
  {
   "cell_type": "code",
   "execution_count": null,
   "metadata": {},
   "outputs": [],
   "source": [
    "# Zähle alle Elemente mit einem bestimmten Wert\n",
    "liste = [\"a\", \"a\", \"b\", 1, 2, 3]\n",
    "liste.count(\"a\")"
   ]
  },
  {
   "cell_type": "code",
   "execution_count": null,
   "metadata": {},
   "outputs": [],
   "source": [
    "# Index des ersten ELements mit einem bestimmten Wert\n",
    "liste.index(2)"
   ]
  },
  {
   "cell_type": "markdown",
   "metadata": {},
   "source": [
    "## Elemente sortieren"
   ]
  },
  {
   "cell_type": "markdown",
   "metadata": {},
   "source": [
    "**sorted()** liefert eine neue sortierte Liste zurück:"
   ]
  },
  {
   "cell_type": "code",
   "execution_count": null,
   "metadata": {},
   "outputs": [],
   "source": [
    "liste = [2, 5, 3, 4, 1]\n",
    "sortiert = sorted(liste)\n",
    "print('Liste:', liste) \n",
    "print('sortiert:', sortiert)"
   ]
  },
  {
   "cell_type": "code",
   "execution_count": null,
   "metadata": {},
   "outputs": [],
   "source": [
    "t = (5,4,3)\n",
    "sortiert = sorted(t)\n",
    "sortiert"
   ]
  },
  {
   "cell_type": "code",
   "execution_count": null,
   "metadata": {},
   "outputs": [],
   "source": [
    "s = 'python'\n",
    "sortiert = sorted(s)\n",
    "sortiert"
   ]
  },
  {
   "cell_type": "markdown",
   "metadata": {},
   "source": [
    "**sort()** modifiziert die Liste selbst (In-Place-Sortierung):"
   ]
  },
  {
   "cell_type": "code",
   "execution_count": null,
   "metadata": {},
   "outputs": [],
   "source": [
    "    liste.sort()\n",
    "liste"
   ]
  },
  {
   "cell_type": "markdown",
   "metadata": {},
   "source": [
    "## Flache vs. tiefe Kopie\n",
    "\n",
    "Wie bereits bekannt ist, wird in Python keine Kopie eines Objektes erzeugt, wenn wir Variablen anderen Variablen zuweisen. Die Zuweisungsanweisung bindet lediglich den Namen an ein Objekt. Bei unveränderlichen Objekten führt dies nicht zu \"Problemen\", da bei der Veränderung des unveränderlichen Objektes automatisch ein neues unveränderliches Objekt mit dem neuen Inhalt erzeugt wird und die Variable dieses neue Objekt referenziert. \n",
    "\n",
    "Veränderliche Objekte wie Listen, Dictionaries oder Sets können mit Hilfe der eingebauten Funktionen list(), dict() und set() kopiert werden. Hierbei wird jedoch nur eine flache Kopie erzeugt, was zu unerwünschtem Verhalten führen kann, wenn man Änderungen am kopierten Objekt vornimmt: "
   ]
  },
  {
   "cell_type": "code",
   "execution_count": null,
   "metadata": {
    "scrolled": true
   },
   "outputs": [],
   "source": [
    "# Die untergeordneten Objekte werden nicht kopiert, sondern lediglich in der neuen Liste erneut referenziert.\n",
    "# Eine Änderung an einem untergeordneten (veränderlichen) Objekt wird daher in beiden Variablen widerspiegelt.\n",
    "liste1 = [[1, 2], [3, 4], \"abc\"]\n",
    "liste2 = list(liste1)\n",
    "liste2[0][0] = 100\n",
    "print(liste2)\n",
    "print(liste1)\n"
   ]
  },
  {
   "cell_type": "code",
   "execution_count": null,
   "metadata": {
    "scrolled": true
   },
   "outputs": [],
   "source": [
    "# Bei der (flach) kopierten Liste handelt es sich jedoch um ein eigenständiges Objekt. Dies kann man zeigen, indem \n",
    "# man der kopierten Liste ein neues untergeordnetes Objekt hinzufügt. Diese Änderung findet sich nur in der neuen Liste, \n",
    "# jedoch nicht in der ursprünglichen Liste, da es sich bei der kopierten Liste auf \"oberster\" Ebene um ein neues Objekt handelt. \n",
    "liste2.append(\"neues untergeordnetes Objekt\")\n",
    "print(liste2)\n",
    "print(liste1)"
   ]
  },
  {
   "cell_type": "markdown",
   "metadata": {},
   "source": [
    "Eine flache Kopie ist also nur eine Ebene tief, die Kopie ist nicht rekursiv und erzeugt daher keine Kopien der untergeordneten Objekte selbst. \n",
    "\n",
    "Um eine echte Kopie des Objektes zu erhalten, muss eine so genannte tiefe Kopie (deep Copy) des Objektes erzeugt werden: "
   ]
  },
  {
   "cell_type": "code",
   "execution_count": null,
   "metadata": {
    "scrolled": true
   },
   "outputs": [],
   "source": [
    "import copy\n",
    "liste1 = [[1, 2], [3, 4], \"abc\"]\n",
    "liste2 = copy.deepcopy(liste1)\n",
    "liste2[0][0] = 100\n",
    "print(liste2)\n",
    "print(liste1)"
   ]
  }
 ],
 "metadata": {
  "kernelspec": {
   "display_name": "Python 3 (ipykernel)",
   "language": "python",
   "name": "python3"
  },
  "language_info": {
   "codemirror_mode": {
    "name": "ipython",
    "version": 3
   },
   "file_extension": ".py",
   "mimetype": "text/x-python",
   "name": "python",
   "nbconvert_exporter": "python",
   "pygments_lexer": "ipython3",
   "version": "3.9.7"
  }
 },
 "nbformat": 4,
 "nbformat_minor": 2
}
