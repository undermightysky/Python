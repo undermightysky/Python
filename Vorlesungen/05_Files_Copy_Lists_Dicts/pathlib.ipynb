{
 "cells": [
  {
   "cell_type": "markdown",
   "metadata": {},
   "source": [
    "# Pathlib Modul\n",
    "\n",
    "**Das Thema Pathlib Modul ist nicht prüfungsrelevant, es ist jedoch für viele Anwendungen sehr hilfreich, die im folgenden Notebook gezeigten Methoden und Attribute zu kennen.**\n",
    "\n",
    "Neben dem einfach Lesen und Schreiben von Dateien möchte man vielleicht auch komplexere Aufgaben lösen, bei denen man auf das Dateisystem des Computers zugreifen muss. Bspw. möchte man nur Dateien eines bestimmten Dateityps auflisten und diese in einen neuen Ordner kopieren oder ein neues File erzeugen, dessen Namen im Ordner noch nicht existiert.  \n",
    "\n",
    "Bis Python 3.4 waren solche Aufgaben etwas mühsam zu bewerkstelligen, da die verschiedenen Funktionen, um solche Probleme zu lösen, auf diverse Bibliotheken verteilt waren.\n",
    "\n",
    "Das Modul pathlib wurde in Python 3.4 (PEP 428) eingeführt, um mit diesen Herausforderungen umzugehen. Es sammelt die notwendige Funktionalität an einem Ort und stellt sie über Methoden und Eigenschaften auf einem einfach zu verwendenden Path-Objekt zur Verfügung.\n",
    "\n",
    "Seit Python 3.6 wird das Modul pathlib von der gesamten Standardbibliothek unterstützt. \n",
    "\n",
    "Um Pathlib nutzen zu können, muss sie mit **import pathlib** importiert werden. "
   ]
  },
  {
   "cell_type": "code",
   "execution_count": null,
   "metadata": {},
   "outputs": [],
   "source": [
    "import pathlib\n",
    "my_cwd = pathlib.WindowsPath.cwd()\n",
    "my_cwd\n",
    "hasattr(pathlib, \"Path\")"
   ]
  },
  {
   "cell_type": "markdown",
   "metadata": {},
   "source": [
    "## Pfade erzeugen\n",
    "\n",
    "Die pathlib Bibliothek bietet einige nützliche Methoden, um Pfade zu erzeugen und zu ändern. "
   ]
  },
  {
   "cell_type": "markdown",
   "metadata": {},
   "source": [
    "** Pfad auf das aktuelle Arbeitsverzeichnis **"
   ]
  },
  {
   "cell_type": "code",
   "execution_count": null,
   "metadata": {},
   "outputs": [],
   "source": [
    "my_cwd = pathlib.Path.cwd()\n",
    "my_cwd"
   ]
  },
  {
   "cell_type": "markdown",
   "metadata": {},
   "source": [
    "** Pfad auf das aktuelle Homeverzeichnis **"
   ]
  },
  {
   "cell_type": "code",
   "execution_count": null,
   "metadata": {},
   "outputs": [],
   "source": [
    "my_home = pathlib.Path.home()\n",
    "my_home"
   ]
  },
  {
   "cell_type": "markdown",
   "metadata": {},
   "source": [
    "**Pfad aus einem String erzeugen:** \n",
    "\n",
    "Achtung:\n",
    "Unter Windows ist das Pfad-Trennzeichen ein Backslash \\\\. In vielen Kontexten wird der Backslash jedoch auch als Escape-Zeichen verwendet, um nicht druckbare Zeichen darzustellen. \n",
    "Um Probleme zu vermeiden, sollten bei der Erstellung eines Windows-Pfades so genannte rohe String-Literale verwendet werden. Dies sind String-Literale, denen ein r vorangestellt ist. In rohen String-Literalen steht das \\ für einen literalen Backslash: r'C:\\Users'."
   ]
  },
  {
   "cell_type": "code",
   "execution_count": null,
   "metadata": {},
   "outputs": [],
   "source": [
    "my_path = pathlib.Path(r\"D:\\Documents\\Projekte\")\n",
    "my_path"
   ]
  },
  {
   "cell_type": "markdown",
   "metadata": {},
   "source": [
    "**Pfad zusammen setzen:** \n",
    "\n",
    "Pfade können mit Hilfe des / Operators zusammen gesetzt werden und zwar unabhängig davon für welche Plattform der Pfad zusammen gesetzt wird (Unix, Windows...). Der / Operator kann mehrere Pfade oder eine Mischung aus Pfaden und Strings verbinden, es muss einfach mindestens ein Path-Objekt verwendet werden:  "
   ]
  },
  {
   "cell_type": "code",
   "execution_count": null,
   "metadata": {},
   "outputs": [],
   "source": [
    "my_path = pathlib.Path.home() / \"Unterricht\" / \"Python\" / \"test.py\"\n",
    "my_path"
   ]
  },
  {
   "cell_type": "markdown",
   "metadata": {},
   "source": [
    "Dasselbe Ergebnis kann auch mit der joinpath() Methode erreicht werden:  "
   ]
  },
  {
   "cell_type": "code",
   "execution_count": null,
   "metadata": {},
   "outputs": [],
   "source": [
    "my_path = pathlib.Path.home().joinpath(\"Unterricht\", \"Python\", \"test.py\")\n",
    "my_path"
   ]
  },
  {
   "cell_type": "markdown",
   "metadata": {},
   "source": [
    "## Pfadkomponenten extrahieren\n",
    "\n",
    "Oftmals sind nur Teile des gesamten Pfades von Interesse, die Pathlib Bibliothek bietet dafür einige Properties, mit denen die einzelnen Pfadkomponenten aus dem Path-Objekt extrahiert werden kann: "
   ]
  },
  {
   "cell_type": "code",
   "execution_count": null,
   "metadata": {},
   "outputs": [],
   "source": [
    "my_path = pathlib.Path.home().joinpath(\"Unterricht\", \"Python\", \"test.py\")"
   ]
  },
  {
   "cell_type": "code",
   "execution_count": null,
   "metadata": {},
   "outputs": [],
   "source": [
    "my_path.name   # Extrahierung des Dateinamens"
   ]
  },
  {
   "cell_type": "code",
   "execution_count": null,
   "metadata": {},
   "outputs": [],
   "source": [
    "my_path.parent # Extrahierung des Pfades ohne die angegebene Datei oder das letzte im Pfad gegebene Verzeichnis"
   ]
  },
  {
   "cell_type": "code",
   "execution_count": null,
   "metadata": {},
   "outputs": [],
   "source": [
    "my_path.stem   # Extrahierung des Dateinamens ohne den Dateityp"
   ]
  },
  {
   "cell_type": "code",
   "execution_count": null,
   "metadata": {},
   "outputs": [],
   "source": [
    "my_path.suffix # Extrahierung des Dateityps"
   ]
  },
  {
   "cell_type": "code",
   "execution_count": null,
   "metadata": {},
   "outputs": [],
   "source": [
    "my_path.anchor # Extrahierung des Drives ohne Verzeichnisse"
   ]
  },
  {
   "cell_type": "markdown",
   "metadata": {},
   "source": [
    "## Nützliche Methoden"
   ]
  },
  {
   "cell_type": "markdown",
   "metadata": {},
   "source": [
    "** Dateien lesen und schreiben **"
   ]
  },
  {
   "cell_type": "code",
   "execution_count": null,
   "metadata": {},
   "outputs": [],
   "source": [
    "my_file = pathlib.Path.cwd().joinpath(\"mailaenderli.txt\")"
   ]
  },
  {
   "cell_type": "code",
   "execution_count": null,
   "metadata": {},
   "outputs": [],
   "source": [
    "my_file.read_text() # Öffnet die Datei und gibt den Inhalt als str zurück. "
   ]
  },
  {
   "cell_type": "code",
   "execution_count": null,
   "metadata": {},
   "outputs": [],
   "source": [
    "my_file.write_text(\"\\nEn Guete\") # Öffnet die Datei und schreibt die Daten als string. \n",
    "                                 # Sollte die Datei bereits existieren, wird es überschrieben"
   ]
  },
  {
   "cell_type": "markdown",
   "metadata": {},
   "source": [
    "** Dateien/Verzeichnisse testen und modifizieren **\n",
    "\n",
    "Mit Hilfe der pathlib Bibliothek hat man auch Zugriff auf grundlegende Operationen auf Dateisystemebene wie das Verschieben, Aktualisieren oder Löschen von Dateien/Verzeichnissen. \n",
    "In den meisten Fällen warten diese Methoden nicht auf eine Bestätigung des Users oder geben eine Warnung aus, bevor Informationen gelöscht oder verschoben werden."
   ]
  },
  {
   "cell_type": "code",
   "execution_count": null,
   "metadata": {},
   "outputs": [],
   "source": [
    "pathlib.Path.cwd().joinpath(\"Rezepte\").mkdir()   # Verzeichnis erstellen\n",
    "# pathlib.Path.cwd().joinpath(\"Rezepte\").rmdir() # Verzeichnis löschen"
   ]
  },
  {
   "cell_type": "code",
   "execution_count": null,
   "metadata": {},
   "outputs": [],
   "source": [
    "# Ein File in ein anderes Verzeichnis verschieben, sollte sich ein File mit demselben Namen bereits in diesem Ordner befinden, \n",
    "# so wird das File überschrieben!\n",
    "old_path = pathlib.Path.cwd().joinpath(\"mailaenderli.txt\")\n",
    "new_path = pathlib.Path.cwd().joinpath(\"Rezepte\", my_file.name)\n",
    "old_path.replace(new_path)"
   ]
  },
  {
   "cell_type": "code",
   "execution_count": null,
   "metadata": {},
   "outputs": [],
   "source": [
    "# Prüfen, ob sich dasselbe File bereits im Zielordner befindet\n",
    "if not new_path.exists():\n",
    "    old_path.replace(new_path)"
   ]
  },
  {
   "cell_type": "code",
   "execution_count": null,
   "metadata": {},
   "outputs": [],
   "source": [
    "# Ein File in ein anderes Verzeichnis kopieren\n",
    "with new_path.open(mode='xb') as f:\n",
    "    f.write(old_path.read_bytes())"
   ]
  },
  {
   "cell_type": "code",
   "execution_count": null,
   "metadata": {},
   "outputs": [],
   "source": [
    "# Prüfen, ob der Pfad auf ein File zeigt\n",
    "new_path.is_file()"
   ]
  },
  {
   "cell_type": "code",
   "execution_count": null,
   "metadata": {},
   "outputs": [],
   "source": [
    "# Prüfen, ob der Pfad auf ein Verzeichnis zeigt\n",
    "pathlib.Path.cwd().is_dir()"
   ]
  },
  {
   "cell_type": "code",
   "execution_count": null,
   "metadata": {},
   "outputs": [],
   "source": [
    "# Alle Files eines bestimmten Datentyps in einem Verzeichnis als Liste\n",
    "list(pathlib.Path().glob(\"*.ipynb\"))"
   ]
  }
 ],
 "metadata": {
  "kernelspec": {
   "display_name": "Python 3 (ipykernel)",
   "language": "python",
   "name": "python3"
  },
  "language_info": {
   "codemirror_mode": {
    "name": "ipython",
    "version": 3
   },
   "file_extension": ".py",
   "mimetype": "text/x-python",
   "name": "python",
   "nbconvert_exporter": "python",
   "pygments_lexer": "ipython3",
   "version": "3.9.7"
  }
 },
 "nbformat": 4,
 "nbformat_minor": 2
}
