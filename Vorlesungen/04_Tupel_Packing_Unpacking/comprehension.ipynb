{
 "cells": [
  {
   "cell_type": "markdown",
   "metadata": {},
   "source": [
    "# Abstraktionen, Comprehensions\n",
    "\n",
    "Comprehensions (auf dt. Abstraktionen) sind Erzeugungsvorschriften für die Erzeugung von Instanzen iterierbarer Objekte. Sie sind ein Werkzeug zur Erstellung, Filterung und Änderung iterierbarer Objekte und in der richtigen Verwendung gleichzeitig auch übersichtlicher und einfacher zu interpretieren als herkömmliche Lösungen mit Schleifen."
   ]
  },
  {
   "cell_type": "markdown",
   "metadata": {},
   "source": [
    "## List Comprehension\n",
    "\n",
    "Die einfachste Form einer list comprehension ist in Python wie folgt aufgebaut: <br>\n",
    "*values = [expression for item in iterable]* <br>\n",
    "Der erste Ausdruck *expression* erzeugt Elemente in der Liste, gefolgt von einer for Schleife über eine Sammlung von Daten bzw. über jedes iterierbare Objekt, welches seine gespeicherten Elemente einzeln zurück geben kann. <br>\n",
    "Des Weiteren können if/else Bedingungen zur Filterung oder Änderung der Elemente genutzt werden."
   ]
  },
  {
   "cell_type": "markdown",
   "metadata": {},
   "source": [
    "#### Beispiel 1 (konventionell)"
   ]
  },
  {
   "cell_type": "code",
   "execution_count": null,
   "metadata": {},
   "outputs": [],
   "source": [
    "quadratzahlen = []\n",
    "for n in range(11):\n",
    "    quadratzahlen.append(n*n)\n",
    "\n",
    "print(quadratzahlen)"
   ]
  },
  {
   "cell_type": "markdown",
   "metadata": {},
   "source": [
    "#### Beispiel 1 (mit List Comprehension)"
   ]
  },
  {
   "cell_type": "code",
   "execution_count": null,
   "metadata": {},
   "outputs": [],
   "source": [
    "quadratzahlen = [n*n for n in range(11)]\n",
    "\n",
    "print(quadratzahlen)"
   ]
  },
  {
   "cell_type": "markdown",
   "metadata": {},
   "source": [
    "Comprehension werden häufig auch im Zusammenhang mit Funktionsaufrufen genutzt, man kann sich so die Referenz auf das Objekt sparen: "
   ]
  },
  {
   "cell_type": "code",
   "execution_count": null,
   "metadata": {},
   "outputs": [],
   "source": [
    "max([n*n for n in range(11)])"
   ]
  },
  {
   "cell_type": "markdown",
   "metadata": {},
   "source": [
    "#### Beispiel 2 (konventionell)"
   ]
  },
  {
   "cell_type": "code",
   "execution_count": null,
   "metadata": {},
   "outputs": [],
   "source": [
    "kilometer = [30, 50, 60, 80, 100, 120]\n",
    "meilen = []\n",
    "for km in kilometer:\n",
    "    meilen.append(km*0.621371)\n",
    "\n",
    "print(meilen)"
   ]
  },
  {
   "cell_type": "markdown",
   "metadata": {},
   "source": [
    "#### Beispiel 2 (mit List Comprehension)"
   ]
  },
  {
   "cell_type": "code",
   "execution_count": null,
   "metadata": {},
   "outputs": [],
   "source": [
    "kilometer = [30, 50, 60, 80, 100, 120]\n",
    "meilen = [km*0.621371 for km in kilometer]\n",
    "\n",
    "print(meilen)"
   ]
  },
  {
   "cell_type": "markdown",
   "metadata": {},
   "source": [
    "## Set Comprehension"
   ]
  },
  {
   "cell_type": "markdown",
   "metadata": {},
   "source": [
    "#### Konventionell:"
   ]
  },
  {
   "cell_type": "code",
   "execution_count": null,
   "metadata": {},
   "outputs": [],
   "source": [
    "menge = set()\n",
    "for x in range(6):\n",
    "    for y in range(6):\n",
    "        menge.add(x*y)\n",
    "\n",
    "print(menge)"
   ]
  },
  {
   "cell_type": "markdown",
   "metadata": {},
   "source": [
    "#### mit Set Comprehension:"
   ]
  },
  {
   "cell_type": "code",
   "execution_count": null,
   "metadata": {},
   "outputs": [],
   "source": [
    "menge = {x*y for x in range(6) for y in range(6)}\n",
    "\n",
    "print(menge)"
   ]
  },
  {
   "cell_type": "markdown",
   "metadata": {},
   "source": [
    "## Dict Comprehension"
   ]
  },
  {
   "cell_type": "code",
   "execution_count": null,
   "metadata": {
    "scrolled": true
   },
   "outputs": [],
   "source": [
    "namen = [\"Gallati\", \"Meier\", \"Kurz\", \"Feldmann\"]\n",
    "mein_dict = {name:name.count('a') for name in namen}\n",
    "mein_dict"
   ]
  },
  {
   "cell_type": "markdown",
   "metadata": {},
   "source": [
    "## Bestehende Listen filtern"
   ]
  },
  {
   "cell_type": "markdown",
   "metadata": {},
   "source": [
    "Beispiel: Nur Zahlen behalten, deren Werte positiv sind"
   ]
  },
  {
   "cell_type": "code",
   "execution_count": null,
   "metadata": {},
   "outputs": [],
   "source": [
    "zahlen = [3, -1.5, 7, -3.8, 9, -4, -2, 12]"
   ]
  },
  {
   "cell_type": "markdown",
   "metadata": {},
   "source": [
    "#### Konventionell:"
   ]
  },
  {
   "cell_type": "code",
   "execution_count": null,
   "metadata": {},
   "outputs": [],
   "source": [
    "zahlen_neu = []\n",
    "for zahl in zahlen:\n",
    "    if zahl > 0:\n",
    "        zahlen_neu.append(zahl)\n",
    "print(zahlen_neu)"
   ]
  },
  {
   "cell_type": "markdown",
   "metadata": {},
   "source": [
    "#### Mit List Comprehension:\n",
    "\n",
    "Mit Hilfe einer **if Bedingung am Ende der Comprehension** können **Elemente aus der Liste gefiltert** werden. "
   ]
  },
  {
   "cell_type": "code",
   "execution_count": null,
   "metadata": {},
   "outputs": [],
   "source": [
    "zahlen_neu = [zahl for zahl in zahlen if zahl > 0]\n",
    "\n",
    "print(zahlen_neu)"
   ]
  },
  {
   "cell_type": "markdown",
   "metadata": {},
   "source": [
    "## Bestehende Listen filtern und Elemente auf Grund einer Kondition ändern"
   ]
  },
  {
   "cell_type": "markdown",
   "metadata": {},
   "source": [
    "Beispiel: Nur Zahlen behalten, deren Werte positiv sind, ansonsten 0 setzen (nicht heraus filtern)"
   ]
  },
  {
   "cell_type": "code",
   "execution_count": null,
   "metadata": {},
   "outputs": [],
   "source": [
    "zahlen = [3, -1.5, 7, -3.8, 9, -4, -2, 12]"
   ]
  },
  {
   "cell_type": "markdown",
   "metadata": {},
   "source": [
    "#### Konventionell:"
   ]
  },
  {
   "cell_type": "code",
   "execution_count": null,
   "metadata": {},
   "outputs": [],
   "source": [
    "zahlen_neu = []\n",
    "for zahl in zahlen:\n",
    "    if zahl > 0:\n",
    "        zahlen_neu.append(zahl)\n",
    "    else: \n",
    "        zahlen_neu.append(0)\n",
    "print(zahlen_neu)"
   ]
  },
  {
   "cell_type": "markdown",
   "metadata": {},
   "source": [
    "#### Mit List Comprehension:\n",
    "\n",
    "Mit Hilfe einer **if Bedingung vor der for Schleife** können **Elemente vor der Speicherung in der Liste auf Grund der gegebenen konditionalen Bedingung geändert** werden. <br>\n",
    "Ein \"unerwünschter\" Wert wird hier also nicht einfach heraus gefiltert, sondern geändert und ebenfalls in der Liste gespeichert. "
   ]
  },
  {
   "cell_type": "code",
   "execution_count": null,
   "metadata": {},
   "outputs": [],
   "source": [
    "zahlen_neu = [zahl if zahl > 0 else 0 for zahl in zahlen]\n",
    "\n",
    "print(zahlen_neu)"
   ]
  },
  {
   "cell_type": "markdown",
   "metadata": {},
   "source": [
    "Es können auch mehrere if/else Bedingungen verschachtelt werden:"
   ]
  },
  {
   "cell_type": "code",
   "execution_count": null,
   "metadata": {},
   "outputs": [],
   "source": [
    "zahlen_neu = [zahl if zahl > 0 else (10000 if zahl==-4 else 0) for zahl in zahlen]\n",
    "\n",
    "print(zahlen_neu)"
   ]
  },
  {
   "cell_type": "markdown",
   "metadata": {},
   "source": [
    "#### Readability counts!<br>\n",
    "\n",
    "Mit Comprehensions können stark verschachtelte Schleifen abgebildet werden, die jedoch vielleicht überhaupt nicht mehr einfach zu lesen sind. In solchen Fällen sollte man eher auf die konventionelle Schreibweise zurück greifen. "
   ]
  },
  {
   "cell_type": "code",
   "execution_count": null,
   "metadata": {},
   "outputs": [],
   "source": [
    "zahlen = [f'teilbar durch 2 und 5: {n:>2}' if n % 2 == 0 and n % 5 == 0 else f'teilbar durch 2: {n:>8}' if n % 2 == 0 else f'teilbar durch 5: {n:>8}' if n % 5 == 0 else f'Rest: {n:>19}' for n in range(100)]\n",
    "for zahl in zahlen: \n",
    "    print(zahl)"
   ]
  },
  {
   "cell_type": "code",
   "execution_count": null,
   "metadata": {},
   "outputs": [],
   "source": [
    "zahlen = []\n",
    "for n in range(100):\n",
    "    if n % 2 == 0 and n % 5 == 0:\n",
    "        zahlen.append(f'teilbar durch 2 und 5: {n:>2}')\n",
    "    elif n % 2 == 0:\n",
    "        zahlen.append(f'teilbar durch 2: {n:>8}')\n",
    "    elif n % 5 == 0:\n",
    "        zahlen.append(f'teilbar durch 5: {n:>8}')\n",
    "    else:\n",
    "        zahlen.append(f'Rest: {n:>19}')\n",
    "\n",
    "for zahl in zahlen: \n",
    "    print(zahl)"
   ]
  },
  {
   "cell_type": "markdown",
   "metadata": {},
   "source": [
    "**Comprehensions sollten nicht \"missbraucht\" werden.** <br>\n",
    "Das Ziel im folgenden Beispiel ist nicht die Erstellung einer Liste mit den Zahlen 0 bis 5 sondern einfach die Ausgabe der Zahlen auf die Konsole. <br>\n",
    "Es wird zwar eine Liste erzeugt, diese ist jedoch mit None gefüllt, wobei es sich um den jeweiligen Rückgabewert der print()-Funktion handelt. <br>\n",
    "Wenn man als Programmierer eine Comprehension sieht, dann geht man davon aus, dass hier ein neues Iterable gebaut wird."
   ]
  },
  {
   "cell_type": "code",
   "execution_count": null,
   "metadata": {},
   "outputs": [],
   "source": [
    "[print(n) for n in range(5)]"
   ]
  },
  {
   "cell_type": "markdown",
   "metadata": {},
   "source": [
    "## Liste von Zahlen => formatierter String"
   ]
  },
  {
   "cell_type": "markdown",
   "metadata": {},
   "source": [
    "#### Konventionell:"
   ]
  },
  {
   "cell_type": "code",
   "execution_count": null,
   "metadata": {},
   "outputs": [],
   "source": [
    "temp = []\n",
    "for km, mi in zip(kilometer, meilen):\n",
    "    temp.append('{:.0f}km={:.0f}mi'.format(km, mi))\n",
    "s = ', '.join(temp)\n",
    "\n",
    "print(s)"
   ]
  },
  {
   "cell_type": "markdown",
   "metadata": {},
   "source": [
    "#### Mit List Comprehension:"
   ]
  },
  {
   "cell_type": "code",
   "execution_count": null,
   "metadata": {},
   "outputs": [],
   "source": [
    "s = ', '.join(['{:.0f}km={:.0f}mi'.format(km, mi) for km, mi in zip(kilometer, meilen)])\n",
    "\n",
    "print(s)"
   ]
  },
  {
   "cell_type": "markdown",
   "metadata": {},
   "source": [
    "## Liste der Schachbrett-Felder"
   ]
  },
  {
   "cell_type": "code",
   "execution_count": null,
   "metadata": {},
   "outputs": [],
   "source": [
    "buchstaben = ['a', 'b', 'c', 'd', 'e', 'f', 'g', 'h']\n",
    "zahlen = [1, 2, 3, 4, 5, 6, 7, 8]"
   ]
  },
  {
   "cell_type": "markdown",
   "metadata": {},
   "source": [
    "#### Konventionell:"
   ]
  },
  {
   "cell_type": "code",
   "execution_count": null,
   "metadata": {},
   "outputs": [],
   "source": [
    "felder = []\n",
    "for b in buchstaben:\n",
    "    for z in zahlen:\n",
    "        felder.append(b + str(z))\n",
    "\n",
    "print(felder)"
   ]
  },
  {
   "cell_type": "markdown",
   "metadata": {},
   "source": [
    "#### Mit List Comprehension: "
   ]
  },
  {
   "cell_type": "code",
   "execution_count": null,
   "metadata": {},
   "outputs": [],
   "source": [
    "felder = [b + str(z) for b in buchstaben for z in zahlen]\n",
    "\n",
    "print(felder)"
   ]
  },
  {
   "cell_type": "markdown",
   "metadata": {},
   "source": [
    "## Vergleich konventionelle Lösung vs. Comprehension bezüglich Ausführungszeit\n",
    "\n",
    "Bei **einfachen, nicht rechenintensiven Ausdrücken ist die Comprehension schneller als die konventionelle Lösung**. <br>\n",
    "Dies liegt daran, weil bei den Comprehensions die \"append\"-Funktion (als Beispiel bei den Listen) nicht bei jeder Iteration geladen und als Funktion aufgerufen werden muss. <br>\n",
    "\n",
    "Sobald der Ausdruck jedoch etwas rechenintensiver wird, wird die Zeit, welche man durch die Comprehension spart, verhältnismässig klein im Vergleich zur Rechenzeit, die für den Ausdruck alleine aufgewendet wird.\n",
    "Das heisst bei Iterationen über bereits mässig rechenintensive Funktionen macht es keinen Sinn, sich darüber Gedanken zu machen, ob man eine Comprehension oder die konventionelle Lösung mit der for-Schleife verwenden soll, da die Laufzeit fast identisch ist. Man soll sich eher fragen, welche der beiden Möglichkeiten für das gegebene Problem bezüglich Verständlichkeit und Leserlichkeit sinnvoller ist. "
   ]
  },
  {
   "cell_type": "markdown",
   "metadata": {},
   "source": [
    "#### Beispiel 1 (nicht rechenintensiver Ausdruck)"
   ]
  },
  {
   "cell_type": "code",
   "execution_count": null,
   "metadata": {},
   "outputs": [],
   "source": [
    "import timeit\n",
    "\n",
    "def example1():\n",
    "    liste1 = []\n",
    "    for k in range(100):\n",
    "        liste1.append(k)   \n",
    "    return liste1\n",
    "        \n",
    "def example2():\n",
    "    return [k for k in range(100)]\n",
    "\n",
    "print(f\"Ausführungszeit konventionelle Lösung: {timeit.timeit(lambda: example1(), number=10000)*1000} ms\")\n",
    "print(f\"Ausführungszeit Comprehension  Lösung: {timeit.timeit(lambda: example2(), number=10000)*1000} ms\")"
   ]
  },
  {
   "cell_type": "markdown",
   "metadata": {},
   "source": [
    "#### Beispiel 2 (rechenintensiver Ausdruck)"
   ]
  },
  {
   "cell_type": "code",
   "execution_count": null,
   "metadata": {},
   "outputs": [],
   "source": [
    "import timeit\n",
    "\n",
    "def example1():\n",
    "    liste1 = []\n",
    "    for k in range(100):\n",
    "        liste1.append(k**2 + k**3 + k**4)   \n",
    "    return liste1\n",
    "        \n",
    "def example2():\n",
    "    return [k**2 + k**3 + k**4 for k in range(100)]\n",
    "\n",
    "print(f\"Ausführungszeit konventionelle Lösung: {timeit.timeit(lambda: example1(), number=10000)*1000} ms\")\n",
    "print(f\"Ausführungszeit Comprehension  Lösung: {timeit.timeit(lambda: example2(), number=10000)*1000} ms\")"
   ]
  }
 ],
 "metadata": {
  "kernelspec": {
   "display_name": "Python 3 (ipykernel)",
   "language": "python",
   "name": "python3"
  },
  "language_info": {
   "codemirror_mode": {
    "name": "ipython",
    "version": 3
   },
   "file_extension": ".py",
   "mimetype": "text/x-python",
   "name": "python",
   "nbconvert_exporter": "python",
   "pygments_lexer": "ipython3",
   "version": "3.9.7"
  }
 },
 "nbformat": 4,
 "nbformat_minor": 2
}
