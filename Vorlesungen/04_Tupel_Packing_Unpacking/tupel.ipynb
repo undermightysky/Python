{
 "cells": [
  {
   "cell_type": "markdown",
   "metadata": {},
   "source": [
    "# Tupel im Detail"
   ]
  },
  {
   "cell_type": "markdown",
   "metadata": {},
   "source": [
    "### Packing\n",
    "Beim Tupel Packing werden einzelne Werte (oder allgemein Objekte) in einem Tupel zusammengefasst (gepackt). "
   ]
  },
  {
   "cell_type": "code",
   "execution_count": null,
   "metadata": {},
   "outputs": [],
   "source": [
    "t = 'Peter', 'Müller'\n",
    "t "
   ]
  },
  {
   "cell_type": "markdown",
   "metadata": {},
   "source": [
    "### Unpacking\n",
    "Beim Unpacking werden die im Tupel \"gepackten\" Objekte auf einzelne Variabeln entpackt. <br>\n",
    "Dies erreicht man, indem man die für die Objekte vorgesehenen Variablen kommasepariert links des Gleichheitszeichens angibt. Rechts vom Gleichheitszeichen steht der Name des Tupels. "
   ]
  },
  {
   "cell_type": "code",
   "execution_count": null,
   "metadata": {},
   "outputs": [],
   "source": [
    "vorname, nachname = t\n",
    "print(vorname)\n",
    "print(nachname)"
   ]
  },
  {
   "cell_type": "markdown",
   "metadata": {},
   "source": [
    "Das Unpacking haben wir bereits in Zusammenhang mit der for-Schleife und der enumerate() Funktion kennen gelernt: "
   ]
  },
  {
   "cell_type": "code",
   "execution_count": null,
   "metadata": {},
   "outputs": [],
   "source": [
    "fruechte = [\"Apfel\", \"Birne\", \"Erdbeere\", \"Ananas\"]\n",
    "\n",
    "for zahl,frucht in enumerate(fruechte):\n",
    "    print(zahl, frucht)"
   ]
  },
  {
   "cell_type": "markdown",
   "metadata": {},
   "source": [
    "### Mehrfachzuweisung\n",
    "Mit dem Mechanismus des Tupel Packings und Unpackings ist es möglich, auf einer Zeile mehrere Variabeln zu erstellen und diesen gleichzeitig Werte zu übergeben."
   ]
  },
  {
   "cell_type": "code",
   "execution_count": null,
   "metadata": {},
   "outputs": [],
   "source": [
    "vorname, nachname = 'Peter', 'Müller'\n",
    "print(vorname)\n",
    "print(nachname)"
   ]
  },
  {
   "cell_type": "markdown",
   "metadata": {},
   "source": [
    "### Unpacking mit Rest\n",
    "Der **Unpacking Syntax** ist natürlich sehr praktisch, jedoch hat er ein **paar Schwächen**: \n",
    "   - Bei den oben gezeigten Beispielen müssen immer genau so viele Variablen auf der linken Seite des Gleichheitszeichens stehen wie es zu entpackende Objekte im Tupel hat. \n",
    "   - Manchmal weiss man nicht, wie viele Objekte im Tupel überhaupt vorhanden sind, man müsste die Anzahl Objekte zuerst abfragen. \n",
    "   - Hat es sehr viele Objekte im Tupel, dann müsste man für jedes Objekt im Tupel eine Variable auf der linken Seite liefern. <br>\n",
    "   \n",
    "Diese Schwächen können mit dem **\\* Operator** umgangen werden: <br> \n",
    "Der **\\* Operator** packt **mehrere (bzw. die \"restlichen\") Werte vom Tupel in eine Liste**. <br>\n",
    "Diese \"Rest\" Variable kann am **Anfang**, in der **Mitte** oder am **Ende** stehen, es darf jedoch **nur eine Variable mit \\* Operator** auf der linken Seite stehen. "
   ]
  },
  {
   "cell_type": "code",
   "execution_count": null,
   "metadata": {},
   "outputs": [],
   "source": [
    "t = ('Peter', 'Müller', 'Oberseestrasse 10', 8640, 'Rapperswil')\n",
    "vorname, nachname, *adresse = t\n",
    "print(vorname)\n",
    "print(nachname)\n",
    "print(adresse)"
   ]
  },
  {
   "cell_type": "code",
   "execution_count": null,
   "metadata": {},
   "outputs": [],
   "source": [
    "t = ('Peter', 'Müller', 'Oberseestrasse 10', 8640, 'Rapperswil')\n",
    "vorname, *mitte, wohnort = t\n",
    "print(vorname)\n",
    "print(mitte)\n",
    "print(wohnort)"
   ]
  },
  {
   "cell_type": "code",
   "execution_count": null,
   "metadata": {},
   "outputs": [],
   "source": [
    "t = ('Peter', 'Müller', 'Oberseestrasse 10', 8640, 'Rapperswil')\n",
    "*anfang, postleitzahl, wohnort  = t\n",
    "print(anfang)\n",
    "print(postleitzahl)\n",
    "print(wohnort)"
   ]
  },
  {
   "cell_type": "markdown",
   "metadata": {},
   "source": [
    "### Iterable Unpacking\n",
    "Die Funktion zum Entpacken von Tupeln wurde unter Python-Entwicklern so beliebt, dass die Syntax so erweitert wurde, dass sie mit jedem iterierbaren Objekt funktioniert. Die einzige Voraussetzung ist, dass das iterierbare Objekt genau ein Element pro Variable im empfangenden Tupel (oder der Liste) liefert."
   ]
  },
  {
   "cell_type": "markdown",
   "metadata": {},
   "source": [
    "String Unpacking"
   ]
  },
  {
   "cell_type": "code",
   "execution_count": null,
   "metadata": {},
   "outputs": [],
   "source": [
    "a, b, c = 'ABC'\n",
    "print(a)\n",
    "print(b)\n",
    "print(c)"
   ]
  },
  {
   "cell_type": "markdown",
   "metadata": {},
   "source": [
    "List Unpacking"
   ]
  },
  {
   "cell_type": "code",
   "execution_count": null,
   "metadata": {},
   "outputs": [],
   "source": [
    "a, b, c = [1, 2, 3]\n",
    "print(a)\n",
    "print(b)\n",
    "print(c)"
   ]
  },
  {
   "cell_type": "markdown",
   "metadata": {},
   "source": [
    "Unpacking mit Rest geht ebenfalls"
   ]
  },
  {
   "cell_type": "code",
   "execution_count": null,
   "metadata": {},
   "outputs": [],
   "source": [
    "a, b, c, *rest = [1, 2, 3, 4, \"hallo\", 5.90]\n",
    "print(a)\n",
    "print(b)\n",
    "print(c)\n",
    "print(rest)"
   ]
  },
  {
   "cell_type": "markdown",
   "metadata": {},
   "source": [
    "### Unpacking von verschachtelten Daten\n",
    "Es ist auch möglich verschachtelte Datenstrukturen zu entpacken. Hierbei muss auf der linken Seite ein Tupel in der passenden Form (also passend zum Tupel in den verschachtelten Daten) geliefert werden. "
   ]
  },
  {
   "cell_type": "code",
   "execution_count": null,
   "metadata": {},
   "outputs": [],
   "source": [
    "x = [1, 2, (3, 4)]\n",
    "a, b, (c, d) = x\n",
    "print(a)\n",
    "print(b)\n",
    "print(c)\n",
    "print(d)"
   ]
  },
  {
   "cell_type": "code",
   "execution_count": null,
   "metadata": {},
   "outputs": [],
   "source": [
    "x = [1, 2, (3, [4, 5])]\n",
    "a, b, (c, (d, e)) = x\n",
    "print(a)\n",
    "print(b)\n",
    "print(c)\n",
    "print(d)\n",
    "print(e)"
   ]
  },
  {
   "cell_type": "markdown",
   "metadata": {},
   "source": [
    "### Unpacking innerhalb eines Iterables\n",
    "Mit Hilfe des \\* Operators kann man **Iterables auch in anderen Iterables entpacken**."
   ]
  },
  {
   "cell_type": "code",
   "execution_count": null,
   "metadata": {},
   "outputs": [],
   "source": [
    "list1 = [1, 2, \"hallo\"]\n",
    "list2 = [*list1, 1, 4, 5]\n",
    "print(list2)"
   ]
  }
 ],
 "metadata": {
  "kernelspec": {
   "display_name": "Python 3 (ipykernel)",
   "language": "python",
   "name": "python3"
  },
  "language_info": {
   "codemirror_mode": {
    "name": "ipython",
    "version": 3
   },
   "file_extension": ".py",
   "mimetype": "text/x-python",
   "name": "python",
   "nbconvert_exporter": "python",
   "pygments_lexer": "ipython3",
   "version": "3.9.7"
  }
 },
 "nbformat": 4,
 "nbformat_minor": 2
}
