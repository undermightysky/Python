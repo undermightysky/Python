{
 "cells": [
  {
   "cell_type": "markdown",
   "metadata": {},
   "source": [
    "# Funktionsparameter"
   ]
  },
  {
   "cell_type": "markdown",
   "metadata": {},
   "source": [
    "### Variable Anzahl von Positionsargumenten (*)\n",
    "Der **Parameter \\*args** erlaubt es, einer **Funktion eine beliebige Anzahl Positionsargumente zu übergeben**.<br>\n",
    "Beim Funktionsaufruf werden diese **\"überschüssigen\" Positionsargumente mit Hilfe des \\* Operators in das Tupel args gepackt**. <br>\n",
    "\n",
    "(Der Name *args* muss nicht zwingend so gewählt werden, grundsätzlich kann man irgendeinen Namen für diesen Parameter wählen, jedoch hat sich der Name in der Python-Community etabliert und wird von vielen Programmierern so verwendet. *args* ist eine Abkürzung für *arguments*.)<br>\n",
    "\n",
    "Mit Hilfe des \\*args Parameters kann man auch **steuern, welche Argumente der User zwingend angeben muss** und welche **optional** sind. Im nachfolgenden Beispiel muss für den Parameter *a* beim Funktionsaufruf zwingend ein Argument angegeben werden, Argumente für \\*args sind hingegen optional. "
   ]
  },
  {
   "cell_type": "code",
   "execution_count": null,
   "metadata": {},
   "outputs": [],
   "source": [
    "def mittelwert(a, *args):    \n",
    "    print(f\"{a = }\")\n",
    "    print(f\"{args = }\")\n",
    "    a += sum(args)\n",
    "    return a/(len(args)+1)"
   ]
  },
  {
   "cell_type": "code",
   "execution_count": null,
   "metadata": {},
   "outputs": [],
   "source": [
    "mittelwert(1, 2, 3, 4, 5 ,6)"
   ]
  },
  {
   "cell_type": "markdown",
   "metadata": {},
   "source": [
    "### Variable Anzahl von  Schlüsselwortargumenten (**)\n",
    "\\*\\*kwargs funktioniert genau wie \\*args, akzeptiert aber anstelle von Positionsargumenten nur Schlüsselwortargumente. <br>\n",
    "Beim Funktionsaufruf werden diese **\"überschüssigen\" Schlüsselwortargumente mit Hilfe des \\*\\* Operators in das Dictionary kwargs gepackt**.\n",
    "<br>\n",
    "\n",
    "(Der Name *kwargs* muss nicht zwingend so gewählt werden, grundsätzlich kann man irgendeinen Namen für diesen Parameter wählen, jedoch hat sich der Name in der Python-Community etabliert und wird von vielen Programmierern so verwendet. *kwargs* ist eine Abkürzung für *keyword arguments*.)<br>\n",
    "\n",
    "Mit Hilfe des \\*\\*kwargs Parameters kann man ebenfalls **steuern, welche Argumente der User zwingend angeben muss** und welche **optional** sind. Im nachfolgenden Beispiel muss für den Parameter *a* beim Funktionsaufruf zwingend ein Argument angegeben werden, Argumente für \\*\\*kwargs sind hingegen optional."
   ]
  },
  {
   "cell_type": "code",
   "execution_count": null,
   "metadata": {},
   "outputs": [],
   "source": [
    "def mittelwert(a, **kwargs):\n",
    "    print(f\"{a = }\")\n",
    "    print(f\"{kwargs = }\")\n",
    "    a += sum(kwargs.values())\n",
    "    return a/(len(kwargs.values())+1)"
   ]
  },
  {
   "cell_type": "code",
   "execution_count": null,
   "metadata": {
    "scrolled": true
   },
   "outputs": [],
   "source": [
    "mittelwert(a=1, b=2, c=3, d=4, e=5, f=6)"
   ]
  },
  {
   "cell_type": "markdown",
   "metadata": {},
   "source": [
    "### Kombination beider Möglichkeiten\n",
    "Man kann die **beiden Parameter auch in Kombination verwenden** und so **Funktionen implementieren, welche eine variable Anzahl Positions- UND Schlüsselwortparameter entgegennehmen** können. <br>\n",
    "\n",
    "Hierbei gilt zu beachten, dass **das Dictionary für die Schlüsselwortargumente immer NACH dem Tupel für die Positionsargumente angegeben werden muss**. <br>\n",
    "Denn auch hier gilt: **Alle Positionsargumente müssen VOR den Schlüsselwortargumenten übergeben werden.**"
   ]
  },
  {
   "cell_type": "code",
   "execution_count": null,
   "metadata": {},
   "outputs": [],
   "source": [
    "def mittelwert(a, *args, **kwargs):\n",
    "    print(f'Fester  Parameter a    = {a}')\n",
    "    print(f'Weitere Parameter args = {args}') \n",
    "    print(f'Weitere Parameter kwargs = {kwargs}')\n",
    "    a += sum(args)\n",
    "    a += sum(kwargs.values())\n",
    "    return a/(len(args) + len(kwargs.values()) + 1)  "
   ]
  },
  {
   "cell_type": "code",
   "execution_count": null,
   "metadata": {},
   "outputs": [],
   "source": [
    "mittelwert(2, 3, 7, d=10, e=11, f=12)"
   ]
  },
  {
   "cell_type": "markdown",
   "metadata": {},
   "source": [
    "### Positionsargumente entpacken (\\*)\n",
    "Mit Hilfe des \\* Operators ist es nun also möglich eine variable Anzahl von Positions- und Schlüsselwortargumenten entgegen zu nehmen. <br>\n",
    "\n",
    "Wenn nun aber **die zu übergebenden Argumente in einem Iterable \"verpackt\"** sind, müsste man diese beim Funktionsaufruf einzeln angeben, nur um sie dann wieder in den \\*args Parameter zu packen. Dies muss man glücklicherweise nicht machen, auch hier schafft der \\* Operator Abhilfe! <br>\n",
    "\n",
    "Mit dem **\\* Operator können Positionsargumente direkt beim Funktionsaufruf entpackt** werden. Durch das Entpacken beim Funktionsaufruf werden die Elemente einzeln an die Funktion übergeben und dort mit dem \\* Operator wieder in ein Tupel gepackt. "
   ]
  },
  {
   "cell_type": "code",
   "execution_count": null,
   "metadata": {},
   "outputs": [],
   "source": [
    "def mittelwert(a, *args): \n",
    "    print(f\"{a = }\")\n",
    "    print(f\"{args = }\")\n",
    "    a += sum(args)\n",
    "    return a/(len(args) + 1) "
   ]
  },
  {
   "cell_type": "code",
   "execution_count": null,
   "metadata": {},
   "outputs": [],
   "source": [
    "noten = [4, 6, 5.5, 5, 6, 2, 4, 5, 6, 3.5]\n",
    "mittelwert(*noten)"
   ]
  },
  {
   "cell_type": "markdown",
   "metadata": {},
   "source": [
    "### Schlüsselwortargumente entpacken (\\*\\*)\n",
    "Auch in einem Dictionary gegebene Schlüssewortarguemente können so beim Funktionsaufruf entpackt werden. <br>\n",
    "Hier wird der \\*\\* Operator verwendet und die entpackten Schlüsselwortpaare werden dann mit Hilfe des \\*\\* Operators in der Funktion wieder in das Dictionary kwargs gepackt."
   ]
  },
  {
   "cell_type": "code",
   "execution_count": null,
   "metadata": {},
   "outputs": [],
   "source": [
    "def mittelwert(a, **kwargs): \n",
    "    print(f\"{a = }\")\n",
    "    print(f\"{kwargs = }\")\n",
    "    a += sum(kwargs.values())\n",
    "    return a/(len(kwargs.values())) "
   ]
  },
  {
   "cell_type": "code",
   "execution_count": null,
   "metadata": {},
   "outputs": [],
   "source": [
    "noten = {\"Elektrotechnik\":4, \"Python\":6, \"Englisch\":4, \"Java\":5, \"Elektronik\":5, \"Italienisch\":5}\n",
    "mittelwert(0, **noten)\n",
    "mittelwert(0, Elektrotechnik=4, Python=6, Englisch=4)"
   ]
  },
  {
   "cell_type": "markdown",
   "metadata": {},
   "source": [
    "### Dictionary in ein anderes Dictionary entpacken (\\*\\*)\n",
    "Mit Hilfe des \\* Operators kann man ein Iterable in einem anderen Iterable entpacken (siehe Notebook tupel.ipynb). <br>\n",
    "**Äquivaltent kann man mit Hilfe des \\*\\* Operators Dictionaries in einem anderen Dictionary entpacken.**"
   ]
  },
  {
   "cell_type": "code",
   "execution_count": null,
   "metadata": {},
   "outputs": [],
   "source": [
    "noten1 = {\"Elektrotechnik\":4, \"Python\":6, \"Englisch\":4}\n",
    "noten2 = {\"Programmieren\":5.5, \"Java\":5, \"Italienisch\":5}\n",
    "noten = {\"Elektronik\":5, **noten1, **noten2}\n",
    "print(noten)"
   ]
  }
 ],
 "metadata": {
  "kernelspec": {
   "display_name": "Python 3 (ipykernel)",
   "language": "python",
   "name": "python3"
  },
  "language_info": {
   "codemirror_mode": {
    "name": "ipython",
    "version": 3
   },
   "file_extension": ".py",
   "mimetype": "text/x-python",
   "name": "python",
   "nbconvert_exporter": "python",
   "pygments_lexer": "ipython3",
   "version": "3.9.7"
  }
 },
 "nbformat": 4,
 "nbformat_minor": 2
}
