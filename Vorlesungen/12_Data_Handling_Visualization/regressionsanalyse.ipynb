{
 "cells": [
  {
   "cell_type": "markdown",
   "metadata": {},
   "source": [
    "# Regressionsanalyse"
   ]
  },
  {
   "cell_type": "markdown",
   "metadata": {},
   "source": [
    "## Einführung\n",
    "\n",
    "Die Regressionsanalyse ist einer der wichtigsten Bereiche der Statistik und des maschinellen Lernens. Es gibt verschiedene Regressionsmethoden, eine davon ist die lineare Regression.<br>\n",
    "\n",
    "Allgemein wird bei der Regression nach Beziehungen zwischen Variablen gesucht. So kann man beispielsweise mehrere Mitarbeiter eines Unternehmens beobachten und mittels Regressionsanalyse versuchen zu verstehen, wie das Einkommen eines jeden Mitarbeiters von Merkmalen wie Erfahrung, Bildungsniveau, Funktion, Arbeitsort usw. abhängen. Es wird davon ausgegangen, dass die Erfahrung, die Ausbildung, die Funktion und die Stadt die unabhängigen Merkmale sind, während das Einkommen von ihnen abhängt.\n",
    "\n",
    "Bei der Regressionsanalyse geht man im Allgemeinen von einem bestimmten Phänomen (Einkommen) aus, das von Interesse ist, und hat eine Reihe von Beobachtungen (Mitarbeiter). Jede Beobachtung hat eines oder mehrere Merkmale (Erfahrung, Bildungsniveau, Funktion etc). In diesem Beispiel geht man also von der Annahme aus, dass das Einkommen von mindestens einem der Merkmale abhängt und man versucht eine Beziehung zwischen ihnen herzustellen. \n",
    "\n",
    "Mit anderen Worten: Sie müssen eine Funktion finden, die einige Merkmale oder Variablen ausreichend gut auf andere abbildet.<br>\n",
    "Die Outputs (abhängige Variablen, Antworten) werden in der Regel mit 𝑦 gekennzeichnet und die Inputs (unabhängigen Variablen, Regressoren, Prädiktoren) werden als $x$ bezeichnet. Gibt es zwei oder mehr unabhängige Variablen, so werden sie in einem Vektor zusammengefasst $\\textbf{x} = (x_{1}, \\dots, x_{p})$ dargestellt werden, wobei $p$ die Anzahl der Inputs ist. <br>\n",
    "\n",
    "Das lineare Regressionsmodell geht davon aus, dass die Beziehung zwischen der abhängigen Variable $y$ und dem Vektor der Regressoren $x$ linear ist. Mathematisch kann dies wie folgt formuliert werden: \n",
    "\n",
    "$$ y_{i} = f(x_{i}) =  \\beta_{0} + \\beta_{1}x_{i,1} + \\beta_{2}x_{i,2} + \\dots + \\beta_{p}x_{i,p} + \\varepsilon_{i}$$\n",
    "\n",
    "Mittels linearer Regression werden die Regressionskoeffizienten $\\beta_{0}$, $\\beta_{1}$, $\\dots \\beta_{p}$ für alle $p$ Inputs geschätzt. Dem Modell wird zusätzlich ein Störterm $\\varepsilon_{i}$ hinzugefügt, eine unbeobachtete Zufallsvariable, die der linearen Beziehung zwischen der abhängigen Variable und den Regressoren einen Fehler (bzw. \"Rauschen\") hinzufügt. Das Ziel ist es nun, die Regressionskoeffizienten $\\beta_{0}$, $\\beta_{1}$, $\\dots \\beta_{p}$ so zu schätzen, dass der Fehler $\\varepsilon_{i}$ minimal ist. \n",
    "\n",
    "Für alle nachfolgenden Betrachtungen wird das Modell auf ein Merkmal beschränkt und reduziert sich somit auf folgende Gleichung: \n",
    "\n",
    "$$ y_{i} = f(x_{i}) =  \\beta_{0} + \\beta_{1}x_{i} + \\varepsilon_{i}$$\n",
    "\n",
    "umgestellt nach dem Fehler $\\varepsilon_{i}$\n",
    "\n",
    "$$ \\varepsilon_{i} = y_{i} - \\beta_{0} - \\beta_{1}x_{i}$$\n",
    "\n",
    "Der mit Hilfe der Koeffizienten $\\beta_{0}$ und $\\beta_{1}$ geschätzte Output $f(x_{i})$ für jede Beobachtung $i = 1,\\dots, n$ soll der tatsächlichen Antwort $y_{i}$ so nahe wie möglich sein, oder mit anderen Worten soll $\\varepsilon_{i}$ so gering wie möglich sein. Für die Berechnung der optimalen Koeffizienten, minimiert man normalerweise die Summe der quadrierten Fehler für alle Beobachtungen $1,\\dots, n$:\n",
    "\n",
    "\n",
    "$$ \\min_{\\beta_{0}, \\beta_{1}} Q\\left(\\beta_{0}, \\beta_{1}\\right) \\quad\\mathrm{für}\\quad Q\\left(\\beta_{0}, \\beta_{1}\\right) = \\sum_{i=1}^{n} \\varepsilon_{i}^2 = \\sum_{i=1}^{n} \\left(y_{i} - \\beta_{0} - \\beta_{1}x_{i}\\right)^2 $$\n",
    "\n",
    "Das Minimum der Funktion $Q\\left(\\beta_{0}, \\beta_{1}\\right)$ findet man, indem man deren partielle Ableitungen auf Null setzt: \n",
    "\n",
    "$$\\frac{\\partial Q\\left(\\beta_{0}, \\beta_{1}\\right)}{\\partial \\beta_{0}} = \\sum_{i=1}^{n} -2\\left(y_{i} - \\beta_{0} - \\beta_{1}x_{i}\\right) = 0$$\n",
    "\n",
    "$$\\frac{\\partial Q\\left(\\beta_{0}, \\beta_{1}\\right)}{\\partial \\beta_{1}} = \\sum_{i=1}^{n} -2x_{i}\\left(y_{i} - \\beta_{0} - \\beta_{1}x_{i}\\right) = 0$$\n",
    "\n",
    "(Die Ableitungen lassen sich mit Hilfe der Produktregel einfach berechnen)\n",
    "\n",
    "Die erste Gleichung (partielle Ableitung nach $\\beta_{0}$) lässt sich nun ganz einfach nach $\\beta_{0}$ umstellen. Hierbei kann auch noch folgender Zusammenhang ins Spiel gebracht werden: $\\sum_{i=1}^{n}y_{i} = n\\bar{y}_{i}$, wobei $\\bar{y}_{i}$ der algebraische Mittelwert aller Beobachtungen von $y$ ist. Dasselbe kann man natürlich auch für $x$ anwenden: $\\sum_{i=1}^{n}x_{i} = n\\bar{x}_{i}$. \n",
    "\n",
    "Die erste Gleichung lässt sich somit ausdrücken als\n",
    "\n",
    "$$n\\beta_{0} = n\\bar{y} - n\\beta_{1}\\bar{x},$$ \n",
    "\n",
    "wobei $n$ gekürzt werden kann, was zu folgender vereinfachten Form des Koeffizienten $\\beta_{0}$ führt: \n",
    "\n",
    "$$\\beta_{0} = \\bar{y} - \\beta_{1}\\bar{x}.$$\n",
    "\n",
    "Mit Hilfe der Lösung für $\\beta_\\mathrm{0}$ und der obigen zweiten partiellen Ableitung, lässt sich nun auch eine Lösung für $\\beta_{1}$ herleiten: \n",
    "\n",
    "$$\\sum_{i=1}^{n} x_{i}y_{i} - \\beta_{0}x_{i} - \\beta_{1}x_{i}^2 = 0$$\n",
    "\n",
    "Die Lösung für $\\beta_{0}$  einsetzen: \n",
    "\n",
    "$$\\sum_{i=1}^{n} x_{i}y_{i} - \\left(\\bar{y} - \\beta_{1}\\bar{x}\\right)x_{i} - \\beta_{1}x_{i}^2 = 0$$\n",
    "\n",
    "Die Summe auf die einzelnen Terme verteilen: \n",
    "\n",
    "$$ \\sum_{i=1}^{n}x_{i}y_{i} - \\bar{y}\\sum_{i=1}^{n}x_{i} - \\beta_{1}\\bar{x}\\sum_{i=1}^{n}x_{i} - \\beta_{1}\\sum_{i=1}^{n}x_{i}^2 = 0$$\n",
    "\n",
    "Hierbei wurde auch noch die Eigenschaft genutzt, dass einen konstanten Term (in diesem Falle sind das $\\bar{x}$, $\\bar{y}$ und $\\beta_\\mathrm{1}$) vor eine Summation ziehen kann. \n",
    "\n",
    "Nun wird ein weiteres Mal der Fakt genutzt, dass $\\sum_{i=1}^{n}x_{i} = n\\bar{x}_{i}$ ist: \n",
    "\n",
    "$$ \\sum_{i=1}^{n}x_{i}y_{i} - \\bar{y}n\\bar{x} - \\beta_{1}n\\bar{x}^2 - \\beta_{1}\\sum_{i=1}^{n}x_{i}^2 = 0$$\n",
    "\n",
    "Etwas umgestellt und nach $\\beta_{1}$ aufgelöst ergibt das: \n",
    "\n",
    "$$ \\beta_{1} = \\frac{\\sum_{i=1}^{n}x_{i}y_{i}- n\\bar{x}\\bar{y}}{\\sum_{i=1}^{n}x_{i}^2 - n\\bar{x}^2}$$\n",
    "\n",
    "Die obige Gleichung kann mit Hilfe weiterer algebraischer Umformungen in die folgende hübsche Darstellung gebracht werden: \n",
    "\n",
    "$$ \\beta_{1} = \\frac{\\sum_{i=1}^{n}\\left(x_{i}-\\bar{x}\\right)\\left(y_{i}-\\bar{y}\\right)}{\\sum_{i=1}^{n}\\left(x_{i} - \\bar{x}\\right)^2}$$\n",
    "\n",
    "Die optimalen Koeffizienten des linearen Regressionsproblemes\n",
    "\n",
    "$$ y_{i} = f(x_{i}) =  \\beta_{0} + \\beta_{1}x_{i,1} + \\beta_{2}x_{i,2} + \\dots + \\beta_{r}x_{i,p} + \\varepsilon_{i}$$\n",
    "\n",
    " im Sinne einer gewöhnlichen Kleinste-Quadrate-Schätzung (OLS, ordinary least squares), sind somit\n",
    " \n",
    "$$ \\beta_{0} = \\bar{y} - \\beta_{1}\\bar{x}$$\n",
    "und\n",
    "$$ \\beta_{1} = \\frac{\\sum_{i=1}^{n}\\left(x_{i}-\\bar{x}\\right)\\left(y_{i}-\\bar{y}\\right)}{\\sum_{i=1}^{n}\\left(x_{i} - \\bar{x}\\right)^2}$$\n"
   ]
  },
  {
   "cell_type": "markdown",
   "metadata": {},
   "source": [
    "## Einfaches Beispiel lineare Regression\n",
    "\n",
    "Im Folgenden wird gezeigt, wie eine einfache lineare Regression für echte Daten berechnet werden kann. Es geht hierbei um den Zusammenhang zwischen dem Profit diverser Startups und den von ihnen getätigten Investitionen. Der Datensatz wurde von der Plattform [kaggle](https://www.kaggle.com/datasets/farhanmd29/50-startups) entnommen. "
   ]
  },
  {
   "cell_type": "markdown",
   "metadata": {},
   "source": []
  },
  {
   "cell_type": "code",
   "execution_count": 1,
   "metadata": {},
   "outputs": [],
   "source": [
    "# Import libraries\n",
    "# %matplotlib notebook\n",
    "%matplotlib inline\n",
    "\n",
    "import pandas as pd\n",
    "import matplotlib.pyplot as plt\n",
    "import numpy as np\n",
    "from sklearn.model_selection import train_test_split\n",
    "import seaborn as sns\n",
    "import warnings\n",
    "warnings.filterwarnings('ignore')\n"
   ]
  },
  {
   "cell_type": "markdown",
   "metadata": {},
   "source": [
    "Die Spalten können wie folgt interpretiert werden: \n",
    "   - **R&D Spend**       \n",
    "     Den für Forschung und Entwicklung ausgegebenen Betrag.  \n",
    "   - **Administration**  \n",
    "     Den für Verwaltung der eigenen Firma ausgegebenen Betrag. \n",
    "   - **Marketing Spend**<br>\n",
    "     Den für Marketing ausgegebenen Betrag.\n",
    "   - **State**           \n",
    "     In welchem Staat das Startup beheimatet ist. \n",
    "   - **Profit**          \n",
    "     Der erzeugte Profit. "
   ]
  },
  {
   "cell_type": "code",
   "execution_count": 2,
   "metadata": {},
   "outputs": [
    {
     "data": {
      "text/html": [
       "<div>\n",
       "<style scoped>\n",
       "    .dataframe tbody tr th:only-of-type {\n",
       "        vertical-align: middle;\n",
       "    }\n",
       "\n",
       "    .dataframe tbody tr th {\n",
       "        vertical-align: top;\n",
       "    }\n",
       "\n",
       "    .dataframe thead th {\n",
       "        text-align: right;\n",
       "    }\n",
       "</style>\n",
       "<table border=\"1\" class=\"dataframe\">\n",
       "  <thead>\n",
       "    <tr style=\"text-align: right;\">\n",
       "      <th></th>\n",
       "      <th>R&amp;D Spend</th>\n",
       "      <th>Administration</th>\n",
       "      <th>Marketing Spend</th>\n",
       "      <th>State</th>\n",
       "      <th>Profit</th>\n",
       "    </tr>\n",
       "  </thead>\n",
       "  <tbody>\n",
       "    <tr>\n",
       "      <th>0</th>\n",
       "      <td>165349.20</td>\n",
       "      <td>136897.80</td>\n",
       "      <td>471784.10</td>\n",
       "      <td>New York</td>\n",
       "      <td>192261.83</td>\n",
       "    </tr>\n",
       "    <tr>\n",
       "      <th>1</th>\n",
       "      <td>162597.70</td>\n",
       "      <td>151377.59</td>\n",
       "      <td>443898.53</td>\n",
       "      <td>California</td>\n",
       "      <td>191792.06</td>\n",
       "    </tr>\n",
       "    <tr>\n",
       "      <th>2</th>\n",
       "      <td>153441.51</td>\n",
       "      <td>101145.55</td>\n",
       "      <td>407934.54</td>\n",
       "      <td>Florida</td>\n",
       "      <td>191050.39</td>\n",
       "    </tr>\n",
       "    <tr>\n",
       "      <th>3</th>\n",
       "      <td>144372.41</td>\n",
       "      <td>118671.85</td>\n",
       "      <td>383199.62</td>\n",
       "      <td>New York</td>\n",
       "      <td>182901.99</td>\n",
       "    </tr>\n",
       "    <tr>\n",
       "      <th>4</th>\n",
       "      <td>142107.34</td>\n",
       "      <td>91391.77</td>\n",
       "      <td>366168.42</td>\n",
       "      <td>Florida</td>\n",
       "      <td>166187.94</td>\n",
       "    </tr>\n",
       "  </tbody>\n",
       "</table>\n",
       "</div>"
      ],
      "text/plain": [
       "   R&D Spend  Administration  Marketing Spend       State     Profit\n",
       "0  165349.20       136897.80        471784.10    New York  192261.83\n",
       "1  162597.70       151377.59        443898.53  California  191792.06\n",
       "2  153441.51       101145.55        407934.54     Florida  191050.39\n",
       "3  144372.41       118671.85        383199.62    New York  182901.99\n",
       "4  142107.34        91391.77        366168.42     Florida  166187.94"
      ]
     },
     "execution_count": 2,
     "metadata": {},
     "output_type": "execute_result"
    }
   ],
   "source": [
    "data = pd.read_csv('startups.csv')\n",
    "data.head()"
   ]
  },
  {
   "cell_type": "markdown",
   "metadata": {},
   "source": [
    "Prüfen, ob es [dublizierte Zeilen](https://pandas.pydata.org/docs/reference/api/pandas.DataFrame.duplicated.html) im Datensatz hat: "
   ]
  },
  {
   "cell_type": "code",
   "execution_count": 3,
   "metadata": {},
   "outputs": [
    {
     "data": {
      "text/plain": [
       "0"
      ]
     },
     "execution_count": 3,
     "metadata": {},
     "output_type": "execute_result"
    }
   ],
   "source": [
    "data.duplicated().sum()"
   ]
  },
  {
   "cell_type": "markdown",
   "metadata": {},
   "source": [
    "Prüfen, ob es [Zellen mit NaN](https://pandas.pydata.org/docs/reference/api/pandas.DataFrame.isna.html?highlight=isna#pandas.DataFrame.isna) hat: "
   ]
  },
  {
   "cell_type": "code",
   "execution_count": 4,
   "metadata": {},
   "outputs": [
    {
     "data": {
      "text/plain": [
       "R&D Spend          0\n",
       "Administration     0\n",
       "Marketing Spend    0\n",
       "State              0\n",
       "Profit             0\n",
       "dtype: int64"
      ]
     },
     "execution_count": 4,
     "metadata": {},
     "output_type": "execute_result"
    }
   ],
   "source": [
    "data.isna().sum()"
   ]
  },
  {
   "cell_type": "markdown",
   "metadata": {},
   "source": [
    "Die abhängige Variable ist der Profit"
   ]
  },
  {
   "cell_type": "code",
   "execution_count": 5,
   "metadata": {},
   "outputs": [],
   "source": [
    "y = data['Profit']"
   ]
  },
  {
   "cell_type": "markdown",
   "metadata": {},
   "source": [
    "Die unabhängige Variable muss ebenfalls bestimmt werden"
   ]
  },
  {
   "cell_type": "code",
   "execution_count": 6,
   "metadata": {
    "scrolled": false
   },
   "outputs": [
    {
     "data": {
      "image/png": "[encoded data removed]",
      "text/plain": [
       "<Figure size 432x288 with 1 Axes>"
      ]
     },
     "metadata": {
      "needs_background": "light"
     },
     "output_type": "display_data"
    }
   ],
   "source": [
    "fig, ax = plt.subplots(constrained_layout=True)\n",
    "ax.scatter(data['R&D Spend'], y, label=\"Rohdaten\", s=100,  edgecolors='black')\n",
    "ax.set_xlabel(\"Ausgaben R&D\", fontsize=14)\n",
    "ax.set_ylabel(\"Profit in CHF\", fontsize=14)\n",
    "ax.legend(fontsize=12);\n",
    "plt.show()"
   ]
  },
  {
   "cell_type": "code",
   "execution_count": 7,
   "metadata": {
    "scrolled": false
   },
   "outputs": [
    {
     "data": {
      "image/png": "[encoded data removed]",
      "text/plain": [
       "<Figure size 432x288 with 1 Axes>"
      ]
     },
     "metadata": {
      "needs_background": "light"
     },
     "output_type": "display_data"
    }
   ],
   "source": [
    "fig, ax = plt.subplots(constrained_layout=True)\n",
    "ax.scatter(data['Marketing Spend'], y, label=\"Rohdaten\", s=100,  edgecolors='black')\n",
    "ax.set_xlabel(\"Ausgaben Marketing\", fontsize=14)\n",
    "ax.set_ylabel(\"Profit in CHF\", fontsize=14)\n",
    "ax.legend(fontsize=12);\n",
    "plt.show()"
   ]
  },
  {
   "cell_type": "code",
   "execution_count": 8,
   "metadata": {
    "scrolled": false
   },
   "outputs": [
    {
     "data": {
      "image/png": "[encoded data removed]",
      "text/plain": [
       "<Figure size 432x288 with 1 Axes>"
      ]
     },
     "metadata": {
      "needs_background": "light"
     },
     "output_type": "display_data"
    }
   ],
   "source": [
    "fig, ax = plt.subplots(constrained_layout=True)\n",
    "ax.scatter(data['Administration'], y, label=\"Rohdaten\", s=100,  edgecolors='black')\n",
    "ax.set_xlabel(\"Ausgaben Administration\", fontsize=14)\n",
    "ax.set_ylabel(\"Profit in CHF\", fontsize=14)\n",
    "ax.legend(fontsize=12);"
   ]
  },
  {
   "cell_type": "markdown",
   "metadata": {},
   "source": [
    "Mit Hilfe der [corr()-Methode](https://pandas.pydata.org/docs/reference/api/pandas.DataFrame.corr.html?highlight=corr#pandas.DataFrame.corr) lässt sich alternativ auch die Korrelation zwischen den Daten in den einzelnen Spalten berechnen: "
   ]
  },
  {
   "cell_type": "code",
   "execution_count": 9,
   "metadata": {
    "scrolled": true
   },
   "outputs": [
    {
     "data": {
      "text/html": [
       "<div>\n",
       "<style scoped>\n",
       "    .dataframe tbody tr th:only-of-type {\n",
       "        vertical-align: middle;\n",
       "    }\n",
       "\n",
       "    .dataframe tbody tr th {\n",
       "        vertical-align: top;\n",
       "    }\n",
       "\n",
       "    .dataframe thead th {\n",
       "        text-align: right;\n",
       "    }\n",
       "</style>\n",
       "<table border=\"1\" class=\"dataframe\">\n",
       "  <thead>\n",
       "    <tr style=\"text-align: right;\">\n",
       "      <th></th>\n",
       "      <th>R&amp;D Spend</th>\n",
       "      <th>Administration</th>\n",
       "      <th>Marketing Spend</th>\n",
       "      <th>Profit</th>\n",
       "    </tr>\n",
       "  </thead>\n",
       "  <tbody>\n",
       "    <tr>\n",
       "      <th>R&amp;D Spend</th>\n",
       "      <td>1.000000</td>\n",
       "      <td>0.241955</td>\n",
       "      <td>0.724248</td>\n",
       "      <td>0.972900</td>\n",
       "    </tr>\n",
       "    <tr>\n",
       "      <th>Administration</th>\n",
       "      <td>0.241955</td>\n",
       "      <td>1.000000</td>\n",
       "      <td>-0.032154</td>\n",
       "      <td>0.200717</td>\n",
       "    </tr>\n",
       "    <tr>\n",
       "      <th>Marketing Spend</th>\n",
       "      <td>0.724248</td>\n",
       "      <td>-0.032154</td>\n",
       "      <td>1.000000</td>\n",
       "      <td>0.747766</td>\n",
       "    </tr>\n",
       "    <tr>\n",
       "      <th>Profit</th>\n",
       "      <td>0.972900</td>\n",
       "      <td>0.200717</td>\n",
       "      <td>0.747766</td>\n",
       "      <td>1.000000</td>\n",
       "    </tr>\n",
       "  </tbody>\n",
       "</table>\n",
       "</div>"
      ],
      "text/plain": [
       "                 R&D Spend  Administration  Marketing Spend    Profit\n",
       "R&D Spend         1.000000        0.241955         0.724248  0.972900\n",
       "Administration    0.241955        1.000000        -0.032154  0.200717\n",
       "Marketing Spend   0.724248       -0.032154         1.000000  0.747766\n",
       "Profit            0.972900        0.200717         0.747766  1.000000"
      ]
     },
     "execution_count": 9,
     "metadata": {},
     "output_type": "execute_result"
    }
   ],
   "source": [
    "corr = data.corr()\n",
    "corr"
   ]
  },
  {
   "cell_type": "code",
   "execution_count": 10,
   "metadata": {
    "scrolled": true
   },
   "outputs": [
    {
     "data": {
      "text/html": [
       "<style type=\"text/css\">\n",
       "#T_b32df_row0_col0, #T_b32df_row1_col1, #T_b32df_row2_col2, #T_b32df_row3_col3 {\n",
       "  background-color: #67000d;\n",
       "  color: #f1f1f1;\n",
       "}\n",
       "#T_b32df_row0_col1, #T_b32df_row1_col0 {\n",
       "  background-color: #fcb79c;\n",
       "  color: #000000;\n",
       "}\n",
       "#T_b32df_row0_col2, #T_b32df_row2_col0 {\n",
       "  background-color: #d01d1f;\n",
       "  color: #f1f1f1;\n",
       "}\n",
       "#T_b32df_row0_col3, #T_b32df_row3_col0 {\n",
       "  background-color: #73030f;\n",
       "  color: #f1f1f1;\n",
       "}\n",
       "#T_b32df_row1_col2, #T_b32df_row2_col1 {\n",
       "  background-color: #fff5f0;\n",
       "  color: #000000;\n",
       "}\n",
       "#T_b32df_row1_col3, #T_b32df_row3_col1 {\n",
       "  background-color: #fcc3ab;\n",
       "  color: #000000;\n",
       "}\n",
       "#T_b32df_row2_col3, #T_b32df_row3_col2 {\n",
       "  background-color: #c9181d;\n",
       "  color: #f1f1f1;\n",
       "}\n",
       "</style>\n",
       "<table id=\"T_b32df_\">\n",
       "  <thead>\n",
       "    <tr>\n",
       "      <th class=\"blank level0\" >&nbsp;</th>\n",
       "      <th class=\"col_heading level0 col0\" >R&D Spend</th>\n",
       "      <th class=\"col_heading level0 col1\" >Administration</th>\n",
       "      <th class=\"col_heading level0 col2\" >Marketing Spend</th>\n",
       "      <th class=\"col_heading level0 col3\" >Profit</th>\n",
       "    </tr>\n",
       "  </thead>\n",
       "  <tbody>\n",
       "    <tr>\n",
       "      <th id=\"T_b32df_level0_row0\" class=\"row_heading level0 row0\" >R&D Spend</th>\n",
       "      <td id=\"T_b32df_row0_col0\" class=\"data row0 col0\" >1.000000</td>\n",
       "      <td id=\"T_b32df_row0_col1\" class=\"data row0 col1\" >0.241955</td>\n",
       "      <td id=\"T_b32df_row0_col2\" class=\"data row0 col2\" >0.724248</td>\n",
       "      <td id=\"T_b32df_row0_col3\" class=\"data row0 col3\" >0.972900</td>\n",
       "    </tr>\n",
       "    <tr>\n",
       "      <th id=\"T_b32df_level0_row1\" class=\"row_heading level0 row1\" >Administration</th>\n",
       "      <td id=\"T_b32df_row1_col0\" class=\"data row1 col0\" >0.241955</td>\n",
       "      <td id=\"T_b32df_row1_col1\" class=\"data row1 col1\" >1.000000</td>\n",
       "      <td id=\"T_b32df_row1_col2\" class=\"data row1 col2\" >-0.032154</td>\n",
       "      <td id=\"T_b32df_row1_col3\" class=\"data row1 col3\" >0.200717</td>\n",
       "    </tr>\n",
       "    <tr>\n",
       "      <th id=\"T_b32df_level0_row2\" class=\"row_heading level0 row2\" >Marketing Spend</th>\n",
       "      <td id=\"T_b32df_row2_col0\" class=\"data row2 col0\" >0.724248</td>\n",
       "      <td id=\"T_b32df_row2_col1\" class=\"data row2 col1\" >-0.032154</td>\n",
       "      <td id=\"T_b32df_row2_col2\" class=\"data row2 col2\" >1.000000</td>\n",
       "      <td id=\"T_b32df_row2_col3\" class=\"data row2 col3\" >0.747766</td>\n",
       "    </tr>\n",
       "    <tr>\n",
       "      <th id=\"T_b32df_level0_row3\" class=\"row_heading level0 row3\" >Profit</th>\n",
       "      <td id=\"T_b32df_row3_col0\" class=\"data row3 col0\" >0.972900</td>\n",
       "      <td id=\"T_b32df_row3_col1\" class=\"data row3 col1\" >0.200717</td>\n",
       "      <td id=\"T_b32df_row3_col2\" class=\"data row3 col2\" >0.747766</td>\n",
       "      <td id=\"T_b32df_row3_col3\" class=\"data row3 col3\" >1.000000</td>\n",
       "    </tr>\n",
       "  </tbody>\n",
       "</table>\n"
      ],
      "text/plain": [
       "<pandas.io.formats.style.Styler at 0x7f7f5263bac0>"
      ]
     },
     "execution_count": 10,
     "metadata": {},
     "output_type": "execute_result"
    }
   ],
   "source": [
    "corr.style.background_gradient(cmap='Reds', axis=None)"
   ]
  },
  {
   "cell_type": "markdown",
   "metadata": {},
   "source": [
    "### Schlussfolgerung zu den gemachten Betrachtungen\n",
    "   - Die R&D Ausgaben verhalten sich proportional zum erzielten Profit. \n",
    "   - Die Marketing Ausgaben erscheinen auch proportional zum erzielten Profit. Es hat jedoch einige Ausreisser. \n",
    "   - Die Ausgaben für die Administration sind unkorreliert mit dem erzielten Profit. "
   ]
  },
  {
   "cell_type": "code",
   "execution_count": 11,
   "metadata": {},
   "outputs": [],
   "source": [
    "regr_RD = {\"y\": data['Profit'], \"x\": data['R&D Spend'], \"description\": \"R&D\"}\n",
    "regr_MA = {\"y\": data['Profit'], \"x\": data['Marketing Spend'], \"description\": \"Marketing\"}"
   ]
  },
  {
   "cell_type": "markdown",
   "metadata": {},
   "source": [
    "Die Daten in [Trainings- und Testdaten aufteilen](https://scikit-learn.org/stable/modules/generated/sklearn.model_selection.train_test_split.html)"
   ]
  },
  {
   "cell_type": "code",
   "execution_count": 12,
   "metadata": {},
   "outputs": [],
   "source": [
    "x_train, x_test, y_train, y_test = train_test_split(regr_RD[\"x\"],regr_RD[\"y\"],train_size=0.7,random_state=0)\n",
    "regr_RD[\"x_train\"] = x_train\n",
    "regr_RD[\"x_test\"] = x_test\n",
    "regr_RD[\"y_train\"] = y_train\n",
    "regr_RD[\"y_test\"] = y_test\n",
    "\n",
    "x_train, x_test, y_train, y_test = train_test_split(regr_MA[\"x\"],regr_MA[\"y\"],train_size=0.7,random_state=0)\n",
    "regr_MA[\"x_train\"] = x_train\n",
    "regr_MA[\"x_test\"] = x_test\n",
    "regr_MA[\"y_train\"] = y_train\n",
    "regr_MA[\"y_test\"] = y_test"
   ]
  },
  {
   "cell_type": "markdown",
   "metadata": {},
   "source": [
    "### Einfache lineare Regression \n",
    "$$ \\beta_{0} = \\bar{y} - \\beta_{1}\\bar{x}$$\n",
    "<br>\n",
    "\n",
    "$$ \\beta_{1} = \\frac{\\sum_{i=1}^{n}\\left(x_{i}-\\bar{x}\\right)\\left(y_{i}-\\bar{y}\\right)}{\\sum_{i=1}^{n}\\left(x_{i} - \\bar{x}\\right)^2}$$"
   ]
  },
  {
   "cell_type": "code",
   "execution_count": 13,
   "metadata": {},
   "outputs": [],
   "source": [
    "def linear_regression(x, y):     \n",
    "    x_mean = x.mean()\n",
    "    y_mean = y.mean()\n",
    "    \n",
    "    b1_num = np.sum((x - x_mean) * (y - y_mean))\n",
    "    b1_den = np.sum((x - x_mean)**2)\n",
    "    b1 = b1_num / b1_den\n",
    "    b0 = y_mean - (b1*x_mean)\n",
    "\n",
    "    return (b0, b1)"
   ]
  },
  {
   "cell_type": "markdown",
   "metadata": {},
   "source": [
    "### Berechnung Regressionsgerade"
   ]
  },
  {
   "cell_type": "code",
   "execution_count": 14,
   "metadata": {},
   "outputs": [],
   "source": [
    "regr_RD[\"b0\"], regr_RD[\"b1\"] = linear_regression(regr_RD[\"x_train\"], regr_RD[\"y_train\"])\n",
    "regr_MA[\"b0\"], regr_MA[\"b1\"] = linear_regression(regr_MA[\"x_train\"], regr_MA[\"y_train\"])\n",
    "regr_RD[\"y_pred\"] = regr_RD[\"b0\"] + regr_RD[\"b1\"]*regr_RD[\"x_test\"]\n",
    "regr_MA[\"y_pred\"] = regr_MA[\"b0\"] + regr_MA[\"b1\"]*regr_MA[\"x_test\"]\n",
    "regr_RD[\"R2\"] = np.corrcoef(regr_RD[\"y_pred\"], regr_RD[\"y_test\"])[1,0]**2\n",
    "regr_MA[\"R2\"] = np.corrcoef(regr_MA[\"y_pred\"], regr_MA[\"y_test\"])[1,0]**2"
   ]
  },
  {
   "cell_type": "markdown",
   "metadata": {},
   "source": [
    "Hat man die Regressionskoeffizienten berechnet, so möchte man natürlich wissen, ob der damit geschätzte Output valide ist. \n",
    "Dazu eignet sich der so genannte R2 Score. Dieser lässt sich wie folgt berechnen\n",
    "$$ R^2 = 1-\\frac{\\sum_{i=1}^{n}\\varepsilon_i^2}{\\sum_{i=1}^{n}\\left(y_{i} - \\bar{y}\\right)^2}.$$\n",
    "Es handelt sich hierbei um ein statistisches Mass, das den Anteil der Varianz der abhängigen Variable darstellt, der durch eine oder mehrere unabhängige Variablen in einem Regressionsmodell erklärt wird. Der R2 Wert erklärt also inwieweit die Varianz einer Variablen die Varianz einer zweiten Variablen erklärt. Wenn bspw. der R2 Wert eines Modells 0.5 beträgt, kann etwa die Hälfte der beobachteten Variation durch die Eingaben des Modells erklärt werden. Je grösser der Wert ist, umso besser lässt sich die Variation des Outputs also durch die Variation des Inputs erklären und umso besser \"passt\" das Modell. (Es gibt Fälle, in denen das nicht zutrifft)."
   ]
  },
  {
   "cell_type": "code",
   "execution_count": 15,
   "metadata": {},
   "outputs": [
    {
     "name": "stdout",
     "output_type": "stream",
     "text": [
      "R2 Score R&D Data:        0.950\n",
      "R2 Score Marketing Data:  0.491\n"
     ]
    }
   ],
   "source": [
    "print(f\"R2 Score R&D Data: {regr_RD['R2']:12.3f}\")\n",
    "print(f\"R2 Score Marketing Data: {regr_MA['R2']:6.3f}\")"
   ]
  },
  {
   "cell_type": "markdown",
   "metadata": {},
   "source": [
    "### Betrachtung Regressionsgerade"
   ]
  },
  {
   "cell_type": "code",
   "execution_count": 16,
   "metadata": {
    "scrolled": false
   },
   "outputs": [
    {
     "data": {
      "text/plain": [
       "(-35318.6, 242261.83)"
      ]
     },
     "execution_count": 16,
     "metadata": {},
     "output_type": "execute_result"
    },
    {
     "data": {
      "image/png": "[encoded data removed]",
      "text/plain": [
       "<Figure size 432x720 with 2 Axes>"
      ]
     },
     "metadata": {
      "needs_background": "light"
     },
     "output_type": "display_data"
    }
   ],
   "source": [
    "fig, ax = plt.subplots(nrows=2, ncols=1, tight_layout = True, figsize=(6,10))\n",
    "ax[0].scatter(regr_RD[\"x_train\"], regr_RD[\"y_train\"], s=100, linewidths=1, edgecolor='black')\n",
    "ax[0].set_xlabel(f'{regr_RD[\"description\"]} spend', fontsize=14)\n",
    "ax[0].set_ylabel('Profit', fontsize=14)\n",
    "ax[0].plot(regr_RD[\"x_train\"], regr_RD[\"b0\"] + regr_RD[\"b1\"]*regr_RD[\"x_train\"], c = 'r', linewidth=5, alpha=.5, solid_capstyle='round')\n",
    "ax[0].set_ylim(min(regr_RD[\"y_train\"])-50e3, max(regr_RD[\"y_train\"])+50e3)\n",
    "\n",
    "ax[1].scatter(regr_MA[\"x_train\"], regr_MA[\"y_train\"], s=100, linewidths=1, edgecolor='black')\n",
    "ax[1].set_xlabel(f'{regr_MA[\"description\"]} spend', fontsize=14)\n",
    "ax[1].set_ylabel('Profit', fontsize=14)\n",
    "ax[1].plot(regr_MA[\"x_train\"], regr_MA[\"b0\"] + regr_MA[\"b1\"]*regr_MA[\"x_train\"], c = 'r', linewidth=5, alpha=.5, solid_capstyle='round')\n",
    "ax[1].set_ylim(min(regr_MA[\"y_train\"])-50e3, max(regr_MA[\"y_train\"])+50e3)"
   ]
  },
  {
   "cell_type": "code",
   "execution_count": 17,
   "metadata": {},
   "outputs": [
    {
     "data": {
      "text/plain": [
       "(27798.83, 241050.39)"
      ]
     },
     "execution_count": 17,
     "metadata": {},
     "output_type": "execute_result"
    },
    {
     "data": {
      "image/png": "[encoded data removed]",
      "text/plain": [
       "<Figure size 432x720 with 2 Axes>"
      ]
     },
     "metadata": {
      "needs_background": "light"
     },
     "output_type": "display_data"
    }
   ],
   "source": [
    "fig, ax = plt.subplots(nrows=2, ncols=1, tight_layout = True, figsize=(6,10))\n",
    "ax[0].scatter(regr_RD[\"x_test\"], regr_RD[\"y_test\"], s=100, linewidths=1, edgecolor='black')\n",
    "ax[0].set_xlabel(f'{regr_RD[\"description\"]} spend', fontsize=14)\n",
    "ax[0].set_ylabel('Profit', fontsize=14)\n",
    "ax[0].scatter(regr_RD[\"x_test\"], regr_RD[\"y_pred\"], s=100, linewidths=1, edgecolor='black')\n",
    "ax[0].set_ylim(min(regr_RD[\"y_test\"])-50e3, max(regr_RD[\"y_test\"])+50e3)\n",
    "\n",
    "ax[1].scatter(regr_MA[\"x_test\"], regr_MA[\"y_test\"], s=100, linewidths=1, edgecolor='black')\n",
    "ax[1].set_xlabel(f'{regr_MA[\"description\"]} spend', fontsize=14)\n",
    "ax[1].set_ylabel('Profit', fontsize=14)\n",
    "ax[1].scatter(regr_MA[\"x_test\"], regr_MA[\"y_pred\"], s=100, linewidths=1, edgecolor='black')\n",
    "ax[1].set_ylim(min(regr_MA[\"y_test\"])-50e3, max(regr_MA[\"y_test\"])+50e3)"
   ]
  },
  {
   "cell_type": "markdown",
   "metadata": {},
   "source": [
    "### Absoluter Mittlerer Fehler\n"
   ]
  },
  {
   "cell_type": "code",
   "execution_count": 18,
   "metadata": {},
   "outputs": [
    {
     "name": "stdout",
     "output_type": "stream",
     "text": [
      "MAE R&D Data:      6435.90\n",
      "MAE Marketing Data: 20675.89\n"
     ]
    }
   ],
   "source": [
    "regr_RD[\"MAE\"] = np.mean(np.abs(regr_RD[\"y_pred\"]-regr_RD['y_test']))\n",
    "regr_MA[\"MAE\"] = np.mean(np.abs(regr_MA[\"y_pred\"]-regr_MA['y_test']))\n",
    " \n",
    "print(f\"MAE R&D Data: {regr_RD['MAE']:12.2f}\")\n",
    "print(f\"MAE Marketing Data: {regr_MA['MAE']:6.2f}\")"
   ]
  },
  {
   "cell_type": "code",
   "execution_count": 19,
   "metadata": {},
   "outputs": [
    {
     "name": "stdout",
     "output_type": "stream",
     "text": [
      "MAE R&D Data:         5.75%\n",
      "MAE Marketing Data:  18.46%\n"
     ]
    }
   ],
   "source": [
    "print(f\"MAE R&D Data: {regr_RD['MAE']/np.mean(regr_RD['y'])*100:12.2f}%\")\n",
    "print(f\"MAE Marketing Data: {regr_MA['MAE']/np.mean(regr_MA['y'])*100:6.2f}%\")"
   ]
  },
  {
   "cell_type": "markdown",
   "metadata": {},
   "source": [
    "## Beispiel multiple lineare Regression\n",
    "Regressionsmodell mit den gegebenen Trainingsdaten berechnen"
   ]
  },
  {
   "cell_type": "code",
   "execution_count": 20,
   "metadata": {},
   "outputs": [
    {
     "data": {
      "text/plain": [
       "LinearRegression()"
      ]
     },
     "execution_count": 20,
     "metadata": {},
     "output_type": "execute_result"
    }
   ],
   "source": [
    "from sklearn import linear_model\n",
    "X_train = np.column_stack([regr_RD[\"x_train\"], regr_MA[\"x_train\"]])\n",
    "y_train = regr_RD['y_train']\n",
    "\n",
    "regr_model = linear_model.LinearRegression()\n",
    "regr_model.fit(X_train, y_train)"
   ]
  },
  {
   "cell_type": "markdown",
   "metadata": {},
   "source": [
    "Prediction mit den gegebenen Testdaten und dem Modell berechnen"
   ]
  },
  {
   "cell_type": "code",
   "execution_count": 21,
   "metadata": {
    "scrolled": true
   },
   "outputs": [],
   "source": [
    "X_test = np.column_stack([regr_RD[\"x_test\"], regr_MA[\"x_test\"]])\n",
    "y_test = regr_RD['y_test']\n",
    "y_pred = regr_model.predict(X_test)"
   ]
  },
  {
   "cell_type": "markdown",
   "metadata": {},
   "source": [
    "### Vergleich einfach lineare Regression vs. multiple lineare Regression"
   ]
  },
  {
   "cell_type": "code",
   "execution_count": 22,
   "metadata": {},
   "outputs": [
    {
     "name": "stdout",
     "output_type": "stream",
     "text": [
      "R2 Score R&D/Marketing Data: 0.952\n",
      "R2 Score R&D Data:           0.950\n",
      "R2 Score Marketing Data:     0.491\n"
     ]
    }
   ],
   "source": [
    "R2 = np.corrcoef(y_pred, y_test.values)[1,0]**2\n",
    "print(f\"R2 Score R&D/Marketing Data: {R2:5.3f}\")\n",
    "print(f\"R2 Score R&D Data: {regr_RD['R2']:15.3f}\")\n",
    "print(f\"R2 Score Marketing Data: {regr_MA['R2']:9.3f}\")"
   ]
  },
  {
   "cell_type": "code",
   "execution_count": 23,
   "metadata": {},
   "outputs": [
    {
     "name": "stdout",
     "output_type": "stream",
     "text": [
      "MAE R&D/Marketing Data: 6149.76\n",
      "MAE R&D Data:           6435.90\n",
      "MAE Marketing Data:     20675.89\n"
     ]
    }
   ],
   "source": [
    "MAE = np.mean(np.abs(y_pred-y_test.values))\n",
    "print(f\"MAE R&D/Marketing Data: {MAE:6.2f}\")\n",
    "print(f\"MAE R&D Data: {regr_RD['MAE']:17.2f}\")\n",
    "print(f\"MAE Marketing Data: {regr_MA['MAE']:12.2f}\")"
   ]
  },
  {
   "cell_type": "code",
   "execution_count": 24,
   "metadata": {},
   "outputs": [
    {
     "name": "stdout",
     "output_type": "stream",
     "text": [
      "MAE R&D/Marketing Data:   5.49%\n",
      "MAE R&D Data:             5.75%\n",
      "MAE Marketing Data:       18.46%\n"
     ]
    }
   ],
   "source": [
    "print(f\"MAE R&D/Marketing Data: {MAE/np.mean(regr_MA['y'])*100:6.2f}%\")\n",
    "print(f\"MAE R&D Data: {regr_RD['MAE']/np.mean(regr_MA['y'])*100:16.2f}%\")\n",
    "print(f\"MAE Marketing Data: {regr_MA['MAE']/np.mean(regr_MA['y'])*100:11.2f}%\")"
   ]
  }
 ],
 "metadata": {
  "interpreter": {
   "hash": "2e0d6b2f3e30f743bcbefea442309ec29360532d685ea05bc98680df757342c1"
  },
  "kernelspec": {
   "display_name": "Python 3.9.7 ('base')",
   "language": "python",
   "name": "python3"
  },
  "language_info": {
   "codemirror_mode": {
    "name": "ipython",
    "version": 3
   },
   "file_extension": ".py",
   "mimetype": "text/x-python",
   "name": "python",
   "nbconvert_exporter": "python",
   "pygments_lexer": "ipython3",
   "version": "3.9.7"
  }
 },
 "nbformat": 4,
 "nbformat_minor": 2
}
