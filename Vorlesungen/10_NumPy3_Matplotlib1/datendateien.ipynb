{
 "cells": [
  {
   "cell_type": "markdown",
   "metadata": {},
   "source": [
    "# Lesen und Schreiben von Datendateien"
   ]
  },
  {
   "cell_type": "code",
   "execution_count": 1,
   "metadata": {},
   "outputs": [],
   "source": [
    "import numpy as np"
   ]
  },
  {
   "cell_type": "code",
   "execution_count": 2,
   "metadata": {},
   "outputs": [
    {
     "data": {
      "text/plain": [
       "array([[ 0,  1,  2,  3,  4],\n",
       "       [ 5,  6,  7,  8,  9],\n",
       "       [10, 11, 12, 13, 14],\n",
       "       [15, 16, 17, 18, 19],\n",
       "       [20, 21, 22, 23, 24],\n",
       "       [25, 26, 27, 28, 29],\n",
       "       [30, 31, 32, 33, 34],\n",
       "       [35, 36, 37, 38, 39],\n",
       "       [40, 41, 42, 43, 44],\n",
       "       [45, 46, 47, 48, 49],\n",
       "       [50, 51, 52, 53, 54],\n",
       "       [55, 56, 57, 58, 59],\n",
       "       [60, 61, 62, 63, 64],\n",
       "       [65, 66, 67, 68, 69],\n",
       "       [70, 71, 72, 73, 74],\n",
       "       [75, 76, 77, 78, 79],\n",
       "       [80, 81, 82, 83, 84],\n",
       "       [85, 86, 87, 88, 89],\n",
       "       [90, 91, 92, 93, 94],\n",
       "       [95, 96, 97, 98, 99]])"
      ]
     },
     "execution_count": 2,
     "metadata": {},
     "output_type": "execute_result"
    }
   ],
   "source": [
    "x = np.arange(100).reshape(20,5)\n",
    "x"
   ]
  },
  {
   "cell_type": "code",
   "execution_count": null,
   "metadata": {},
   "outputs": [],
   "source": [
    "# Array speichern\n",
    "np.savetxt(\"my_data.txt\", x)"
   ]
  },
  {
   "cell_type": "code",
   "execution_count": null,
   "metadata": {},
   "outputs": [],
   "source": [
    "# Array speichern mit Formatierung\n",
    "np.savetxt(\"my_data2.txt\", x, fmt=\"%02d\")"
   ]
  },
  {
   "cell_type": "code",
   "execution_count": null,
   "metadata": {},
   "outputs": [],
   "source": [
    "# Array speichern mit Formatierung und Delimiter\n",
    "np.savetxt(\"my_data3.txt\", x, fmt=\"%02d\", delimiter=\",\")"
   ]
  },
  {
   "cell_type": "code",
   "execution_count": null,
   "metadata": {},
   "outputs": [],
   "source": [
    "# Array laden\n",
    "y = np.loadtxt(\"my_data.txt\")\n",
    "print(y)"
   ]
  },
  {
   "cell_type": "code",
   "execution_count": null,
   "metadata": {},
   "outputs": [],
   "source": [
    "# Array laden mit Delimiter\n",
    "y2 = np.loadtxt(\"my_data3.txt\", delimiter=\",\")\n",
    "print(y2)"
   ]
  },
  {
   "cell_type": "code",
   "execution_count": null,
   "metadata": {},
   "outputs": [],
   "source": [
    "# Array laden mit Delimiter und spezifischen Spalten\n",
    "y3 = np.loadtxt(\"my_data3.txt\", delimiter=\",\", usecols=(0,2,4))\n",
    "print(y3)"
   ]
  },
  {
   "cell_type": "markdown",
   "metadata": {},
   "source": [
    "Man kann das zurückgegebene Array beim Laden gleichzeitig auch noch transponieren und auf diese Weise die Daten zeilenweise in einzelne Vektoren entpacken: "
   ]
  },
  {
   "cell_type": "code",
   "execution_count": null,
   "metadata": {},
   "outputs": [],
   "source": [
    "# Entweder mit dem Schlüsselwortargument \"unpack\"\n",
    "y1, y2, y3 = np.loadtxt(\"my_data3.txt\", delimiter=\",\", usecols=(0,2,4), unpack=True)\n",
    "# oder mittels Transponierung\n",
    "# y1, y2, y3 = np.loadtxt(\"my_data3.txt\", delimiter=\",\", usecols=(0,2,4)).T\n",
    "print(y1)\n",
    "print(y2)\n",
    "print(y3)"
   ]
  }
 ],
 "metadata": {
  "interpreter": {
   "hash": "2e0d6b2f3e30f743bcbefea442309ec29360532d685ea05bc98680df757342c1"
  },
  "kernelspec": {
   "display_name": "Python 3.9.7 ('base')",
   "language": "python",
   "name": "python3"
  },
  "language_info": {
   "codemirror_mode": {
    "name": "ipython",
    "version": 3
   },
   "file_extension": ".py",
   "mimetype": "text/x-python",
   "name": "python",
   "nbconvert_exporter": "python",
   "pygments_lexer": "ipython3",
   "version": "3.9.7"
  }
 },
 "nbformat": 4,
 "nbformat_minor": 2
}
