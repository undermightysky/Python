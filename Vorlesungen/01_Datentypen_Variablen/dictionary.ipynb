{
 "cells": [
  {
   "cell_type": "markdown",
   "metadata": {},
   "source": [
    "# Dictionary"
   ]
  },
  {
   "cell_type": "code",
   "execution_count": null,
   "metadata": {},
   "outputs": [],
   "source": [
    "# key: value\n",
    "# key muss unveränderlich sein\n",
    "steckbrief = {\n",
    "    \"Vorname\": \"Pippi\",\n",
    "    \"Nachname\": \"Langstrumpf\",\n",
    "    \"Alter\" : 9,\n",
    "    \"Hobbies\": [\"Reiten\", \"Spielen\", \"Krafttraining\"],\n",
    "}\n",
    "steckbrief"
   ]
  },
  {
   "cell_type": "code",
   "execution_count": null,
   "metadata": {},
   "outputs": [],
   "source": [
    "# Groesse dictionary\n",
    "len(steckbrief)"
   ]
  },
  {
   "cell_type": "markdown",
   "metadata": {},
   "source": [
    "## Zugriff"
   ]
  },
  {
   "cell_type": "code",
   "execution_count": null,
   "metadata": {},
   "outputs": [],
   "source": [
    "# Zugriff auf Wert eines Schluessels\n",
    "name = steckbrief[\"Vorname\"]\n",
    "name"
   ]
  },
  {
   "cell_type": "code",
   "execution_count": null,
   "metadata": {},
   "outputs": [],
   "source": [
    "# Bestehender Wert ändern\n",
    "steckbrief[\"Alter\"] = 10\n",
    "steckbrief"
   ]
  },
  {
   "cell_type": "code",
   "execution_count": null,
   "metadata": {},
   "outputs": [],
   "source": [
    "# Neues Schlüssel-Wertpaar hinzufügen\n",
    "steckbrief[\"Haarfarbe\"] = \"blau\"\n",
    "steckbrief"
   ]
  },
  {
   "cell_type": "code",
   "execution_count": null,
   "metadata": {},
   "outputs": [],
   "source": [
    "# Zugriff über get-Funktion verhindert Fehler\n",
    "# adresse = steckbrief['Adresse']\n",
    "adresse = steckbrief.get(\"Adresse\", \"Not found :-(\")\n",
    "adresse"
   ]
  },
  {
   "cell_type": "code",
   "execution_count": null,
   "metadata": {},
   "outputs": [],
   "source": [
    "# Schlüssel-Wert Paar entfernen\n",
    "steckbrief.pop(\"Haarfarbe\")\n",
    "steckbrief"
   ]
  }
 ],
 "metadata": {
  "kernelspec": {
   "display_name": "Python 3",
   "language": "python",
   "name": "python3"
  },
  "language_info": {
   "codemirror_mode": {
    "name": "ipython",
    "version": 3
   },
   "file_extension": ".py",
   "mimetype": "text/x-python",
   "name": "python",
   "nbconvert_exporter": "python",
   "pygments_lexer": "ipython3",
   "version": "3.6.5"
  }
 },
 "nbformat": 4,
 "nbformat_minor": 2
}
