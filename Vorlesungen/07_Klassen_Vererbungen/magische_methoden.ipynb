{
 "cells": [
  {
   "cell_type": "markdown",
   "metadata": {},
   "source": [
    "# Klassen"
   ]
  },
  {
   "cell_type": "markdown",
   "metadata": {},
   "source": [
    "## Magische Methoden"
   ]
  },
  {
   "cell_type": "markdown",
   "metadata": {},
   "source": [
    "Die sogenannten magischen Methoden (oder Dunder Methoden) sind weder obskur noch haben sie etwas mit Magie\n",
    "zu tun. Es sind spezielle Methoden, um Klassen besondere Fähigkeiten zu geben. Einige dieser Methoden (wie bspw. die **\\_\\_init\\_\\_( )** Methode) werden im Hintergrund ohne unser aktives Zutun ausgeführt, mit anderen (bspw. **\\_\\_add\\_\\_( )**) können Operatoren überladen werden. Es werden hier nur einige Beispiele gezeigt.<br>\n",
    "Eine ausführlicher Beschreibung **aller Dunder Methoden** sind unter folgendem Link zu finden:<br> \n",
    "https://docs.python.org/3/reference/datamodel.html#special-method-names"
   ]
  },
  {
   "cell_type": "markdown",
   "metadata": {},
   "source": [
    "### Grundmethoden\n",
    "https://docs.python.org/3/reference/datamodel.html#basic-customization\n",
    "\n",
    "Die **\\_\\_str\\_\\_( )** Methode repräsentiert ein Objekt einer Klasse in Form eines Strings. Mit ihr können beispielsweise alle Attribute einer Klasse formatiert dargestellt werden, was beispielsweise beim Debugging hilfreich sein kann. Die Methode **\\_\\_str\\_\\_( )** wird aufgerufen, wenn die folgenden Funktionen auf ein Objekt der Klasse angewendet wird: \n",
    "\n",
    "- **print( )**\n",
    "- **str( )**"
   ]
  },
  {
   "cell_type": "code",
   "execution_count": null,
   "metadata": {},
   "outputs": [],
   "source": [
    "class Konto:\n",
    "    '''Diese Klasse stellt ein Bankkonto dar.'''\n",
    "    \n",
    "    def __init__(self, inhaber, kontonummer, kontostand):\n",
    "        '''Diese Methode initialisiert die Variablen.'''\n",
    "        self.inhaber = inhaber\n",
    "        self.kontonummer = kontonummer\n",
    "        self.kontostand = kontostand\n",
    "        \n",
    "    def __str__(self):\n",
    "        return f\"Inhaber: {self.inhaber}\\nKontonummer: {self.kontonummer}\\nKontostand: {self.kontostand:.2f} CHF\""
   ]
  },
  {
   "cell_type": "code",
   "execution_count": null,
   "metadata": {},
   "outputs": [],
   "source": [
    "konto = Konto(\"Peter Müller\", \"8-7-8-7\", 1000)"
   ]
  },
  {
   "cell_type": "markdown",
   "metadata": {},
   "source": [
    "Wird das Objekt der print( )-Funktion übergeben, so wird im Hintergrund die \\_\\_str\\_\\_( )-Methode\n",
    "aufgerufen und es wird der in der \\_\\_str\\_\\_()-Methode definierte String zurückgegeben. "
   ]
  },
  {
   "cell_type": "code",
   "execution_count": null,
   "metadata": {},
   "outputs": [],
   "source": [
    "print(konto)"
   ]
  },
  {
   "cell_type": "markdown",
   "metadata": {},
   "source": [
    "Wird das Objekt der str( )-Funktion übergeben, so wird auch hier im Hintergrund die \\_\\_str\\_\\_( )-Methode aufgerufen und es wird der in der \\_\\_str\\_\\_()-Methode definierte String zurückgegeben. "
   ]
  },
  {
   "cell_type": "code",
   "execution_count": null,
   "metadata": {},
   "outputs": [],
   "source": [
    "konto_str = str(konto)\n",
    "print(konto_str)"
   ]
  },
  {
   "cell_type": "markdown",
   "metadata": {},
   "source": [
    "### Numerische Datentypen emulieren\n",
    "https://docs.python.org/3/reference/datamodel.html#emulating-numeric-types"
   ]
  },
  {
   "cell_type": "markdown",
   "metadata": {},
   "source": [
    "Der Rückgabewert von **\\__float\\__( )** gibt an, was float(obj) zurückgeben soll. <br>\n",
    "Mit der **\\__add\\__( )**-Methode wird der + Operator überladen. <br>\n",
    "Mit der **\\__sub\\__( )**-Methode wird der - Operator überladen."
   ]
  },
  {
   "cell_type": "code",
   "execution_count": null,
   "metadata": {},
   "outputs": [],
   "source": [
    "class Konto:\n",
    "    '''Diese Klasse stellt ein Bankkonto dar.'''\n",
    "    \n",
    "    def __init__(self, inhaber, kontonummer, kontostand):\n",
    "        '''Diese Methode initialisiert die Variablen.'''\n",
    "        self.inhaber = inhaber\n",
    "        self.kontonummer = kontonummer\n",
    "        self.kontostand = kontostand\n",
    "        \n",
    "    def __str__(self):\n",
    "        return f\"Kontonummer: {self.kontonummer}\\nKontostand: {self.kontostand:.2f} CHF\"\n",
    "\n",
    "    def __float__(self):\n",
    "        return float(self.kontostand)\n",
    "    \n",
    "    def __add__(self, other):\n",
    "        return self.kontostand + other.kontostand\n",
    "    \n",
    "    def __sub__(self, other):\n",
    "        return self.kontostand - other.kontostand    "
   ]
  },
  {
   "cell_type": "code",
   "execution_count": null,
   "metadata": {},
   "outputs": [],
   "source": [
    "konto1 = Konto(\"Peter Meier\", 'CH42 4738 2934 9267 0878 5', 1000)\n",
    "konto2 = Konto(\"Petra Meier\", 'CH27 1036 5802 2994 9234 3', 1500)"
   ]
  },
  {
   "cell_type": "markdown",
   "metadata": {},
   "source": [
    "Wird ein Objekt der float( )-Funktion übergeben, so wird die in der Klasse implementierte \n",
    " \\_\\_float\\_\\_( )-Methode aufgerufen und es wird ein float zurückgegeben (in diesem Falle der Kontostand)"
   ]
  },
  {
   "cell_type": "code",
   "execution_count": null,
   "metadata": {},
   "outputs": [],
   "source": [
    "print(f\"float(konto1) = {float(konto1)}\")\n",
    "print(f\"float(konto2) = {float(konto2)}\")"
   ]
  },
  {
   "cell_type": "markdown",
   "metadata": {},
   "source": [
    "Wird die Addition (oder Subraktion) zweier Objekte derselben Klasse aufgerufen, so wird die in \n",
    "der Klasse implementierten \\_\\_add\\_\\_( )- (bzw. \\_\\_sub\\_\\_( ))-Methode aufgerufen. "
   ]
  },
  {
   "cell_type": "code",
   "execution_count": null,
   "metadata": {},
   "outputs": [],
   "source": [
    "print(f\"konto1 + konto2 = {konto1 + konto2}\")\n",
    "print(f\"konto1 - konto2 = {konto1 - konto2}\")"
   ]
  },
  {
   "cell_type": "markdown",
   "metadata": {},
   "source": [
    "Der Ausdruck ... "
   ]
  },
  {
   "cell_type": "code",
   "execution_count": null,
   "metadata": {},
   "outputs": [],
   "source": [
    "konto1 + konto2"
   ]
  },
  {
   "cell_type": "markdown",
   "metadata": {},
   "source": [
    "ist äquivalent zu..."
   ]
  },
  {
   "cell_type": "code",
   "execution_count": null,
   "metadata": {},
   "outputs": [],
   "source": [
    "konto1.__add__(konto2)"
   ]
  }
 ],
 "metadata": {
  "kernelspec": {
   "display_name": "Python 3",
   "language": "python",
   "name": "python3"
  },
  "language_info": {
   "codemirror_mode": {
    "name": "ipython",
    "version": 3
   },
   "file_extension": ".py",
   "mimetype": "text/x-python",
   "name": "python",
   "nbconvert_exporter": "python",
   "pygments_lexer": "ipython3",
   "version": "3.8.3"
  }
 },
 "nbformat": 4,
 "nbformat_minor": 2
}
