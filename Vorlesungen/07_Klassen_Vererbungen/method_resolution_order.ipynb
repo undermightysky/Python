{
 "cells": [
  {
   "cell_type": "markdown",
   "metadata": {},
   "source": [
    "# Diamond Problem nicht pythonisch"
   ]
  },
  {
   "cell_type": "markdown",
   "metadata": {},
   "source": [
    "Im nachfolgenden Beispiel ist das Diamond-Problem implementiert. Auf Grund der Tatsache, dass die \\_\\_init\\_\\_( )-Methode der Superklasse in den Subklassen über den Klassennamen aufgerufen werden, wird bei der Instanzierung des Objektes der Subklasse D die \\_\\_init\\_\\_( )-Methode der Superklasse A unnötigerweise zweimal aufgerufen. Es gibt also zwei wesentliche Nachteile, wenn man Methoden von Superklassen über den Namen der Superklassen aufruft: <br>\n",
    "- Bei Mehrfachpfaden im Vererbungsbaum (wie es beim Diamon-Problem der Fall ist), kann es dazu kommen, dass Methoden der Superklassen mehrfach aufgerufen werden. \n",
    "- Sollte der Klassennamen einer Superklasse ändern, so muss man auch den Code in den Subklassen anpassen, dadurch leidet die Wartbarkeit. \n",
    "\n",
    "**Man sollte daher NICHT über den Klassennamen auf Methoden der Superklassen zugreifen, sondern mit Hilfe der Funktion super( ), siehe dazu das Beispiel weiter unten**"
   ]
  },
  {
   "cell_type": "code",
   "execution_count": null,
   "metadata": {},
   "outputs": [],
   "source": [
    "class A:\n",
    "    def __init__(self):\n",
    "        print(\"A.__init__\")\n",
    "\n",
    "class B(A):\n",
    "    def __init__(self):\n",
    "        print(\"B.__init__\")\n",
    "        A.__init__(self)\n",
    "\n",
    "class C(A):\n",
    "    def __init__(self):\n",
    "        print(\"C.__init__\")\n",
    "        A.__init__(self)\n",
    "\n",
    "class D(B, C):\n",
    "    def __init__(self):\n",
    "        print(\"D.__init__\")\n",
    "        B.__init__(self)\n",
    "        C.__init__(self)"
   ]
  },
  {
   "cell_type": "code",
   "execution_count": null,
   "metadata": {},
   "outputs": [],
   "source": [
    "d = D()"
   ]
  },
  {
   "cell_type": "markdown",
   "metadata": {},
   "source": [
    "# Diamond Problem pythonisch"
   ]
  },
  {
   "cell_type": "markdown",
   "metadata": {},
   "source": [
    "Möchte man aus einer Subklasse auf Methoden der Superklasse zugreifen, so soll dieser Zugriff über die super( )-Funktion geschehen. <br>\n",
    "Die super( )-Funktion hat Zugriff auf die Method Resolution Order (MRO), welche auf Grund des gegebenen Vererbungsbaumes berechnet wird. Die MRO definiert den Suchpfad, welcher verwendet wird, um bei Mehrfachvererbung die Methoden der Superklassen aufzurufen."
   ]
  },
  {
   "cell_type": "code",
   "execution_count": null,
   "metadata": {},
   "outputs": [],
   "source": [
    "class A:\n",
    "    def __init__(self):\n",
    "        print(\"A.__init__\")\n",
    "        super().__init__()\n",
    "\n",
    "class B(A):\n",
    "    def __init__(self):\n",
    "        print(\"B.__init__\")\n",
    "        super().__init__()\n",
    "\n",
    "class C(A):\n",
    "    def __init__(self):\n",
    "        print(\"C.__init__\")\n",
    "        super().__init__()\n",
    "\n",
    "class D(C, B):\n",
    "    def __init__(self):\n",
    "        print(\"D.__init__\")\n",
    "        super().__init__()"
   ]
  },
  {
   "cell_type": "markdown",
   "metadata": {},
   "source": [
    "**super()** ruft die Methoden der Superklassen automatisch in der richtigen Reihenfolge auf:"
   ]
  },
  {
   "cell_type": "code",
   "execution_count": null,
   "metadata": {},
   "outputs": [],
   "source": [
    "d = D()"
   ]
  },
  {
   "cell_type": "markdown",
   "metadata": {},
   "source": [
    "Die Reihenfolge wird vom MRO-Algorithmus festgelegt:"
   ]
  },
  {
   "cell_type": "code",
   "execution_count": null,
   "metadata": {},
   "outputs": [],
   "source": [
    "D.mro()"
   ]
  },
  {
   "cell_type": "markdown",
   "metadata": {},
   "source": [
    "Die super( )-Funktion kann allgemein dazu verwendet werden, um Methoden der Superklassen aufzurufen, wie das nachfolgende Beispiel zeigt. Wird die my_method( )-Methode vom Objekt der Subklasse D aufgerufen, so wird mit Hilfe der MRO die \"nächste\" passende Methode aufgerufen: <br>\n",
    "Das heisst, wenn die Methode in der Subklasse D implementiert ist, dann wird diese aufgerufen. \n",
    "Sollte dies nicht der Fall sein, dann wird die Methode in der nächst höheren Superklasse aufgerufen, in diesem Falle ist das die Klasse B. Da die Methode in der Superklasse B implementiert ist, wird auch diese aufgerufen. (Wäre dies nicht der Fall, dann würde die Implementierung aus der Superklasse B verwendet und so weiter). <br>\n",
    "Ruft man eine Methode mit Hilfe der super( )-Funktion auf, so ist man insofern beschränkt, als dass die MRO vorgibt, welche Methode aus welcher Superklassen aufgerufen wird. Möchte man eine ganz spezifische Implementierung einer Methode aus einer Superklasse aufrufen, so ist es auch legitim, diese über den entsprechenden Klassennamen aufzurufen. "
   ]
  },
  {
   "cell_type": "code",
   "execution_count": null,
   "metadata": {},
   "outputs": [],
   "source": [
    "class A:\n",
    "    def __init__(self):\n",
    "        print(\"A.__init__\")\n",
    "        super().__init__()\n",
    "        \n",
    "    def my_method(self): \n",
    "        print(\"I am Class A\")\n",
    "\n",
    "class B(A):\n",
    "    def __init__(self):\n",
    "        print(\"B.__init__\")\n",
    "        super().__init__()\n",
    "        \n",
    "    def my_method(self): \n",
    "        print(\"I am Class B\")\n",
    "\n",
    "class C(A):\n",
    "    def __init__(self):\n",
    "        print(\"C.__init__\")\n",
    "        super().__init__()\n",
    "        \n",
    "    def my_method(self): \n",
    "        print(\"I am Class C\")\n",
    "\n",
    "class D(B, C):\n",
    "    def __init__(self):\n",
    "        print(\"D.__init__\")\n",
    "        super().__init__()\n",
    "        super().my_method()"
   ]
  },
  {
   "cell_type": "code",
   "execution_count": null,
   "metadata": {},
   "outputs": [],
   "source": [
    "d = D()"
   ]
  },
  {
   "cell_type": "code",
   "execution_count": null,
   "metadata": {},
   "outputs": [],
   "source": [
    "D.mro()"
   ]
  }
 ],
 "metadata": {
  "kernelspec": {
   "display_name": "Python 3 (ipykernel)",
   "language": "python",
   "name": "python3"
  },
  "language_info": {
   "codemirror_mode": {
    "name": "ipython",
    "version": 3
   },
   "file_extension": ".py",
   "mimetype": "text/x-python",
   "name": "python",
   "nbconvert_exporter": "python",
   "pygments_lexer": "ipython3",
   "version": "3.9.7"
  }
 },
 "nbformat": 4,
 "nbformat_minor": 2
}
