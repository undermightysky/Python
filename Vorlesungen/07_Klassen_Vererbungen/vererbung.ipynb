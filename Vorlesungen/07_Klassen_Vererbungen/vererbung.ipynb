{
 "cells": [
  {
   "cell_type": "markdown",
   "metadata": {},
   "source": [
    "# Vererbung"
   ]
  },
  {
   "cell_type": "code",
   "execution_count": null,
   "metadata": {},
   "outputs": [],
   "source": [
    "class Person:\n",
    "    def __init__(self, name, geburtsdatum):\n",
    "        self.name = name\n",
    "        self.geburtsdatum = geburtsdatum\n",
    "        print('__init__() von Person')\n",
    "    \n",
    "    def gruessen(self):\n",
    "        print(f\"Hallo ich bin {self.name}\")\n",
    "    \n",
    "    def __str__(self):\n",
    "        return f\"Eine Person mit Namen {self.name} und Geburtsdatum {self.geburtsdatum}\""
   ]
  },
  {
   "cell_type": "markdown",
   "metadata": {},
   "source": [
    "Die Person-Klasse instanzieren:"
   ]
  },
  {
   "cell_type": "code",
   "execution_count": null,
   "metadata": {},
   "outputs": [],
   "source": [
    "p = Person('Laura', '4. Mai 1980')"
   ]
  },
  {
   "cell_type": "code",
   "execution_count": null,
   "metadata": {},
   "outputs": [],
   "source": [
    "print(p)"
   ]
  },
  {
   "cell_type": "markdown",
   "metadata": {},
   "source": [
    "Angestellter-Klasse erbt von der Person-Klasse:\n",
    "\n",
    "Methoden der Superklassen sollten ausschliesslich über die super() Funktion aufgerufen werden. "
   ]
  },
  {
   "cell_type": "code",
   "execution_count": null,
   "metadata": {},
   "outputs": [],
   "source": [
    "class Angestellter(Person):\n",
    "    def __init__(self, name, geburtsdatum, personalnummer):\n",
    "        # Initialisierungsmethode der Superklasse aufrufen\n",
    "        super().__init__(name, geburtsdatum)\n",
    "        # Folgender Aufruf ist auch erlaubt, jedoch nicht empfohlen (!!):\n",
    "        # Person.__init__(self, name, geburtsdatum)\n",
    "        self.personalnummer = personalnummer\n",
    "        print('__init__() von Angestellter')\n",
    "        \n",
    "    def gruessen(self):\n",
    "        print(f\"Hallo ich bin Angstellter {self.name}\")       \n",
    "        \n",
    "    def __str__(self):\n",
    "        return  f\"{super().__str__()} und Personalnummer {self.personalnummer}\""
   ]
  },
  {
   "cell_type": "markdown",
   "metadata": {},
   "source": [
    "Die Angestellter-Klasse instanzieren:"
   ]
  },
  {
   "cell_type": "code",
   "execution_count": null,
   "metadata": {},
   "outputs": [],
   "source": [
    "a = Angestellter('Max', '6. August 1985', 123456)"
   ]
  },
  {
   "cell_type": "code",
   "execution_count": null,
   "metadata": {},
   "outputs": [],
   "source": [
    "p.gruessen()\n",
    "a.gruessen()"
   ]
  },
  {
   "cell_type": "code",
   "execution_count": null,
   "metadata": {},
   "outputs": [],
   "source": [
    "print(a.name)\n",
    "print(a.personalnummer)"
   ]
  },
  {
   "cell_type": "code",
   "execution_count": null,
   "metadata": {},
   "outputs": [],
   "source": [
    "print(a)"
   ]
  },
  {
   "cell_type": "markdown",
   "metadata": {},
   "source": [
    "## public, protected und private"
   ]
  },
  {
   "cell_type": "markdown",
   "metadata": {},
   "source": [
    "Die Konvention ist wie folgt:\n",
    "- **public**: für öffentliche Variablen und Methoden\n",
    "- **protected**: (1 führender Unterstrich) für nicht-öffentliche Variablen und Methoden\n",
    "- **private**: (2 führende Unterstriche) für nicht-öffentliche Variablen und Methoden, welche nicht für die Verwendung in den Subklassen gedacht sind. Ein Attribut wird von Python nur dann als privat betrachtet, wenn der Name mit zwei Unterstrichen beginnt, jedoch nicht mit zwei oder mehr Unterstrichen endet. Damit ist sicher gestellt, dass die magischen Methoden nicht als privat eingestuft werden und somit an die Subklassen vererbt werden können.\n",
    "\n",
    "https://www.python.org/dev/peps/pep-0008/#method-names-and-instance-variables"
   ]
  },
  {
   "cell_type": "code",
   "execution_count": null,
   "metadata": {},
   "outputs": [],
   "source": [
    "class SuperKlasse:\n",
    "    '''Klasse zur Demonstration der Datenkapselung in Python'''\n",
    "    def __init__(self):\n",
    "        self.pub = 'Ich bin öffentlich.'\n",
    "        self._prot = 'Ich bin protected.'\n",
    "        self.__priv = 'Ich bin privat.'\n",
    "    \n",
    "    def pub_methode(self):\n",
    "        print(\"Public Methode\")\n",
    "    \n",
    "    def _prot_methode(self):\n",
    "        print(\"Protected Methode\")\n",
    "    \n",
    "    def __priv_methode(self):\n",
    "        print(\"Private Methode\")"
   ]
  },
  {
   "cell_type": "code",
   "execution_count": null,
   "metadata": {},
   "outputs": [],
   "source": [
    "s = SuperKlasse()"
   ]
  },
  {
   "cell_type": "markdown",
   "metadata": {},
   "source": [
    "Die dir( )-Funktion listet alle Attribute eines Objektes auf:"
   ]
  },
  {
   "cell_type": "code",
   "execution_count": null,
   "metadata": {},
   "outputs": [],
   "source": [
    "dir(s)"
   ]
  },
  {
   "cell_type": "code",
   "execution_count": null,
   "metadata": {},
   "outputs": [],
   "source": [
    "class SubKlasse(SuperKlasse):\n",
    "    def __init__(self):\n",
    "        super().__init__()\n",
    "        self.pub_methode()\n",
    "        self._prot_methode()\n",
    "        # Die privaten Attribute der Superklasse sind nicht zugänglich und zwar wegen der\n",
    "        # Namensänderung, welche Python bei der Erstellung der privaten Attribute automatisch vornimmt\n",
    "        # self.__priv_func()\n",
    "        # Das hier würde gehen: \n",
    "        # self._SuperKlasse__priv_methode()\n",
    "        # sollte man aber nicht machen!"
   ]
  },
  {
   "cell_type": "code",
   "execution_count": null,
   "metadata": {},
   "outputs": [],
   "source": [
    "sub = SubKlasse()"
   ]
  },
  {
   "cell_type": "markdown",
   "metadata": {},
   "source": [
    "Die privaten Attribute sind im Objekt der Subklasse eigentlich auch vorhanden (aber durch die Namensänderung in dem Sinne auch versteckt) und sollten daher nicht verwendet werden. "
   ]
  },
  {
   "cell_type": "code",
   "execution_count": null,
   "metadata": {},
   "outputs": [],
   "source": [
    "dir(sub)"
   ]
  }
 ],
 "metadata": {
  "kernelspec": {
   "display_name": "Python 3",
   "language": "python",
   "name": "python3"
  },
  "language_info": {
   "codemirror_mode": {
    "name": "ipython",
    "version": 3
   },
   "file_extension": ".py",
   "mimetype": "text/x-python",
   "name": "python",
   "nbconvert_exporter": "python",
   "pygments_lexer": "ipython3",
   "version": "3.8.3"
  }
 },
 "nbformat": 4,
 "nbformat_minor": 2
}
