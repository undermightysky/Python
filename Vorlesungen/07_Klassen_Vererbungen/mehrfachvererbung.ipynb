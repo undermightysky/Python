{
 "cells": [
  {
   "cell_type": "markdown",
   "metadata": {},
   "source": [
    "# Mehrfachvererbung mit kooperativen Klassen"
   ]
  },
  {
   "cell_type": "markdown",
   "metadata": {},
   "source": [
    "Bei der Instanzierung eines Objektes der Subklasse müssen je nachdem auch Argumente für die Superklasse übergeben werden. Je nach Implementierung der Subklasse kann sich die Reihenfolge in der MRO und somit die Aufrufe der Methoden der Superklassen ändern.<br>\n",
    "\n",
    "Damit beim Aufruf der Initialisierungsmethoden der Superklassen keine Fehler auftreten, ist es sinnvoll, die **\\__init\\__()**-Methode aller involvierten Klassen kooperativ zu machen, d.h.\n",
    "- Der **Aufruf der Methoden von Superklassen** sollen **ausschliesslich** über die **super( )-Funktion** erfolgen.\n",
    "- Beim Aufruf der Methode sollen die Argumente **ausschliesslich in Form von Schlüsselwortargumenten** übergeben werden. \n",
    "- Die Methode soll **zusätzlich zu seinen Argumenten das Dictionary **kwargs** akzeptieren. \n",
    "\n",
    "Man kann sich die Schlüsselwortargumente, welche sich im Dictionary ****kwargs** befinden wie ein Paket vorstellen. Das Paket wird an alle Klassen im Vererbungsbaum weiter gereicht und jede Klasse nimmt sich \"seine Argumente\" aus dem Paket, bis dieses schlussendlich leer ist und alle Argumente aus dem Paket an der richtigen Stelle verteilt worden sind. <br>\n",
    "Mit dieser Art der Implementierung lassen sich Fehler vermeiden, die auftreten würden, wenn beispielsweise nicht alle Klassen in der MRO mit super( ) arbeiten oder einige Positionsargumente verlangen."
   ]
  },
  {
   "cell_type": "code",
   "execution_count": null,
   "metadata": {},
   "outputs": [],
   "source": [
    "class Fahrzeug:\n",
    "    def __init__(self, antrieb, **kwargs):\n",
    "        print('Fahrzeug.__init__(),', 'kwargs =', kwargs)\n",
    "        super().__init__(**kwargs)\n",
    "        self.antrieb = antrieb"
   ]
  },
  {
   "cell_type": "code",
   "execution_count": null,
   "metadata": {},
   "outputs": [],
   "source": [
    "class Computer:\n",
    "    def __init__(self, display, **kwargs):\n",
    "        print('Computer.__init__(),', 'kwargs =', kwargs)\n",
    "        super().__init__(**kwargs)\n",
    "        self.display = display"
   ]
  },
  {
   "cell_type": "code",
   "execution_count": null,
   "metadata": {},
   "outputs": [],
   "source": [
    "class Tesla(Computer, Fahrzeug):\n",
    "    def __init__(self, dual_motor, **kwargs):\n",
    "        kwargs.setdefault(\"antrieb\", \"elektrisch\")\n",
    "        print('Tesla.__init__()', 'kwargs =', kwargs)\n",
    "        super().__init__(**kwargs)\n",
    "        self.dual_motor = dual_motor\n",
    "    \n",
    "    def __str__(self): \n",
    "        return f\"Attribute der Subklasse Tesla:\\nDual Motor: {self.dual_motor}\\nDisplay: {self.display}\\nAntrieb: {self.antrieb}\"\n",
    "    "
   ]
  },
  {
   "cell_type": "markdown",
   "metadata": {},
   "source": [
    "Instanzierung der Subklasse:"
   ]
  },
  {
   "cell_type": "code",
   "execution_count": null,
   "metadata": {},
   "outputs": [],
   "source": [
    "t = Tesla(display='17 Zoll', dual_motor=True)"
   ]
  },
  {
   "cell_type": "code",
   "execution_count": null,
   "metadata": {},
   "outputs": [],
   "source": [
    "print(t)"
   ]
  }
 ],
 "metadata": {
  "kernelspec": {
   "display_name": "Python 3",
   "language": "python",
   "name": "python3"
  },
  "language_info": {
   "codemirror_mode": {
    "name": "ipython",
    "version": 3
   },
   "file_extension": ".py",
   "mimetype": "text/x-python",
   "name": "python",
   "nbconvert_exporter": "python",
   "pygments_lexer": "ipython3",
   "version": "3.8.3"
  }
 },
 "nbformat": 4,
 "nbformat_minor": 2
}
