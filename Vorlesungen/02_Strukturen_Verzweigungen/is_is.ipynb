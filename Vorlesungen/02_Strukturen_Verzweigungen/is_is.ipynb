{
 "cells": [
  {
   "cell_type": "markdown",
   "metadata": {},
   "source": [
    "## Wert- und Objektgleichheit"
   ]
  },
  {
   "cell_type": "code",
   "execution_count": null,
   "metadata": {},
   "outputs": [],
   "source": [
    "liste = [1, 2, 3]"
   ]
  },
  {
   "cell_type": "code",
   "execution_count": null,
   "metadata": {},
   "outputs": [],
   "source": [
    "if liste == [1, 2, 3]:\n",
    "    print(\"Wertgleichheit\")"
   ]
  },
  {
   "cell_type": "code",
   "execution_count": null,
   "metadata": {},
   "outputs": [],
   "source": [
    "if liste is [1, 2, 3]:\n",
    "    print(\"Objektgleichheit\")\n",
    "else:\n",
    "    print(\"Keine Objektgleichheit\")"
   ]
  },
  {
   "cell_type": "code",
   "execution_count": null,
   "metadata": {},
   "outputs": [],
   "source": [
    "print(id(liste))\n",
    "print(id([1, 2, 3]))"
   ]
  },
  {
   "cell_type": "code",
   "execution_count": null,
   "metadata": {},
   "outputs": [],
   "source": [
    "# Der is Operator wird vor allem bei der Prüfung auf None verwendet, da es sich bei None immer \n",
    "# um dasselbe Objekt handelt und alle Variablen, welche den Wert None haben auf ein und dasselbe \n",
    "# Objekt zeigen. \n",
    "x = None\n",
    "if x is None: \n",
    "    print(\"none found\")"
   ]
  },
  {
   "cell_type": "code",
   "execution_count": null,
   "metadata": {},
   "outputs": [],
   "source": [
    "# None hat in beiden Fällen diesselbe ID, weil es sich um dasselbe Objekt handelt\n",
    "print(id(x))\n",
    "print(id(None))"
   ]
  },
  {
   "cell_type": "code",
   "execution_count": null,
   "metadata": {},
   "outputs": [],
   "source": [
    "x = 3\n",
    "if x is not None: \n",
    "    print(\"none not found\")"
   ]
  }
 ],
 "metadata": {
  "kernelspec": {
   "display_name": "Python 3",
   "language": "python",
   "name": "python3"
  },
  "language_info": {
   "codemirror_mode": {
    "name": "ipython",
    "version": 3
   },
   "file_extension": ".py",
   "mimetype": "text/x-python",
   "name": "python",
   "nbconvert_exporter": "python",
   "pygments_lexer": "ipython3",
   "version": "3.6.5"
  }
 },
 "nbformat": 4,
 "nbformat_minor": 2
}
