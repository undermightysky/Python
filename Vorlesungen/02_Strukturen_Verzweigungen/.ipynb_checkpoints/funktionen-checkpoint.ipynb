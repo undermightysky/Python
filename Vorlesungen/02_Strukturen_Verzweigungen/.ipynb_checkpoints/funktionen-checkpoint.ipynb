{
 "cells": [
  {
   "cell_type": "markdown",
   "metadata": {},
   "source": [
    "# Funktionen"
   ]
  },
  {
   "cell_type": "markdown",
   "metadata": {},
   "source": [
    "## Docstring - Funktion dokumentieren"
   ]
  },
  {
   "cell_type": "markdown",
   "metadata": {},
   "source": [
    "PEP 257 - Docstring Conventions [https://www.python.org/dev/peps/pep-0257/](https://www.python.org/dev/peps/pep-0257/)"
   ]
  },
  {
   "cell_type": "code",
   "execution_count": null,
   "metadata": {},
   "outputs": [],
   "source": [
    "def summe(a, b):\n",
    "    '''Gibt die Summe a + b zurück.'''\n",
    "    return a + b\n",
    "summe(2, 2)"
   ]
  },
  {
   "cell_type": "code",
   "execution_count": null,
   "metadata": {},
   "outputs": [],
   "source": [
    "# Der Docstring kann über die help() Funktion betrachtet werden\n",
    "help(summe)"
   ]
  },
  {
   "cell_type": "code",
   "execution_count": null,
   "metadata": {},
   "outputs": [],
   "source": [
    "help(print)"
   ]
  },
  {
   "cell_type": "markdown",
   "metadata": {},
   "source": [
    "## Definition und Aufruf"
   ]
  },
  {
   "cell_type": "code",
   "execution_count": null,
   "metadata": {},
   "outputs": [],
   "source": [
    "# a und b heissen Parameter\n",
    "def summe(a, b):\n",
    "    return a + b"
   ]
  },
  {
   "cell_type": "code",
   "execution_count": null,
   "metadata": {},
   "outputs": [],
   "source": [
    "# 2 und 3 heissen Argumente\n",
    "resultat = summe(2, 3)\n",
    "print(resultat)"
   ]
  },
  {
   "cell_type": "code",
   "execution_count": null,
   "metadata": {},
   "outputs": [],
   "source": [
    "# Aufruf der Funktion über Schlüsselwortargumente\n",
    "summe(a=10, b=5)\n"
   ]
  },
  {
   "cell_type": "code",
   "execution_count": null,
   "metadata": {},
   "outputs": [],
   "source": [
    "# Da Schlüsselwortargumente über den Schlüssel definiert werden, spielt die Reihenfolge der\n",
    "# einzelnen Argumente im Funktionsaufruf keine Rolle (ausser siehe unten)\n",
    "summe(b=5, a=10)"
   ]
  },
  {
   "cell_type": "code",
   "execution_count": null,
   "metadata": {},
   "outputs": [],
   "source": [
    "# Schlüsselwortargumente müssen immer nach den Positionsargumenten gegeben werden, da die\n",
    "# Übergabe der Positionsargumente über die gegebene Position definiert ist. \n",
    "summe(a=10, 5)"
   ]
  },
  {
   "cell_type": "markdown",
   "metadata": {},
   "source": [
    "## Standardwert für Parameter definieren"
   ]
  },
  {
   "cell_type": "code",
   "execution_count": null,
   "metadata": {},
   "outputs": [],
   "source": [
    "# Bei der Funktionsdefinition können für die einzelnen Parameter Standardwerte definiert werden. \n",
    "def summe(a=0, b=0):\n",
    "    return a + b"
   ]
  },
  {
   "cell_type": "code",
   "execution_count": null,
   "metadata": {},
   "outputs": [],
   "source": [
    "# Auf Grund der definierten Standardwerte kann die Funktion auch ohne Argumente aufgerufen werden.\n",
    "summe()"
   ]
  },
  {
   "cell_type": "markdown",
   "metadata": {},
   "source": [
    "## Mehrere Rückgabewerte"
   ]
  },
  {
   "cell_type": "code",
   "execution_count": null,
   "metadata": {},
   "outputs": [],
   "source": [
    "# Mehrere Rückgabewerte können in Form eines Tupels zurück gegeben werden\n",
    "def summe(a=0, b=0):\n",
    "    return a + b, a, b"
   ]
  },
  {
   "cell_type": "code",
   "execution_count": null,
   "metadata": {},
   "outputs": [],
   "source": [
    "summe()"
   ]
  },
  {
   "cell_type": "code",
   "execution_count": null,
   "metadata": {},
   "outputs": [],
   "source": [
    "# Die Rückgabewerte im Tupel können mittels Tuple Unpacking in einzelne Variablen entpackt werden. \n",
    "zahl1, zahl2, zahl3 = summe(2, 2)\n",
    "print(zahl1)\n",
    "print(zahl2)"
   ]
  }
 ],
 "metadata": {
  "kernelspec": {
   "display_name": "Python 3 (ipykernel)",
   "language": "python",
   "name": "python3"
  },
  "language_info": {
   "codemirror_mode": {
    "name": "ipython",
    "version": 3
   },
   "file_extension": ".py",
   "mimetype": "text/x-python",
   "name": "python",
   "nbconvert_exporter": "python",
   "pygments_lexer": "ipython3",
   "version": "3.9.7"
  }
 },
 "nbformat": 4,
 "nbformat_minor": 2
}
