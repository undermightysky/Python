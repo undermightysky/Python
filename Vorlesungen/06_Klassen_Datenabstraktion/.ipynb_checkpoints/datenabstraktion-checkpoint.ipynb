{
 "cells": [
  {
   "cell_type": "markdown",
   "metadata": {},
   "source": [
    "# Klassen"
   ]
  },
  {
   "cell_type": "markdown",
   "metadata": {},
   "source": [
    "## Datenkapselung\n",
    "\n",
    "Unter Datenkapselung versteht man den kontrollierten Zugriff auf die Daten einer Klasse. <br>\n",
    "**Der direkte Zugriff auf die Daten wird eingeschränkt oder komplett unterbunden und erfolgt stattdessen über definierte Schnittstellen.**<br>\n",
    "Mit Hilfe dieser Schnittstellen ist es möglich, den Zugriff auf die Daten zu kontrollieren. Dadurch lassen sich auch im Nachhinein Änderungen an der Implementierung vornehmen, ohne dass der Anwender etwas davon merkt (sofern die Schnittstelle erhalten bleibt). <br>\n",
    "Durch die Kapselung werden nur Angaben über das „Was“ (Funktionsweise) einer Klasse nach außen sichtbar, nicht aber das „Wie“ (die interne Darstellung)."
   ]
  },
  {
   "cell_type": "markdown",
   "metadata": {},
   "source": [
    "## Geheimnisprinzip\n",
    "\n",
    "Der eingeschränkte Zugriff der Daten bedeutet nicht zwingend, dass die Daten von aussen nicht sichtbar sind. <br>\n",
    "Möchte man dies erreichen, so kommt das Geheimnisprinzip zu tragen. <br>\n",
    "Unter diesem **Prinzip versteht man das Verbergen von Daten und Implementierungsdetails nach aussen**. <br>\n",
    "Es geht hierbei auch darum, den Benutzer einer Klasse nicht mit unnötigen Implementierungsdetails zu belasten. Es werden also nur die für die Verwendung der Klasse notwendigen Daten über definierte Schnittstellen nach aussen sichtbar gemacht. <br>\n",
    "\n",
    "Die **Datenkapselung und das Geheimnisprinzip** wird in den **übergeordneten Begriff Datenabstraktion zusammengefasst**.\n",
    "\n",
    "Normalerweise sind alle Attribute einer Klasseninstanz öffentlich, d.h. von aussen zugänglich. <br>\n",
    "Die Daten und Methoden einer Pythonklasse können in eine der drei folgenden Kategorien eingeteilt werden: **public**, **protected** oder **private**\n",
    "\n",
    "**Hinweis:** Das ist alles nur eine Konvention. In Python gibt es keinen Datenschutz."
   ]
  },
  {
   "cell_type": "code",
   "execution_count": null,
   "metadata": {},
   "outputs": [],
   "source": [
    "class MeineKlasse:\n",
    "    '''Klasse zur Demonstration der Datenkapselung in Python'''\n",
    "    def __init__(self):\n",
    "        self.pub = 'Ich bin öffentlich.'\n",
    "        self._prot = 'Ich bin protected.'\n",
    "\n",
    "        self._MeineKlasse__priv = \"uh oh\"\n",
    "        self.__priv = 'Ich bin privat.'\n",
    "    \n",
    "    def pub_methode(self):\n",
    "        print(self.pub)\n",
    "    \n",
    "    def _prot_methode(self):\n",
    "        print(self._prot)\n",
    "    \n",
    "    def __priv_methode(self):\n",
    "        print(self.__priv)"
   ]
  },
  {
   "cell_type": "code",
   "execution_count": null,
   "metadata": {},
   "outputs": [],
   "source": [
    "objekt = MeineKlasse()"
   ]
  },
  {
   "cell_type": "markdown",
   "metadata": {},
   "source": [
    "### Public\n",
    "Attribute ohne führende Unterstriche im Namen sind als **public** zu betrachten. Man kann und darf auch von ausserhalb der Klasse darauf zugreifen."
   ]
  },
  {
   "cell_type": "code",
   "execution_count": null,
   "metadata": {},
   "outputs": [],
   "source": [
    "objekt.pub_methode()\n",
    "objekt.pub = 'Hier macht jeder was er will.'\n",
    "objekt.pub_methode()"
   ]
  },
  {
   "cell_type": "markdown",
   "metadata": {},
   "source": [
    "### Protected\n",
    "Attribute mit einem führenden Unterstrich im Namen sind als **protected** zu betrachten, d.h. man könnte theoretisch von aussen darauf zugreifen, man sollte aber nicht, es ist unerwünscht. Oft werden interne Hilfsvariablen oder Hilfsmethoden als protected gekennzeichnet, um den Benutzern der Klasse zu signalisieren, dass diese Elemente nicht direkt benutzt werden sollen. Sie werden v.a. bei Vererbungen wichtig."
   ]
  },
  {
   "cell_type": "code",
   "execution_count": null,
   "metadata": {},
   "outputs": [],
   "source": [
    "objekt._prot_methode()\n",
    "print(objekt._prot)\n",
    "objekt._prot = \"jetzt nicht mehr\"\n",
    "objekt._prot_methode()"
   ]
  },
  {
   "cell_type": "markdown",
   "metadata": {},
   "source": [
    "### Private\n",
    "Attribute mit zwei führenden Unterstriche im Namen sind **privat**. Sie sind von aussen nicht sichtbar und somit nicht benutzbar."
   ]
  },
  {
   "cell_type": "code",
   "execution_count": null,
   "metadata": {},
   "outputs": [],
   "source": [
    "objekt.__priv"
   ]
  },
  {
   "cell_type": "code",
   "execution_count": null,
   "metadata": {},
   "outputs": [],
   "source": [
    "objekt.__priv_methode()"
   ]
  },
  {
   "cell_type": "markdown",
   "metadata": {},
   "source": [
    "Im Prinzip gibt es einen Umweg um dies zu umgehen. **Achtung:** höchst illegal!"
   ]
  },
  {
   "cell_type": "code",
   "execution_count": null,
   "metadata": {},
   "outputs": [],
   "source": [
    "dir(objekt)"
   ]
  },
  {
   "cell_type": "code",
   "execution_count": null,
   "metadata": {},
   "outputs": [],
   "source": [
    "objekt._MeineKlasse__priv = \"Datenschutz ist eine Illusion\""
   ]
  },
  {
   "cell_type": "code",
   "execution_count": null,
   "metadata": {},
   "outputs": [],
   "source": [
    "objekt._MeineKlasse__priv_methode()"
   ]
  },
  {
   "cell_type": "markdown",
   "metadata": {},
   "source": [
    "## Getter- und Setter-Methoden\n",
    "\n",
    "Bei objekt-orientierten Programmiersprachen besteht der Hauptzweck von Getter- und Setter-Methoden darin, die Datenkapselung zu gewährleisten. <br>\n",
    "Der Zugriff auf private Attribute erfolgt einzig und allein über diese Methoden, die Attribute können von ausserhalb der Klasse nicht direkt verändert werden. \n",
    "Wie bereits demonstriert worden ist, sind in Python private Attribute nicht wirklich privat, es ist möglich (nicht erwünscht, aber möglich) von aussen auf private Attribute zu zugreifen. <br>\n",
    "Die pythonische Art und Weise mit dieser Thematik umzugehen ist die folgende: <br>\n",
    "Attribute sollten wenn immer möglich public sein, wodurch keine Getter- und Setter-Methoden nötig sind!\n",
    "\n",
    "Nichtsdestotrotz gibt es Situationen, in denen es sinnvoll (und somit auch pythonisch) ist, Getter- und Setter-Methoden zu verwenden: \n",
    "\n",
    "- Wenn beim Lesen oder Schreiben des Wertes eine bestimmte Überprüfung oder Transformation vorgenommen werden soll. <br>(Bspw. wird ein Wert nur zurück gegeben, wenn eine bestimmte Bedingung erfüllt ist). \n",
    "- Wenn wir eine solche Validierungslogik oder Transformation erst zukünftig benötigen, jedoch jetzt bereits sicher stellen möchten, dass diese Implementierung möglich sein wird. Es geht hierbei um den Aspekt, dass andere Programmierer (oder auch wir in anderen Projekten) die Klasse mit dem Attribut bereits verwenden. Würden wir nun einfach unsere Klasse umschreiben und die Validierungslogik einbauen, so würden wir die Schnittstelle zum Attribut verändern, was dazu führt, dass die anderen User die Klasse so nicht mehr verwenden können, ohne ihren Code anzupassen (was ziemlich nervig ist). Wenn wir jedoch von Anfang an mit Gettern und Settern arbeiten, dann wird die Schnittstelle gegen aussen nicht verändert, wenn wir innerhalb der Getter- und Setter-Methoden Änderungen vornehmen. "
   ]
  },
  {
   "cell_type": "markdown",
   "metadata": {},
   "source": [
    "**Konventionell**: Set- und Get-Methoden explizit benutzen. (nicht pythonisch!)"
   ]
  },
  {
   "cell_type": "code",
   "execution_count": null,
   "metadata": {},
   "outputs": [],
   "source": [
    "class Konto:\n",
    "    '''Diese Klasse stellt ein Bankkonto dar.'''\n",
    "    zinssatz = 0.15   # Klassen-Variable\n",
    "    \n",
    "    def __init__(self, inhaber, kontonummer, kontostand):\n",
    "        '''Diese Methode initialisiert die Variablen.'''\n",
    "        self.inhaber = inhaber\n",
    "        self.kontonummer = kontonummer\n",
    "        self.__kontostand = kontostand\n",
    "\n",
    "    def get_kontostand(self):\n",
    "        print('Der Kontostand wurde abgefragt.')\n",
    "        return self.__kontostand        \n",
    "        \n",
    "    def set_kontostand(self, n):\n",
    "        self.__kontostand = n\n",
    "        print(f\"Der Kontostand wurde auf {self.__kontostand} geändert.\")"
   ]
  },
  {
   "cell_type": "code",
   "execution_count": null,
   "metadata": {},
   "outputs": [],
   "source": [
    "konto = Konto(\"Peter Müller\", \"8-7-8-7\", 1000)\n",
    "konto.set_kontostand(1000000)\n",
    "kontostand = konto.get_kontostand()\n",
    "print(kontostand)"
   ]
  },
  {
   "cell_type": "markdown",
   "metadata": {},
   "source": [
    "Getter-und Setter-Methoden werden mit Hilfe von Properties implementiert. Bevor wir die Implementation von Gettern und Settern mit Properties anschauen, gibt es hier einen kleinen Einschub zum Thema Funktionen. \n",
    "\n",
    "### Funktionen als Objekte\n",
    " \n",
    "Funktionen sind so genannte first-class Objekte, das heisst, sie können wie andere first-class Objekte (string, int, list etc.) einer Funktion übergeben und auch als Rückgabewert zurückgeben werden.\n",
    "\n",
    "Folgender Code ist daher vollkommen legitim: "
   ]
  },
  {
   "cell_type": "code",
   "execution_count": 1,
   "metadata": {},
   "outputs": [],
   "source": [
    "def decorator_func(func):\n",
    "    def wrapper_func():\n",
    "        print(\"Mach etwas vor dem Aufruf der Funktion\")\n",
    "        func()\n",
    "        print(\"Mach etwas nach dem Aufruf der Funktion\")\n",
    "    return wrapper_func\n",
    "\n",
    "def func(): \n",
    "    print(\"Ich bin first-class Objekt!\")"
   ]
  },
  {
   "cell_type": "markdown",
   "metadata": {},
   "source": [
    "Die Funktion func() wird an die Dekorateur Funktion decorator_func() übergeben, welche wiederum eine Funktion func zurückgibt.<br> Diese zurückgegebene Funktion referenziert nun jedoch nicht mehr einfach nur die Funktion func() sondern sie referenziert die Wrapperfunktion wrapper_func().<br>wrapper_func() hat selber eine Referenz auf die ursprüngliche Funktion func() und ruft diese zwischen den beiden print() Aufrufen auf. \n",
    "\n",
    "Eine Funktion wie decorator_func() umhüllt (oder dekoriert) eine andere Funktion und modifiziert deren Verhalten (in diesem Beispiel werden zwei zusätzliche Sätze mit print() aus gegeben). Die Art und Weise wie die umhüllende Funktion eine Funktion modifiziert, kann natürlich immer wieder angepasst werden werden (ohne dass die Funktion func() selber geändert werden muss)."
   ]
  },
  {
   "cell_type": "code",
   "execution_count": 2,
   "metadata": {},
   "outputs": [
    {
     "name": "stdout",
     "output_type": "stream",
     "text": [
      "Ich bin first-class Objekt!\n",
      "140565078643040\n",
      "Mach etwas vor dem Aufruf der Funktion\n",
      "Ich bin first-class Objekt!\n",
      "Mach etwas nach dem Aufruf der Funktion\n",
      "140565078644192\n"
     ]
    }
   ],
   "source": [
    "func()\n",
    "print(id(func))\n",
    "# Der Rückgabewert referenziert nicht mehr die ursprüngliche Funktion func() sondern die Wrapperfunktion wrapper_func():\n",
    "func = decorator_func(func) \n",
    "\n",
    "# Die Funktion kann nun durch Zufügen der runden Klammern auch ausgeführt werden: \n",
    "func()\n",
    "print(id(func))"
   ]
  },
  {
   "cell_type": "markdown",
   "metadata": {},
   "source": [
    "**Dekorateur mit @**\n",
    "\n",
    "Die gezeigte Implementierung ist etwas unschön, der Funktionsname func muss mindestens dreimal geschrieben werden (bei der Funktionsdefinition, bei der Übergabe als Argument an den Dekorateur und in Form des Rückgabewerts vom Dekorateur). \n",
    "Python liefert uns für diese Unschönheit eine schönere Schreibweise mit dem @ Symbol, dabei wird oberhalb der zu umhüllenden Funktion das @ Symbol gefolgt von dem Funktionsnamen des Dekorateurs geschrieben. <br>Das folgende Beispiel ist genau dasselbe wie das oben gezeigte: "
   ]
  },
  {
   "cell_type": "code",
   "execution_count": null,
   "metadata": {},
   "outputs": [],
   "source": [
    "def decorator_func(func):\n",
    "    def wrapper_func():\n",
    "        print(\"Mach etwas vor dem Aufruf der Funktion\")\n",
    "        func()\n",
    "        print(\"Mach etwas nach dem Aufruf der Funktion\")\n",
    "    return wrapper_func\n",
    "\n",
    "# Die folgende Syntax ist genau dasselbe wie func = decorator_func(func), einfach viel hübscher!\n",
    "@decorator_func\n",
    "def func(): \n",
    "    print(\"Ich bin first-class Objekt!\")"
   ]
  },
  {
   "cell_type": "code",
   "execution_count": null,
   "metadata": {},
   "outputs": [],
   "source": [
    "func()"
   ]
  },
  {
   "cell_type": "markdown",
   "metadata": {},
   "source": [
    "### Property\n",
    "\n",
    "Dieselbe Syntax kann man auch für die Erstellung von Getter- und Setter- (und Deleter)-Methoden verwenden.\n",
    "Hierbei werden die Funktionen mit Hilfe der Property Klasse dekoriert, was zur Folge hat, dass man auf die privaten Attribute von aussen wie auf public Attribute zugreifen kann. Beim Zugriff wird jedoch die entsprechende Get- bzw. Set-Methode aufgerufen.<br> \n",
    "\n",
    "**property(fget=None, fset=None, fdel=None, doc=None) dient als Dekorateur und nimmt folgende Argumente entgegen:** \n",
    "\n",
    "- fget ist eine Referenz auf eine Getter Funktion, welche den Wert des Attributs holt.\n",
    "- fset ist eine Referenz auf eine Setter Funktion, welche den Wert des Attributs setzt.\n",
    "- fdel ist eine Referenz auf eine Delete Funktion, welche den Wert des Attributs löscht.\n",
    "- doc  ist eine Referenz auf einen Docstring, welcher das Attribut beschreibt.\n",
    "\n",
    "Als Rückgabewert erhält man ein Property Objekt, mit welchem man die Werte von Attribute lesen, schreiben oder löschen kann und zwar mit derselben Syntax als würde man auf das Attribut direkt zugreifen (was nicht der Fall ist, beim vermeintlich direkten Zugriff wird im Hintergrund automatisch über das Property Objekt die Getter- oder Setter-Methode aufgerufen).\n",
    "\n",
    "https://docs.python.org/3/library/functions.html#property"
   ]
  },
  {
   "cell_type": "code",
   "execution_count": null,
   "metadata": {},
   "outputs": [],
   "source": [
    "class Konto:\n",
    "    '''Diese Klasse stellt ein Bankkonto dar.'''\n",
    "    zinssatz = 0.15   # Klassen-Variable\n",
    "    \n",
    "    def __init__(self, inhaber, kontonummer, kontostand):\n",
    "        '''Diese Methode initialisiert die Variablen.'''\n",
    "        self.inhaber = inhaber\n",
    "        self.kontonummer = kontonummer\n",
    "        self.__kontostand = kontostand\n",
    "\n",
    "    def __get_kontostand(self):\n",
    "        print('Der Kontostand wurde abgefragt.')\n",
    "        return self.__kontostand        \n",
    "        \n",
    "    def __set_kontostand(self, n):\n",
    "        self.__kontostand = n\n",
    "        print(f\"Der Kontostand wurde auf {self.__kontostand} geändert.\")\n",
    "        \n",
    "    kontostand = property(__get_kontostand, __set_kontostand) "
   ]
  },
  {
   "cell_type": "code",
   "execution_count": null,
   "metadata": {},
   "outputs": [],
   "source": [
    "konto = Konto(\"Peter Müller\", \"8-7-8-7\", 1000)\n",
    "konto.kontostand = 1000000\n",
    "print(konto.kontostand)\n",
    "type(konto.kontostand)"
   ]
  },
  {
   "cell_type": "markdown",
   "metadata": {},
   "source": [
    "**Property mit Dekorateur**: Auf pythonische Art und Weise\n",
    "\n",
    "https://docs.python.org/3/glossary.html#term-decorator"
   ]
  },
  {
   "cell_type": "code",
   "execution_count": null,
   "metadata": {},
   "outputs": [],
   "source": [
    "class Konto:\n",
    "    '''Diese Klasse stellt ein Bankkonto dar.'''\n",
    "    zinssatz = 0.15   # Klassen-Variable\n",
    "    \n",
    "    def __init__(self, inhaber, kontonummer, kontostand):\n",
    "        '''Diese Methode initialisiert die Variablen.'''\n",
    "        self.inhaber = inhaber\n",
    "        self.kontonummer = kontonummer\n",
    "        self.__kontostand = kontostand\n",
    "    \n",
    "    # Die Getter Methode kontostand(self) wird mit dem property() dekoriert\n",
    "    # Da die Getter Methode als erstes dekoriert wird, wird sie automatisch mit dem ersten Argument von property() \n",
    "    # verknüpft und zwar ist das die fget Funktion. \n",
    "    # Da der Name der Getter Methode identisch zum Attributnamen ist, scheint es so, als würden wir den Attributwert\n",
    "    # direkt lesen, obwohl wir eigentlich die Getter Methode aufrufen.\n",
    "    @property\n",
    "    def kontostand(self):\n",
    "        '''Die Variable Kontostand kann gelesen und gesetzt werden, wobei beide Male eine Ausgabe auf die Konsole erfolgt.'''\n",
    "        print('Der Kontostand wurde abgefragt.')\n",
    "        return self.__kontostand        \n",
    "    \n",
    "    # Wie wir bereits wissen ist obiger Code äquivalent zu kontostand = property(kontostand). \n",
    "    # Wir müssen unsere Setter Methode nun über das erhaltene Property Objekt \"kontostand\" dekorieren.\n",
    "    # Damit unser Setter mit der fset Methode referenziert wird, muss bei der Dekoration der Suffix .setter angegeben werden\n",
    "    # (Für fdel ist es .deleter)\n",
    "    @kontostand.setter    \n",
    "    def kontostand(self, n):\n",
    "        self.__kontostand = n\n",
    "        print(f\"Der Kontostand wurde auf {self.__kontostand} geändert.\")"
   ]
  },
  {
   "cell_type": "code",
   "execution_count": null,
   "metadata": {},
   "outputs": [],
   "source": [
    "konto = Konto(\"Peter Müller\", \"8-7-8-7\", 1000)\n",
    "konto.kontostand = 1000000\n",
    "print(konto.kontostand)\n",
    "help(konto)"
   ]
  },
  {
   "cell_type": "code",
   "execution_count": null,
   "metadata": {},
   "outputs": [],
   "source": [
    "dir(konto)"
   ]
  }
 ],
 "metadata": {
  "kernelspec": {
   "display_name": "Python 3 (ipykernel)",
   "language": "python",
   "name": "python3"
  },
  "language_info": {
   "codemirror_mode": {
    "name": "ipython",
    "version": 3
   },
   "file_extension": ".py",
   "mimetype": "text/x-python",
   "name": "python",
   "nbconvert_exporter": "python",
   "pygments_lexer": "ipython3",
   "version": "3.9.7"
  }
 },
 "nbformat": 4,
 "nbformat_minor": 2
}
