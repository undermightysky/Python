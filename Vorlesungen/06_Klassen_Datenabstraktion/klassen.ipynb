{
 "cells": [
  {
   "cell_type": "markdown",
   "metadata": {},
   "source": [
    "# Klassen\n",
    "\n",
    "Das Grundkonzept der objektorientierten Programmierung besteht darin, Daten und deren Funktionen (Methoden), - d.h. Funktionen, die auf diese Daten angewendet werden können - in einem Objekt zusammenzufassen und nach außen zu kapseln, so dass Methoden fremder Objekte diese Daten nicht direkt manipulieren können.\n",
    "Objekte werden über Klassen definiert.\n",
    "Eine Klasse ist eine formale Beschreibung, wie ein Objekt beschaffen ist, d.h. welche Daten und welche Methoden sie hat. <br>"
   ]
  },
  {
   "cell_type": "markdown",
   "metadata": {},
   "source": [
    "### Terminologie\n",
    "\n",
    "Die **Daten (oder Eigenschaften) eines Objektes** werden allgemein auch **Attribute** genannt. <br>\n",
    "\n",
    "Die Python Entwickler verwenden das Wort **Attribut grundsätzlich für jeden Namen, der nach dem Punkt folgt** (bspw. liste1.append(3) oder z.real). <br>\n",
    "Die dir(object) Funktion listet alle Attribute eines Objektes auf. <br>\n",
    "Man unterscheidet zwischen **Datenattributen und Methodenattributen**."
   ]
  },
  {
   "cell_type": "markdown",
   "metadata": {},
   "source": [
    "## Einfache Klasse definieren\n",
    "Alle Klassendefinitionen beginnen mit dem Schlüsselwort **class**, dem der Name der Klasse und ein Doppelpunkt folgen. Jeder Code, der unterhalb der Klassendefinition eingerückt ist, wird als Teil des Klassenkörpers betrachtet."
   ]
  },
  {
   "cell_type": "code",
   "execution_count": null,
   "metadata": {},
   "outputs": [],
   "source": [
    "class Konto:\n",
    "    '''Diese Klasse stellt ein Bankkonto dar.'''\n",
    "    pass"
   ]
  },
  {
   "cell_type": "code",
   "execution_count": null,
   "metadata": {},
   "outputs": [],
   "source": [
    "help(Konto)"
   ]
  },
  {
   "cell_type": "markdown",
   "metadata": {},
   "source": [
    "## Objekt instanzieren\n",
    "Ein Objekt ist eine Instanz einer Klasse. "
   ]
  },
  {
   "cell_type": "code",
   "execution_count": null,
   "metadata": {},
   "outputs": [],
   "source": [
    "konto1 = Konto()\n",
    "konto1"
   ]
  },
  {
   "cell_type": "markdown",
   "metadata": {},
   "source": [
    "## Datenattribute\n",
    "Datenattribute werden normalerweise innerhalb einer Klasse definiert und speichern die Daten der instanzierten Objekte. <br>\n",
    "Häufig sind es einfache \"Variablen\" <br>\n",
    "(wobei eine Variable in Python nichts anderes ist als eine Referenz auf ein Objekt einer bestimmten Klasse, bspw. der int Klasse). <br>\n",
    "Je nachdem, wo eine Variable innerhalb der Klasse definiert wird, spricht man von einer Klassen- oder von einer Instanzvariable."
   ]
  },
  {
   "cell_type": "markdown",
   "metadata": {},
   "source": [
    "### Klassen- und Instanzvariablen\n",
    "\n",
    "Die Daten einer **Klassenvariable** sind für **alle Objekte einer Klasse gleich**. Eine **Variable, die ausserhalb einer Klassenmethode erstellt wird, ist automatisch eine Klassenvariable**. Klassenvariablen werden direkt unterhalb der ersten Zeile des Klassennamens definiert. Sie müssen immer mit einem Initialwert belegt werden. Wenn eine Instanz der Klasse erzeugt wird, werden die Klassenvariablen automatisch erzeugt und mit ihren Anfangswerten belegt.<br>\n",
    "Verwenden Sie Klassenvariablen, um Eigenschaften zu definieren, die für jede Klasseninstanz den gleichen Wert haben sollen (bspw. Konstanten wie die Lichtgeschwindigkeit oder wie im Beispiel unten der Zinssatz, welcher für alle Konti gleich ist). \n",
    "\n",
    "Die **Daten eine Instanzvariable** sind für jedes **Objekt einer Klasse individuell**.<br>\n",
    "Eine **Variable**, die mit **\"self.name\" innerhalb einer Klassenmethode** erstellt wird, ist **automatisch** eine **Instanzvariable.** <br>\n",
    "Verwenden Sie Instanzvariablen für Eigenschaften, die von einer Instanz zur anderen variieren.<br>\n",
    "\n",
    "Es ist sehr empfehlenswert, ALLE Instanzvariablen innerhalb der __init__(self) Methode zu definieren. <br>\n",
    "Die **__init__(self) Methode wird automatisch nach Erzeugung des Objektes (NACH dem Konstruktor) aufgerufen und initialisiert somit alle darin enthaltenen Attribute**. <br>\n",
    "Grundsätzlich liegt es in der Verantwortung des Programmierers, dass ein Objekt sich nach seiner Instanzierung und nach Beendigung einer Methode immer in einem konsistenten Zustand befindet.\n",
    "\n",
    "Die Klassenvariable kann natürlich auch innerhalb von Methoden verwendet werden. \n",
    "Der Zugriff kann über den self Parameter erfolgen (wie im Beispiel unten gezeigt) oder über den Klassennamen (in diesem Falle wäre das Konto.zinssatz). <br>\n",
    "Innerhalb einer Methode kann man grundsätzlich mit Hilfe von self auf die Klassenvariable zugreifen. <br>\n",
    "Wenn man sich jedoch ganz sicher sein möchte, dass wirklich der Wert verwendet wird, welcher in der Klasse definiert worden ist, dann kann man auch mit Hilfe des Klassennamens auf die Variable zugreifen. "
   ]
  },
  {
   "cell_type": "code",
   "execution_count": null,
   "metadata": {},
   "outputs": [],
   "source": [
    "class Konto:\n",
    "    '''Diese Klasse stellt ein Bankkonto dar.'''\n",
    "    zinssatz = 0.15   # Klassenvariable\n",
    "    \n",
    "    def __init__(self, inhaber, kontonummer, kontostand):\n",
    "        '''Diese Methode initialisiert die Variablen.'''\n",
    "        self.inhaber = inhaber\n",
    "        self.kontonummer = kontonummer\n",
    "        # Zugriff auf die Klassenvariable über den self Parameter oder über den Klassennamen\n",
    "        self.kontostand = kontostand + kontostand*self.zinssatz\n",
    "        self.kontostand = kontostand + kontostand*Konto.zinssatz"
   ]
  },
  {
   "cell_type": "code",
   "execution_count": null,
   "metadata": {},
   "outputs": [],
   "source": [
    "konto1 = Konto()\n",
    "konto2 = Konto()"
   ]
  },
  {
   "cell_type": "code",
   "execution_count": null,
   "metadata": {},
   "outputs": [],
   "source": [
    "print('konto1:', konto1.zinssatz)\n",
    "print('konto2:', konto2.zinssatz)"
   ]
  },
  {
   "cell_type": "code",
   "execution_count": null,
   "metadata": {},
   "outputs": [],
   "source": [
    "konto1.inhaber = 'Peter Müller'\n",
    "konto2.inhaber = 'Marek Sommer'"
   ]
  },
  {
   "cell_type": "code",
   "execution_count": null,
   "metadata": {},
   "outputs": [],
   "source": [
    "print(id(konto1.zinssatz))\n",
    "print(id(konto2.zinssatz))"
   ]
  },
  {
   "cell_type": "markdown",
   "metadata": {},
   "source": [
    "Möchte man von aussen auf eine Klassenvariable zugreifen, so sollte der Zugriff ausschliesslich über den Klassennamen erfolgen:"
   ]
  },
  {
   "cell_type": "code",
   "execution_count": null,
   "metadata": {},
   "outputs": [],
   "source": [
    "print(Konto.zinssatz)"
   ]
  },
  {
   "cell_type": "markdown",
   "metadata": {},
   "source": [
    "**Achtung:** bei gleichem Namen haben die Instanzvariablen Vorrang."
   ]
  },
  {
   "cell_type": "code",
   "execution_count": null,
   "metadata": {},
   "outputs": [],
   "source": [
    "print(f'Zinssatz {konto1.zinssatz} ist eine Klassenvariable mit der id {id(konto1.zinssatz)}:')\n",
    "print(f'Zinssatz {konto2.zinssatz} ist eine Klassenvariable mit der id {id(konto2.zinssatz)}:')\n",
    "konto1.zinssatz = 0.03  # hier wird eine neue Instanzvariable für die Instanz \"konto1\" erzeugt\n",
    "print(f'Zinssatz {konto1.zinssatz} ist eine Instanzvariable mit der id {id(konto1.zinssatz)}:')\n",
    "print(f'Zinssatz {konto2.zinssatz} ist eine Klassenvariable mit der id {id(konto2.zinssatz)}:')"
   ]
  },
  {
   "cell_type": "markdown",
   "metadata": {},
   "source": [
    "## Methoden(attribute)\n",
    "\n",
    "Unterschiede zwischen einer Methode und einer gewöhnlichen Funktion:\n",
    "- eine Methode wird innerhalb eines **class** Blocks definiert\n",
    "- der erste Parameter (**self**) einer Methode ist **immer eine Referenz auf die Instanz, von der sie aufgerufen wird**. Der Name \"self\" muss nicht zwingend so gewählt werden, man könnte irgendeinen Namen für diesen Parameter wählen, jedoch ist der Name \"self\" der gebräuchlichste. \n",
    "\n",
    "Methoden wie **\\_\\_init__( )**  werden Dunder-Methoden (von Double Under(scores)) oder magische Methoden genannt. <br> Es sind **spezielle Methoden mit festem Namen** und beginnen und enden jeweils mit doppelten Unterstrichen. \n",
    "<br>\n",
    "Magische Methoden geben Klassen besondere Fähigkeiten. Einige dieser Methoden \n",
    "(wie bspw. die **\\_\\_init__( )** Methode) werden im Hintergrund ohne unser aktives Zutun ausgeführt, mit anderen (bspw. mit\n",
    "**\\_\\_add__( )**) können Operatoren überladen werden. "
   ]
  },
  {
   "cell_type": "code",
   "execution_count": null,
   "metadata": {},
   "outputs": [],
   "source": [
    "class Konto:\n",
    "    '''Diese Klasse stellt ein Bankkonto dar.'''\n",
    "    zinssatz = 0.15\n",
    "    \n",
    "    def __init__(self, inhaber, kontonummer, kontostand):\n",
    "        '''Diese Methode initialisiert die Variablen.'''\n",
    "        self.inhaber = inhaber\n",
    "        self.kontonummer = kontonummer\n",
    "        self.kontostand = kontostand + kontostand*self.zinssatz\n",
    "    \n",
    "    def einzahlen(self, betrag):\n",
    "        '''Zahlt einen Betrag auf das Konto ein.'''\n",
    "        self.kontostand += betrag\n",
    "        print(f'Eingezahlter Betrag: {betrag} \\nNeuer Kontostand: {self.kontostand}')"
   ]
  },
  {
   "cell_type": "code",
   "execution_count": null,
   "metadata": {},
   "outputs": [],
   "source": [
    "konto1 = Konto(\"Peter Müller\", \"5-7-8-9\", 555)\n"
   ]
  },
  {
   "cell_type": "code",
   "execution_count": null,
   "metadata": {},
   "outputs": [],
   "source": [
    "konto1 = Konto(\"Peter Müller\", \"5-7-8-9\", 555)\n",
    "konto2 = Konto(\"Marek Sommer\", \"1-2-5-8\", 12345)"
   ]
  },
  {
   "cell_type": "code",
   "execution_count": null,
   "metadata": {},
   "outputs": [],
   "source": [
    "print(f\"Das Konto gehört {konto1.inhaber} und der Kontostand beträgt {konto1.kontostand} CHF\")\n",
    "print(f\"Das Konto gehört {konto2.inhaber} und der Kontostand beträgt {konto2.kontostand} CHF\")"
   ]
  },
  {
   "cell_type": "markdown",
   "metadata": {
    "collapsed": true
   },
   "source": [
    "### Methoden aufrufen"
   ]
  },
  {
   "cell_type": "markdown",
   "metadata": {},
   "source": [
    "Der **self**-Parameter wird beim Aufruf nicht angegeben."
   ]
  },
  {
   "cell_type": "code",
   "execution_count": null,
   "metadata": {},
   "outputs": [],
   "source": [
    "konto1 = Konto(\"Peter Müller\", \"5-7-8-9\", 555)"
   ]
  },
  {
   "cell_type": "markdown",
   "metadata": {},
   "source": [
    "Python bindet alle Methoden automatisch an die Instanz."
   ]
  },
  {
   "cell_type": "code",
   "execution_count": null,
   "metadata": {},
   "outputs": [],
   "source": [
    "konto1.einzahlen(100)"
   ]
  },
  {
   "cell_type": "markdown",
   "metadata": {},
   "source": [
    "Grundsätzlich entspricht dies dem folgenden Aufruf:"
   ]
  },
  {
   "cell_type": "code",
   "execution_count": null,
   "metadata": {},
   "outputs": [],
   "source": [
    "Konto.einzahlen(self=konto1, betrag=100)"
   ]
  },
  {
   "cell_type": "markdown",
   "metadata": {},
   "source": [
    "Wird also eine Methode über den Objektnamen aufgerufen, so wird automatisch das Objekt als erstes Argument an die Methode übergeben. Darum ist es notwendig, dass der erste Parameter einer jeder Methode die Referenz auf ein Objekt ist (der self Paramater). "
   ]
  },
  {
   "cell_type": "markdown",
   "metadata": {},
   "source": [
    "## Static Methods (nicht prüfungsrelevant)\n",
    "\n",
    "Äquivalent zu den Klassenvariablen gibt es bei den Methoden die so genannten **statischen Methoden**. <br>\n",
    "Diese sind -- genau wie die Klassenvariablen -- **nicht an eine Instanz sondern an die Klasse selber gebunden**. <br>\n",
    "Sie erfordern **keine Erstellung einer Klasseninstanz** und sind somit auch nicht vom Zustand des Objekts abhängig, sie arbeiten nur mit den ihr gegebenen Parametern. <br>\n",
    "Statische Methoden haben einen begrenzten Anwendungsfall, da sie nicht auf die Eigenschaften der Klasse selbst zugreifen können. Sie werden meist in Form von Hilfsfunktionen eingesetzt. <br>\n",
    "\n",
    "Um eine statische Methode zu erzeugen, muss der **@staticmethod Dekorateur** oberhalb der Methodendefinition hinzugefügt werden.<br> \n",
    "Die nachfolgende Syntax:"
   ]
  },
  {
   "cell_type": "code",
   "execution_count": null,
   "metadata": {},
   "outputs": [],
   "source": [
    "class A:\n",
    "    def __init__(self):\n",
    "        self.value = 0\n",
    "    \n",
    "    @staticmethod\n",
    "    my_static_method(arg): \n",
    "        if self.value > arg:\n",
    "            return True\n",
    "        return False"
   ]
  },
  {
   "cell_type": "markdown",
   "metadata": {},
   "source": [
    "ist äquivalent mit folgender Syntax: "
   ]
  },
  {
   "cell_type": "code",
   "execution_count": null,
   "metadata": {},
   "outputs": [],
   "source": [
    "class A:\n",
    "    def __init__(self):\n",
    "        self.value = 0\n",
    "    \n",
    "    my_static_method(arg): \n",
    "        if self.value > arg:\n",
    "            return True\n",
    "        return False\n",
    "    A.my_static_method = staticmethod(A.my_static_method)"
   ]
  },
  {
   "cell_type": "markdown",
   "metadata": {},
   "source": [
    "**Warum sollte der Dekorateur @staticmethod verwendet werden? (Man könnte auch einfach die Funktion ohne den Dekorateur definieren).** <br>\n",
    "\n",
    "In Python 2 waren Funktionen, welche innerhalb einer Klasse definiert worden waren, automatisch in so genannte \"ungebundene Methoden\" umgewandelt worden und konnten ohne den staticmethod Dekorateur gar nicht aufgerufen werden. \n",
    "\n",
    "In Python 3 wurde dieses Konzept abgeschafft.<br>\n",
    "Man kann nun also \"einfache\" Funktionen innerhalb einer Klasse definieren und über den Klassennamen direkt aufrufen.<br> \n",
    "Der Hauptgrund, @staticmethod auch in Python 3 noch zu verwenden, ist, wenn man die statische Methode auch über eine Instanz aufrufen möchte. Verwendet man den Dekorateur nicht, so wird der Methode automatisch immer die Instanz als ersten Parameter übergeben, was in diesem Fall einen TypeError verursachen würde (denn eine statische Methode nimmt als ersten Parameter eben NICHT self entgegen). "
   ]
  },
  {
   "cell_type": "code",
   "execution_count": null,
   "metadata": {},
   "outputs": [],
   "source": [
    "class Konto:\n",
    "    '''Diese Klasse stellt ein Bankkonto dar.'''\n",
    "    zinssatz = 0.15\n",
    "    \n",
    "    def __init__(self, inhaber, kontonummer, kontostand):\n",
    "        '''Diese Methode initialisiert die Variablen.'''\n",
    "        self.inhaber = inhaber\n",
    "        self.kontonummer = kontonummer\n",
    "        self.kontostand = kontostand + kontostand*self.zinssatz\n",
    "    \n",
    "    def einzahlen(self, betrag):\n",
    "        '''Zahlt einen Betrag auf das Konto ein.'''\n",
    "        if self.pruefe_betrag(betrag):\n",
    "            self.kontostand += betrag\n",
    "            print(f'Eingezahlter Betrag: {betrag} \\nNeuer Kontostand: {self.kontostand}')\n",
    "        else:\n",
    "            print(f'Betrag {betrag} ist zu hoch, Zollbehörde wurde informiert!')\n",
    "     \n",
    "    @staticmethod\n",
    "    def pruefe_betrag(betrag): \n",
    "        if betrag <= 10000: \n",
    "            return True\n",
    "        return False"
   ]
  },
  {
   "cell_type": "code",
   "execution_count": null,
   "metadata": {},
   "outputs": [],
   "source": [
    "# Die statische Methode kann ohne die Instanzierung eines Objektes über den Klassennamen verwendet werden\n",
    "Konto.pruefe_betrag(50000)"
   ]
  },
  {
   "cell_type": "code",
   "execution_count": null,
   "metadata": {},
   "outputs": [],
   "source": [
    "# Die statische Methode wird hier über die Instanz (innerhalb der einzahlen-Methode) aufgerufen\n",
    "konto1 = Konto(\"Marek Sommer\", \"1-2-5-8\", 12345)\n",
    "konto1.einzahlen(400)"
   ]
  },
  {
   "cell_type": "code",
   "execution_count": null,
   "metadata": {},
   "outputs": [],
   "source": [
    "konto1.einzahlen(50000)"
   ]
  }
 ],
 "metadata": {
  "kernelspec": {
   "display_name": "Python 3 (ipykernel)",
   "language": "python",
   "name": "python3"
  },
  "language_info": {
   "codemirror_mode": {
    "name": "ipython",
    "version": 3
   },
   "file_extension": ".py",
   "mimetype": "text/x-python",
   "name": "python",
   "nbconvert_exporter": "python",
   "pygments_lexer": "ipython3",
   "version": "3.9.7"
  }
 },
 "nbformat": 4,
 "nbformat_minor": 2
}
