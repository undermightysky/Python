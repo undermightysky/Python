{
 "cells": [
  {
   "cell_type": "markdown",
   "metadata": {},
   "source": [
    "# NumPy ndarray\n",
    "\n",
    "NumPy Datenstrukturen bieten gegenüber den bereits bekannten Datenstrukturen in Python (Listen, Tupel, Dictionaries) ein paar Vorteile: \n",
    "\n",
    "- Sie ermöglichen Array-basierte Operationen sowie Broadcasting\n",
    "- Die Berechnung mit ndarrays ist um ein Vielfaches schneller als mit herkömmlichen Listen etc. \n",
    "\n",
    "N-dimensionale Arrays können mit der Klasse numpy.ndarray() erzeugt werden. \n",
    "Ein solches ndarray Objekt stellt ein mehrdimensionales, homogenes Array mit Elementen fester Größe dar. \n",
    "ndarray Objekte ermöglichen es nicht nur Daten strukturiert abzuspeichern, sie bieten auch eine Auswahl an nützlichen Attributen und Methoden, die auf die Arrays angewendet werden können. Als Nachschlagewerk eignet sich die offizielle Dokumentation: \n",
    "\n",
    "\n",
    "https://numpy.org/doc/stable/reference/generated/numpy.ndarray.html\n",
    "\n",
    "## Array-basierte Operation & Broadcasting\n",
    "\n",
    "ndarray Objekte ermöglichen Array-basierte Operationen und das so genannte Broadcasting:<br>\n",
    "\n",
    "Bei der Array-basierten Operation (man spricht hier auch von Vektorisierung) wird für jedes Element in einem Array die gleiche Operation auf die gleiche Weise ausgeführt. Das bedeutet, es werden **keine for-Schleifen** benötigt, was einerseits die Leserlichkeit des Codes erhöht und andererseits die Fehleranfälligkeit senkt. \n",
    "\n",
    "Broadcasting ist der Prozess, zwei Arrays unterschiedlicher Form zu erweitern und herauszufinden, wie man eine vektorisierte Berechnung zwischen ihnen durchführen kann. Im unten stehenden Beispiel in der Zeile **temp_F_arr = temp_C_arr*9/5 + 32*** ist die Zahl **32** ein Skalar und **temp_C_arr** ein Vektor. Obwohl die beiden Operanden nicht diesselbe Form haben, ist NumPy in der Lage den Skalar zu jedem Element im Vektor zu addieren und als Ergebnis einen neuen Vektor zurückzugeben."
   ]
  },
  {
   "cell_type": "markdown",
   "metadata": {},
   "source": [
    "Das Modul muss vor seiner Nutzung importiert werden.\n",
    "In den allermeisten Fällen wird der Name \"numpy\" hierbei mit \"np\" abgekürzt:"
   ]
  },
  {
   "cell_type": "code",
   "execution_count": 5,
   "metadata": {},
   "outputs": [],
   "source": [
    "import numpy as np"
   ]
  },
  {
   "cell_type": "code",
   "execution_count": 6,
   "metadata": {},
   "outputs": [
    {
     "name": "stdout",
     "output_type": "stream",
     "text": [
      "[69.62, 69.8, 72.32, 73.4, 73.94, 75.2, 75.56, 75.2, 75.38, 74.84]\n",
      "[69.62 69.8  72.32 73.4  73.94 75.2  75.56 75.2  75.38 74.84]\n"
     ]
    }
   ],
   "source": [
    "temp_C_list = [20.9, 21, 22.4, 23, 23.3, 24, 24.2, 24, 24.1, 23.8]\n",
    "temp_C_arr = np.array([20.9, 21, 22.4, 23, 23.3, 24, 24.2, 24, 24.1, 23.8])\n",
    "\n",
    "# Temperatur von Celsius in Fahrenheit umrechnen\n",
    "temp_F_list = [value*9/5 + 32 for value in temp_C_list]\n",
    "temp_F_arr = temp_C_arr*9/5 + 32\n",
    "\n",
    "print(temp_F_list)\n",
    "print(temp_F_arr)"
   ]
  },
  {
   "cell_type": "markdown",
   "metadata": {},
   "source": [
    "# Vergleich Ausführgeschwindigkeit mit NumPy ndarray und Python Lists\n",
    "\n",
    "Das nachfolgende Beispiel demonstriert den Vorteil der NumPy ndarrays gegenüber herkömmlichen Python Listen bezüglich der Ausführgeschwindigkeit. \n",
    "\n",
    "Beide Funktionen **pure_python_version( )** sowie **numpy_version( )** addieren zwei Vektoren elementweise und speichern diese in einem neuen Vektor. <br> In der Funktion **pure_python_version( )** werden die Vektoren als Listen abgebildet, in der Funktion **numpy_version()** als ndarrays. <br>\n",
    "Mit Hilfe des **timeit Moduls** und der **repeat( )**-Methode können die beiden Funktionen mehrmals aufgerufen werden und die Ausführungszeit gemessen werden. \n",
    "In diesem Beispiel werden beide Funktionen 1000 mal ausgeführt und dies wird 5 mal wiederholt. Das Timer Objekt misst dabei jedes Mal, wie lange die 1000 Ausführungen der jeweiligen Funktion dauert. \n",
    "Diese resultierenden Zeitmessungen werden dann in einem Diagramm dargestellt. \n",
    "\n",
    "Die Resultate sprechen für sich selbst. \n"
   ]
  },
  {
   "cell_type": "code",
   "execution_count": 7,
   "metadata": {},
   "outputs": [
    {
     "data": {
      "image/png": "[encoded data removed]",
      "text/plain": [
       "<Figure size 432x288 with 1 Axes>"
      ]
     },
     "metadata": {
      "needs_background": "light"
     },
     "output_type": "display_data"
    }
   ],
   "source": [
    "from timeit import Timer\n",
    "import matplotlib.pyplot as plt \n",
    "size_of_vec = 1000\n",
    "def pure_python_version():\n",
    "    X = range(size_of_vec)\n",
    "    Y = range(size_of_vec)\n",
    "    Z = [X[i] + Y[i] for i in range(len(X))]\n",
    "def numpy_version():\n",
    "    X = np.arange(size_of_vec)\n",
    "    Y = np.arange(size_of_vec)\n",
    "    Z = X + Y\n",
    "timer_obj1 = Timer(\"pure_python_version()\", \n",
    "                   \"from __main__ import pure_python_version\")\n",
    "timer_obj2 = Timer(\"numpy_version()\", \n",
    "                   \"from __main__ import numpy_version\")\n",
    "result1 = np.array(timer_obj1.repeat(repeat=5, number=1000))\n",
    "result2 = np.array(timer_obj2.repeat(repeat=5, number=1000))\n",
    "nr = np.linspace(0,4,5)\n",
    "\n",
    "plt.plot(nr, result1*1000, 'o', label='Pure Python')\n",
    "plt.plot(nr,result2*1000, 'o', label='Numpy')\n",
    "plt.xlabel('Executions', fontsize=18)\n",
    "plt.ylabel('Time (ms)', fontsize=18)\n",
    "plt.legend(fontsize=12)\n",
    "plt.xticks(nr)\n",
    "plt.grid(True)\n",
    "# plt.show()\n",
    "plt.savefig(\"ausfuehrungszeiten.pdf\")"
   ]
  },
  {
   "cell_type": "markdown",
   "metadata": {},
   "source": [
    "## Arrays erzeugen\n",
    "\n",
    "Arrays unterscheiden sich grundsätzlich in ihrer Form und in ihrem Inhalt. Je nach \"Programmiersituation\" ist es sinnvoll, ein Array auf eine ganz bestimmte Art und Weise zu erzeugen. Im Nachfolgenden werden verschiedene solcher Methoden zur Erzeugung von ndarray Objekten vorgestellt. "
   ]
  },
  {
   "cell_type": "code",
   "execution_count": null,
   "metadata": {},
   "outputs": [],
   "source": [
    "# 1D Array mit array-Methode\n",
    "arr1 = np.array([1, 2, 3, 4, 5, 6])\n",
    "arr1"
   ]
  },
  {
   "cell_type": "code",
   "execution_count": null,
   "metadata": {},
   "outputs": [],
   "source": [
    "# 2D Array mit array-Methode\n",
    "arr2 = np.array([[1, 2, 3], [4, 5, 6]])\n",
    "arr2"
   ]
  },
  {
   "cell_type": "code",
   "execution_count": null,
   "metadata": {},
   "outputs": [],
   "source": [
    "# Anzahl Dimensionen des Arrays ermitteln \n",
    "arr1.ndim"
   ]
  },
  {
   "cell_type": "code",
   "execution_count": null,
   "metadata": {},
   "outputs": [],
   "source": [
    "# Grösse der einzelnen Dimensionen ermitteln, Shape ist ein Tuple\n",
    "arr2.shape"
   ]
  },
  {
   "cell_type": "markdown",
   "metadata": {},
   "source": [
    "Jedes ndarray hat ein zugehöriges Datentyp-Objekt (dtype). Das dtype Objekt beschreibt das Layout des ndarrays.<br> \n",
    "Es beschreibt folgende Eigenschaften der einzelnen Array-Elemente: \n",
    "- Datentyp (int, float, string, etc.)\n",
    "- Elementgrösse (Anzahl Bytes)\n",
    "- Byte-Reihenfolge (Little-Endian, Big-Endian)\n",
    "\n",
    "Mit Hilfe von dtype Objekten lassen sich auch strukturierte Arrays erstellen. Ein strukturiertes Array ist ein Array, welches verschiedene Datentypen in verschiedenen Feldern (Zeilen, Spalten, Array-Bereiche) enthält. Das dtype enthält dann die Beschreibung der jeweiligen Teilbereiche des strukturierten Arrays. Im Folgenden werden nur so genannte homogene Arrays behandelt. Das sind Arrays, bei welchen alle Elemente vom selben Datentyp sind. \n",
    "\n",
    "Bei der Erstellung eines Arrays kann der Datentyp der Elemente im Array über das dtype Schlüsselwort definiert werden. "
   ]
  },
  {
   "cell_type": "code",
   "execution_count": null,
   "metadata": {},
   "outputs": [],
   "source": [
    "# Datentyp der Elemente ermitteln\n",
    "arr1.dtype"
   ]
  },
  {
   "cell_type": "code",
   "execution_count": null,
   "metadata": {},
   "outputs": [],
   "source": [
    "# Datentyp eines Arrays mit Hilfe von dtype definieren\n",
    "arr1 = np.array([1, 2, 3, 4, 5, 6], dtype=np.int64)\n",
    "arr1.dtype"
   ]
  },
  {
   "cell_type": "code",
   "execution_count": null,
   "metadata": {},
   "outputs": [],
   "source": [
    "arr1.dtype"
   ]
  },
  {
   "cell_type": "code",
   "execution_count": null,
   "metadata": {},
   "outputs": [],
   "source": [
    "# Array-Kopie mit anderem Datentyp zurückgeben\n",
    "arr3 = arr1.astype(np.int32)\n",
    "arr3.dtype"
   ]
  },
  {
   "cell_type": "markdown",
   "metadata": {},
   "source": [
    "### Arrays mit gleichem Inhalt oder aus einem gegebenen Array erzeugen"
   ]
  },
  {
   "cell_type": "code",
   "execution_count": 2,
   "metadata": {},
   "outputs": [
    {
     "ename": "NameError",
     "evalue": "name 'np' is not defined",
     "output_type": "error",
     "traceback": [
      "\u001b[0;31m---------------------------------------------------------------------------\u001b[0m",
      "\u001b[0;31mNameError\u001b[0m                                 Traceback (most recent call last)",
      "\u001b[0;32m/var/folders/54/g5v9838x7zv3cppsbsd2rchr0000gn/T/ipykernel_6427/3272934416.py\u001b[0m in \u001b[0;36m<module>\u001b[0;34m\u001b[0m\n\u001b[1;32m      1\u001b[0m \u001b[0;31m# Array mit Einer\u001b[0m\u001b[0;34m\u001b[0m\u001b[0;34m\u001b[0m\u001b[0m\n\u001b[0;32m----> 2\u001b[0;31m \u001b[0mnp\u001b[0m\u001b[0;34m.\u001b[0m\u001b[0mones\u001b[0m\u001b[0;34m(\u001b[0m\u001b[0;34m(\u001b[0m\u001b[0;36m3\u001b[0m\u001b[0;34m,\u001b[0m\u001b[0;36m3\u001b[0m\u001b[0;34m)\u001b[0m\u001b[0;34m)\u001b[0m\u001b[0;34m\u001b[0m\u001b[0;34m\u001b[0m\u001b[0m\n\u001b[0m",
      "\u001b[0;31mNameError\u001b[0m: name 'np' is not defined"
     ]
    }
   ],
   "source": [
    "# Array mit Einer\n",
    "np.ones((3,3))"
   ]
  },
  {
   "cell_type": "code",
   "execution_count": null,
   "metadata": {},
   "outputs": [],
   "source": [
    "# Ein Array mit derselben Shape wie arr1, aber mit Einer gefüllt\n",
    "np.ones_like(arr1)"
   ]
  },
  {
   "cell_type": "code",
   "execution_count": 1,
   "metadata": {},
   "outputs": [
    {
     "ename": "NameError",
     "evalue": "name 'np' is not defined",
     "output_type": "error",
     "traceback": [
      "\u001b[0;31m---------------------------------------------------------------------------\u001b[0m",
      "\u001b[0;31mNameError\u001b[0m                                 Traceback (most recent call last)",
      "\u001b[0;32m/var/folders/54/g5v9838x7zv3cppsbsd2rchr0000gn/T/ipykernel_6427/1562932805.py\u001b[0m in \u001b[0;36m<module>\u001b[0;34m\u001b[0m\n\u001b[1;32m      1\u001b[0m \u001b[0;31m# Array mit Nullen\u001b[0m\u001b[0;34m\u001b[0m\u001b[0;34m\u001b[0m\u001b[0m\n\u001b[0;32m----> 2\u001b[0;31m \u001b[0mnp\u001b[0m\u001b[0;34m.\u001b[0m\u001b[0mzeros\u001b[0m\u001b[0;34m(\u001b[0m\u001b[0;34m(\u001b[0m\u001b[0;36m3\u001b[0m\u001b[0;34m,\u001b[0m \u001b[0;36m2\u001b[0m\u001b[0;34m)\u001b[0m\u001b[0;34m)\u001b[0m\u001b[0;34m\u001b[0m\u001b[0;34m\u001b[0m\u001b[0m\n\u001b[0m",
      "\u001b[0;31mNameError\u001b[0m: name 'np' is not defined"
     ]
    }
   ],
   "source": [
    "# Array mit Nullen\n",
    "np.zeros((3, 2))  "
   ]
  },
  {
   "cell_type": "code",
   "execution_count": null,
   "metadata": {},
   "outputs": [],
   "source": [
    "# Ein Array mit derselben Shape wie arr1, aber mit Nullen gefüllt\n",
    "np.zeros_like(arr1)  "
   ]
  },
  {
   "cell_type": "code",
   "execution_count": null,
   "metadata": {},
   "outputs": [],
   "source": [
    "# Array mit 3.5 gefüllt\n",
    "np.full((3, 2), 3.5)  "
   ]
  },
  {
   "cell_type": "code",
   "execution_count": null,
   "metadata": {},
   "outputs": [],
   "source": [
    "# Ein Array mit derselben Shape wie arr1, aber mit 3.5 gefüllt\n",
    "np.full_like(arr1, 3.5) "
   ]
  },
  {
   "cell_type": "markdown",
   "metadata": {},
   "source": [
    "### Nützliche Arrays"
   ]
  },
  {
   "cell_type": "code",
   "execution_count": null,
   "metadata": {},
   "outputs": [],
   "source": [
    "# Einheitsmatrix (identity() ruft eye() auf)\n",
    "np.eye(3)"
   ]
  },
  {
   "cell_type": "code",
   "execution_count": null,
   "metadata": {},
   "outputs": [],
   "source": [
    "np.identity(3)"
   ]
  },
  {
   "cell_type": "code",
   "execution_count": null,
   "metadata": {},
   "outputs": [],
   "source": [
    "# Array mit gleichmässig verteilten Zahlen von 0 bis 1 (Anzahl Werte wird vorgegeben -> Intervallgrösse im Array ergibt sich)\n",
    "np.linspace(0, 1, 6)  "
   ]
  },
  {
   "cell_type": "code",
   "execution_count": null,
   "metadata": {},
   "outputs": [],
   "source": [
    "# Array mit gleichmässig verteilten Zahlen von 0 bis ohne 1 (Intervallgrösse wird vorgegeben -> Anzahl Werte im Array ergibt sich)\n",
    "np.arange(0, 1, 0.1)  "
   ]
  },
  {
   "cell_type": "code",
   "execution_count": null,
   "metadata": {},
   "outputs": [],
   "source": [
    "# Array mit logarithmisch verteilten Zahlen zwischen 10**0...10**1\n",
    "np.logspace(0, 1, 6)  "
   ]
  },
  {
   "cell_type": "code",
   "execution_count": null,
   "metadata": {},
   "outputs": [],
   "source": [
    "# standard normalverteilte Zufallszahlen (mean = 0, variance = 1)\n",
    "np.random.randn(5)  "
   ]
  },
  {
   "cell_type": "code",
   "execution_count": null,
   "metadata": {},
   "outputs": [],
   "source": [
    "# standard normalverteilte Zufallszahlen (mean = 0, variance = 1)\n",
    "np.random.randn(3, 2)  "
   ]
  },
  {
   "cell_type": "code",
   "execution_count": null,
   "metadata": {},
   "outputs": [],
   "source": [
    "# gleichverteilte Zufallszahlen zwischen 0...99\n",
    "np.random.randint(0, 100, (3, 2))  "
   ]
  }
 ],
 "metadata": {
  "kernelspec": {
   "display_name": "Python 3 (ipykernel)",
   "language": "python",
   "name": "python3"
  },
  "language_info": {
   "codemirror_mode": {
    "name": "ipython",
    "version": 3
   },
   "file_extension": ".py",
   "mimetype": "text/x-python",
   "name": "python",
   "nbconvert_exporter": "python",
   "pygments_lexer": "ipython3",
   "version": "3.9.7"
  }
 },
 "nbformat": 4,
 "nbformat_minor": 2
}
