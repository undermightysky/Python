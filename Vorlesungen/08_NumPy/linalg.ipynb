{
 "cells": [
  {
   "cell_type": "markdown",
   "metadata": {},
   "source": [
    "# Lineare Algebra"
   ]
  },
  {
   "cell_type": "code",
   "execution_count": 1,
   "metadata": {},
   "outputs": [],
   "source": [
    "import numpy as np"
   ]
  },
  {
   "cell_type": "markdown",
   "metadata": {},
   "source": [
    "Matrix definieren"
   ]
  },
  {
   "cell_type": "code",
   "execution_count": 2,
   "metadata": {},
   "outputs": [],
   "source": [
    "M1 = np.array([[1, 2], [3, 4]])\n",
    "M2 = np.array([[5, 6], [7, 8]])"
   ]
  },
  {
   "cell_type": "markdown",
   "metadata": {},
   "source": [
    "Vektor definieren"
   ]
  },
  {
   "cell_type": "code",
   "execution_count": 3,
   "metadata": {},
   "outputs": [],
   "source": [
    "v1 = np.array([1, 2])\n",
    "v2 = np.array([3, 4])"
   ]
  },
  {
   "cell_type": "markdown",
   "metadata": {},
   "source": [
    "### Matrizenmultiplikation\n",
    "\n",
    "#### Fall 1 : nD Array mit Skalar\n",
    "Es wird eine elementweise Multiplikation durchgeführt (streng genommen handelt es sich bei diesem Fall nicht um Matrizenmultiplikation!)"
   ]
  },
  {
   "cell_type": "code",
   "execution_count": 4,
   "metadata": {},
   "outputs": [
    {
     "data": {
      "text/plain": [
       "array([[ 3,  6],\n",
       "       [ 9, 12]])"
      ]
     },
     "execution_count": 4,
     "metadata": {},
     "output_type": "execute_result"
    }
   ],
   "source": [
    "M1 * 3"
   ]
  },
  {
   "cell_type": "markdown",
   "metadata": {},
   "source": [
    "#### Fall 2: Beide Arrays sind 1D Arrays\n",
    "Um das Skalarprodukt (Punktprodukt, inneres Produkt) zweier Vektoren zu berechnen kann die **dot( )** Methode oder die **inner( )** Methode verwendet werden. Die Verwendung der **inner( )** Methode habt den Vorteil, dass man deutlich sieht, dass das innere Produkt berechnet werden soll, da die **dot( )** Methode im Gegensatz zur **inner( )** Methode auch Arrays höherer Dimension als Argument akzeptiert. "
   ]
  },
  {
   "cell_type": "code",
   "execution_count": null,
   "metadata": {
    "scrolled": false
   },
   "outputs": [],
   "source": [
    "np.dot(v1, v2)"
   ]
  },
  {
   "cell_type": "code",
   "execution_count": null,
   "metadata": {
    "scrolled": true
   },
   "outputs": [],
   "source": [
    "v1.dot(v2)"
   ]
  },
  {
   "cell_type": "code",
   "execution_count": null,
   "metadata": {},
   "outputs": [],
   "source": [
    "np.inner(v1, v2)"
   ]
  },
  {
   "cell_type": "markdown",
   "metadata": {},
   "source": [
    "#### Fall 3: Das erste Array ist nD, das zweite ist 1D\n",
    "\n",
    "Bei der Multiplikation eines nD Arrays und einem Vektor wird das Skalarprodukt der letzten Dimension des Arrays und des Vektors berechnet. \n",
    "\n",
    "Diese Multiplikation kann mit der **dot( )** Methode vorgenommen werden, man kann aber anstelle der **dot( )** Methode auch den **@ Operator** verwenden, welcher seit Python 3.5 für die Multiplikation von Matrizen verwendet werden kann. (Der **@ Operator** ruft im Hintergrund die Methode **matmul( )** auf, welche dasselbe Verhalten wie die **dot( )** Methode aufweist, sofern beide nD Arrays nicht die Dimension n > 2 haben). \n",
    "\n",
    "Diese Art der Array-Multiplikation ist bspw. bei der Verarbeitung von Messvektoren sehr praktisch. Möchte man gegebene Messvektoren durch Multiplikation mit einem anderen Vektor weiter verarbeiten, so kann man die Messvektoren zuerst so in ein Array abfüllen, dass die Vektoren über die letzte Dimension des Arrays angeordnet sind. Danach kann die Weiterverarbeitung mit Hilfe des **@ Operators** und einem gegebenen Vektor durchgeführt werden (natürlich muss auch hier die Reihenfolge der Operanden beachtet werden). "
   ]
  },
  {
   "cell_type": "code",
   "execution_count": 5,
   "metadata": {},
   "outputs": [
    {
     "data": {
      "text/plain": [
       "array([[0, 1],\n",
       "       [2, 3]])"
      ]
     },
     "execution_count": 5,
     "metadata": {},
     "output_type": "execute_result"
    }
   ],
   "source": [
    "M2x2 = np.arange(4).reshape(2, 2)\n",
    "M2x2"
   ]
  },
  {
   "cell_type": "code",
   "execution_count": 6,
   "metadata": {},
   "outputs": [],
   "source": [
    "v2 = np.array([1, 2])"
   ]
  },
  {
   "cell_type": "code",
   "execution_count": null,
   "metadata": {},
   "outputs": [],
   "source": [
    "M2x2 @ v2\n",
    "# äquivalent zu: np.dot(M2x2, v2)"
   ]
  },
  {
   "cell_type": "code",
   "execution_count": null,
   "metadata": {},
   "outputs": [],
   "source": [
    "M4x2 = np.arange(4*2).reshape([4,2])\n",
    "M4x2"
   ]
  },
  {
   "cell_type": "code",
   "execution_count": null,
   "metadata": {},
   "outputs": [],
   "source": [
    "M4x2 @ v2"
   ]
  },
  {
   "cell_type": "markdown",
   "metadata": {},
   "source": [
    "#### Fall 4: Das erste Array ist 1D, das zweite ist nD\n",
    "\n",
    "Bei der Multiplikation eines Vektors und einem nD Array wird das Skalarprodukt des Vektors und der zweitletzten Dimension des Arrays berechnet. \n",
    "\n",
    "Diese Multiplikation kann mit der **dot( )** Methode vorgenommen werden, man kann aber anstelle der **dot( )** Methode auch den **@ Operator** verwenden, welcher seit Python 3.5 für die Multiplikation von Matrizen verwendet werden kann. (Der **@ Operator** ruft im Hintergrund die Methode **matmul( )** auf, welche dasselbe Verhalten wie die **dot( )** Methode aufweist, sofern beide nD Arrays nicht die Dimension n > 2 haben)."
   ]
  },
  {
   "cell_type": "code",
   "execution_count": null,
   "metadata": {
    "scrolled": false
   },
   "outputs": [],
   "source": [
    "v2 @ M2x2\n",
    "# äquivalent zu: np.dot(v2, M2x2)"
   ]
  },
  {
   "cell_type": "code",
   "execution_count": null,
   "metadata": {},
   "outputs": [],
   "source": [
    "M5x2x3 = np.arange(5*2*3).reshape([5, 2, 3])\n",
    "v2 @ M5x2x3"
   ]
  },
  {
   "cell_type": "markdown",
   "metadata": {},
   "source": [
    "#### Fall 5: Beide Arrays a @ b sind nD\n",
    "\n",
    "Bei der Multiplikation zweier nD Arrays a und b wird das Skalarprodukt über die letzte Dimension von a und die zweitletzte Dimension von b berechnet. \n",
    "\n",
    "Sind beide 2D Arrays handelt es sich um die \"klassische\" Matrizenmultiplikation. Die Elemente im resultierenden Array entstehen durch das Skalarprodukt der zugehörigen Zeile aus dem ersten Array mit der zugehörigen Spalte aus dem zweiten Array. \n",
    "\n",
    "Diese Multiplikation kann mit der **dot( )** Methode vorgenommen werden, man kann aber anstelle der **dot( )** Methode auch den **@ Operator** verwenden, welcher seit Python 3.5 für die Multiplikation von Matrizen verwendet werden kann. (Der **@ Operator** ruft im Hintergrund die Methode **matmul( )** auf, welche dasselbe Verhalten wie die **dot( )** Methode aufweist, sofern beide nD Arrays nicht die Dimension n > 2 haben)."
   ]
  },
  {
   "cell_type": "code",
   "execution_count": null,
   "metadata": {},
   "outputs": [],
   "source": [
    "M2x2 @ M2x2"
   ]
  },
  {
   "cell_type": "code",
   "execution_count": null,
   "metadata": {},
   "outputs": [],
   "source": [
    "M4x2 = np.arange(4*2).reshape([4, 2])\n",
    "M5x2x3 = np.arange(5*2*3).reshape([5, 2, 3])\n",
    "M4x2 @ M5x2x3"
   ]
  },
  {
   "cell_type": "markdown",
   "metadata": {},
   "source": [
    "#### Ergänzung: \n",
    "Wenn **beide Arrays n > 2** haben, unterscheiden sich die Ergebnisse der **dot( )** Methode und des **@ Operators/matmul( )**. \n",
    "\n",
    "Im Folgenden ein Beispiel zur Ergänzung (in den Übungen werden Sie mit einem solchen Fall **nicht** konfrontiert werden):\n",
    "\n",
    "Der **@ Operator** berechnet die Matrixmultiplikation über die beiden Arrays, welche sich in der letzten Dimension befinden. \n",
    "\n",
    "Die **dot( ) Methode** hingegen führt eine Multiplikation als Summe der Produkte über die letzte Dimension des ersten Arrays und die zweitletze des zweiten Arrays durch."
   ]
  },
  {
   "cell_type": "code",
   "execution_count": null,
   "metadata": {},
   "outputs": [],
   "source": [
    "a = np.arange(2*3*3).reshape(2,3,3)\n",
    "b = np.arange(2*3*3).reshape(2,3,3)\n",
    "print(a)\n",
    "print(b)\n",
    "c = (a@b)\n",
    "d = np.dot(a,b)\n",
    "print(c,c.shape)\n",
    "print(d,d.shape)"
   ]
  },
  {
   "cell_type": "markdown",
   "metadata": {},
   "source": [
    "#### Matrix transponieren"
   ]
  },
  {
   "cell_type": "code",
   "execution_count": null,
   "metadata": {},
   "outputs": [],
   "source": [
    "np.transpose(M1)"
   ]
  },
  {
   "cell_type": "code",
   "execution_count": null,
   "metadata": {},
   "outputs": [],
   "source": [
    "M1.T"
   ]
  },
  {
   "cell_type": "markdown",
   "metadata": {},
   "source": [
    "#### Matrix invertieren"
   ]
  },
  {
   "cell_type": "code",
   "execution_count": null,
   "metadata": {},
   "outputs": [],
   "source": [
    "np.linalg.inv(M1)"
   ]
  },
  {
   "cell_type": "markdown",
   "metadata": {},
   "source": [
    "#### Gleichungssystem Ax = b nach x auflösen\n",
    "$$ 3x_0 +   x_1 = 9$$\n",
    "\n",
    "$$x_0   + 2x_1 = 8$$\n",
    "\n",
    "$$\n",
    "\\begin{align*}\n",
    "\\begin{bmatrix}\n",
    "3 & 1 \\\\\n",
    "1 & 2 \\\\\n",
    "\\end{bmatrix}\n",
    "\\begin{bmatrix}\n",
    "x_0\\\\\n",
    "x_1\\\\\n",
    "\\end{bmatrix} &=\n",
    "\\begin{bmatrix}\n",
    "9\\\\\n",
    "8\\\\\n",
    "\\end{bmatrix}\\;\\\\\n",
    "{\\textbf{A}} \\textbf{x} = \\textbf{b}\\;\\\\\n",
    " \\textbf{x} = {\\textbf{A}^{-1}}\\textbf{b}\\;\\\\\n",
    "\\end{align*}\n",
    "$$"
   ]
  },
  {
   "cell_type": "code",
   "execution_count": 10,
   "metadata": {},
   "outputs": [
    {
     "name": "stdout",
     "output_type": "stream",
     "text": [
      "3\n",
      "[2. 3.]\n"
     ]
    }
   ],
   "source": [
    "A = np.array([[3,1], [1,2]])\n",
    "b = np.array([9,8])\n",
    "x = np.linalg.inv(A) @ b\n",
    "print(A[0,0])\n",
    "A[0,0] += 1\n",
    "print(x)"
   ]
  },
  {
   "cell_type": "markdown",
   "metadata": {},
   "source": []
  },
  {
   "cell_type": "markdown",
   "metadata": {},
   "source": [
    "Besser mit **solve( )** lösen:\n",
    "\n",
    "Die Methode **solve( )** kann das lineare Gleichungssystem lösen, ohne die Inverse der Koeffizientenmatrix A zu berechen. Die Verwendung dieser Methode ist daher gegenüber dem oben gezeigten Lösungsweg vorzuziehen."
   ]
  },
  {
   "cell_type": "code",
   "execution_count": null,
   "metadata": {},
   "outputs": [],
   "source": [
    "x = np.linalg.solve(A,b)\n",
    "print(x)"
   ]
  }
 ],
 "metadata": {
  "interpreter": {
   "hash": "2e0d6b2f3e30f743bcbefea442309ec29360532d685ea05bc98680df757342c1"
  },
  "kernelspec": {
   "display_name": "Python 3.9.7 ('base')",
   "language": "python",
   "name": "python3"
  },
  "language_info": {
   "codemirror_mode": {
    "name": "ipython",
    "version": 3
   },
   "file_extension": ".py",
   "mimetype": "text/x-python",
   "name": "python",
   "nbconvert_exporter": "python",
   "pygments_lexer": "ipython3",
   "version": "3.9.7"
  }
 },
 "nbformat": 4,
 "nbformat_minor": 2
}
