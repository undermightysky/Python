{
 "cells": [
  {
   "cell_type": "markdown",
   "metadata": {},
   "source": [
    "# Indexierung\n",
    "\n",
    "Die Indexierung von Numpy Arrays funktioniert ähnlich wie bei den sequentiellen Datentypen. Man kann positive und negative Indizes benutzen, um vom Anfang oder vom Ende des Arrays zu indizieren. Man kann den Doppelpunkt verwenden, um \"die restlichen\" oder \"alle\" Elemente anzugeben. <br>\n",
    "**Der Unterschied ist, dass bei der Indexierung von Numpy Arrays die Achsen kommasepariert werden.** <br>\n",
    "Das heisst, **alle Achsen (Dimensionen) können innerhalb von einem Klammernpaar indiziert** werden."
   ]
  },
  {
   "cell_type": "code",
   "execution_count": 1,
   "metadata": {},
   "outputs": [],
   "source": [
    "import numpy as np"
   ]
  },
  {
   "cell_type": "code",
   "execution_count": 2,
   "metadata": {},
   "outputs": [
    {
     "data": {
      "text/plain": [
       "array([[1, 2, 3],\n",
       "       [4, 5, 6],\n",
       "       [7, 8, 9]])"
      ]
     },
     "execution_count": 2,
     "metadata": {},
     "output_type": "execute_result"
    }
   ],
   "source": [
    "arr = np.arange(1, 10).reshape((3,3))\n",
    "arr"
   ]
  },
  {
   "cell_type": "code",
   "execution_count": null,
   "metadata": {
    "scrolled": true
   },
   "outputs": [],
   "source": [
    "# Zugriff auf das erste Element\n",
    "arr[0, 0]"
   ]
  },
  {
   "cell_type": "code",
   "execution_count": null,
   "metadata": {},
   "outputs": [],
   "source": [
    "# Zugriff auf das Element in der dritten Zeile und ersten Spalte\n",
    "arr[2, 0]"
   ]
  },
  {
   "cell_type": "code",
   "execution_count": null,
   "metadata": {},
   "outputs": [],
   "source": [
    "# Zugriff auf das Element in der ersten Zeile und dritten Spalte\n",
    "arr[0, 2]"
   ]
  },
  {
   "cell_type": "markdown",
   "metadata": {},
   "source": [
    "# Slicing\n",
    "\n",
    "Mit Hilfe der Teilbereichsoperatoren (Slicing) kann ein Teilbereich aus einem Array extrahiert werden. Die Syntax ist ähnlich wie es bereits von den sequentiellen Datentypen bekannt ist: [start:step:stop]\n",
    "\n",
    "Slicing kann auf alle gegebenen Dimensionen eines Arrays angewendet werden. "
   ]
  },
  {
   "cell_type": "code",
   "execution_count": null,
   "metadata": {},
   "outputs": [],
   "source": [
    "arr = np.arange(1, 10).reshape((3,3))\n",
    "arr"
   ]
  },
  {
   "cell_type": "code",
   "execution_count": null,
   "metadata": {},
   "outputs": [],
   "source": [
    "arr[:2, 1:]"
   ]
  },
  {
   "cell_type": "code",
   "execution_count": null,
   "metadata": {},
   "outputs": [],
   "source": [
    "arr[2, :]"
   ]
  },
  {
   "cell_type": "code",
   "execution_count": null,
   "metadata": {},
   "outputs": [],
   "source": [
    "arr[:, 2:]"
   ]
  },
  {
   "cell_type": "code",
   "execution_count": null,
   "metadata": {},
   "outputs": [],
   "source": [
    "arr[1, :2]"
   ]
  },
  {
   "cell_type": "markdown",
   "metadata": {},
   "source": [
    "### Boolean Slicing\n",
    "\n",
    "Mit Hilfe eines Booleschen Ausdrucks in den Indexierungsklammern kann ein Teilbereich des Arrays extrahiert werden, für welchen der Boolesche Ausdruck True ist."
   ]
  },
  {
   "cell_type": "code",
   "execution_count": null,
   "metadata": {},
   "outputs": [],
   "source": [
    "arr[arr > 5]"
   ]
  },
  {
   "cell_type": "markdown",
   "metadata": {},
   "source": [
    "Wird der Boolesche Ausdruck auf das gesamte Array verwendet, so erhält man ein Array derselben Grösse wie das ursprüngliche Array zurück (also kein Slice), jedoch enthält es nicht mehr die Zahlenwerte, sondern das Resultat des Booleschen Ausdrucks (also True oder False). "
   ]
  },
  {
   "cell_type": "code",
   "execution_count": null,
   "metadata": {},
   "outputs": [],
   "source": [
    "temp = arr > 5\n",
    "print(temp)"
   ]
  },
  {
   "cell_type": "markdown",
   "metadata": {},
   "source": [
    "# View\n",
    "\n",
    "Wenn man einen **Teilbereich eines Arrays einer neuen Variable zuweist**, dann erhält man **kein neues Objekt**, sondern **nur eine Sicht (eine so genannte View) auf den Teilbereich des ursprünglichen Arrays**. <br>\n",
    "Mit Hilfe des Teilbereichsoperators erhält man also eine Möglichkeit, um bestimmte Teile eines gegebenen Arrays anzusprechen. "
   ]
  },
  {
   "cell_type": "code",
   "execution_count": null,
   "metadata": {},
   "outputs": [],
   "source": [
    "arr = np.arange(1, 10).reshape((3, 3))\n",
    "arr"
   ]
  },
  {
   "cell_type": "code",
   "execution_count": null,
   "metadata": {},
   "outputs": [],
   "source": [
    "s = arr[:2, 1:]\n",
    "s"
   ]
  },
  {
   "cell_type": "code",
   "execution_count": null,
   "metadata": {},
   "outputs": [],
   "source": [
    "s[0, :] = 10\n",
    "s"
   ]
  },
  {
   "cell_type": "markdown",
   "metadata": {},
   "source": [
    "Da über die View *s* eine Änderung vorgenommen worden ist und es sich hierbei \"nur\" um eine Sicht auf den Teilbereich des Arrays *arr* handelt, sieht man die Änderung ebenfalls im ursprünglichen Array *arr*. "
   ]
  },
  {
   "cell_type": "code",
   "execution_count": null,
   "metadata": {},
   "outputs": [],
   "source": [
    "arr"
   ]
  },
  {
   "cell_type": "markdown",
   "metadata": {},
   "source": [
    "Mit Hilfe der copy() Methode kann eine echte Kopie des gesamten Arrays, oder eines Teilbereiches des Arrays (wie in diesem Beispiel) erzeugt werden. "
   ]
  },
  {
   "cell_type": "code",
   "execution_count": null,
   "metadata": {},
   "outputs": [],
   "source": [
    "s = arr[:2, 1:].copy()\n",
    "s"
   ]
  },
  {
   "cell_type": "code",
   "execution_count": null,
   "metadata": {},
   "outputs": [],
   "source": [
    "s[0, :] = 11\n",
    "s"
   ]
  },
  {
   "cell_type": "code",
   "execution_count": null,
   "metadata": {},
   "outputs": [],
   "source": [
    "arr"
   ]
  },
  {
   "cell_type": "markdown",
   "metadata": {},
   "source": [
    "# Broadcasting\n",
    "\n",
    "**NumPy Arrays müssen nicht dieselbe Shape haben, damit numerische Operatoren auf sie angewendet werden können.** <br>\n",
    "Mit Hilfe des sogenannten \"Broadcasting\" ist es möglich, **arithmetische Operatoren** auch auf **Arrays unterschiedlicher Shape anzuwenden**. <br>\n",
    "Damit die entsprechende Operation durchgeführt werden kann, wird das \"kleinere\" Array in die für das \"grössere\" Array passende Form transformiert. Unter bestimmten Bedingungen erfolgt also ein \"Broadcast\" des kleineren Arrays, bis es in der für die Operation notwendigen Dimension dieselbe Shape hat wie das grössere Array. \n",
    "Dank Broadcasting können Schleifen vermieden werden, die Schleifenbildung erfolgt implizit in der Implementierung von Numpy (dessen Algorithmen in C implementiert worden sind). \n",
    "\n",
    "Das Broadcasting von Arrays erfolgt nach bestimmten Regeln: \n",
    "- Falls ein Array weniger Dimensionen (ndim) hat als das andere, so werden dem Array mit weniger Dimensionen von links her so viele Dimensionen eingefügt, bis beide Arrays dieselbe Anzahl Dimensionen haben. \n",
    "- Falls die Shapes von zwei Arrays an einer Shape-Position nicht übereinstimmen, wird die Shape desjenigen Arrays angepasst, die eine 1 enthält. Der Wert wird dann auf den Wert des anderen Arrays erhöht.\n",
    "- Falls in irgendeiner Dimension die Grössen unterschiedlich sind und keine von beiden 1 ist, wird ein Fehler ausgegeben."
   ]
  },
  {
   "cell_type": "markdown",
   "metadata": {},
   "source": [
    "Skalar wird ausgebreitet:"
   ]
  },
  {
   "cell_type": "code",
   "execution_count": null,
   "metadata": {},
   "outputs": [],
   "source": [
    "arr = np.arange(1, 5)\n",
    "arr"
   ]
  },
  {
   "cell_type": "code",
   "execution_count": null,
   "metadata": {},
   "outputs": [],
   "source": [
    "arr2 = arr*2 + 3\n",
    "# Äquivalent zu \n",
    "# arr2 = arr*np.array([2, 2, 2, 2]) + np.array([3, 3, 3, 3])\n",
    "arr2"
   ]
  },
  {
   "cell_type": "markdown",
   "metadata": {},
   "source": [
    "Fehlende Dimension wird automatisch ergänzt:"
   ]
  },
  {
   "cell_type": "code",
   "execution_count": null,
   "metadata": {},
   "outputs": [],
   "source": [
    "arr2 = np.ones((3, 2))\n",
    "arr2"
   ]
  },
  {
   "cell_type": "code",
   "execution_count": null,
   "metadata": {},
   "outputs": [],
   "source": [
    "arr3 = np.array([1, 2])\n",
    "arr3"
   ]
  },
  {
   "cell_type": "code",
   "execution_count": null,
   "metadata": {},
   "outputs": [],
   "source": [
    "summe = arr2 + arr3 \n",
    "summe"
   ]
  },
  {
   "cell_type": "markdown",
   "metadata": {},
   "source": [
    "Shape unterschiedlich, Broadcasting ist möglich, da die Länge in den auszubreitenden Dimensionen 1 ist."
   ]
  },
  {
   "cell_type": "code",
   "execution_count": null,
   "metadata": {},
   "outputs": [],
   "source": [
    "arr4 = np.ones((3, 1, 5))\n",
    "arr4"
   ]
  },
  {
   "cell_type": "code",
   "execution_count": null,
   "metadata": {},
   "outputs": [],
   "source": [
    "arr5 = np.ones((2, 5))\n",
    "arr5"
   ]
  },
  {
   "cell_type": "code",
   "execution_count": null,
   "metadata": {},
   "outputs": [],
   "source": [
    "summe = arr4 + arr5\n",
    "summe"
   ]
  },
  {
   "cell_type": "markdown",
   "metadata": {},
   "source": [
    "Shape unterschiedlich jedoch nicht 1 in einer Dimension, die ausgebreitet werden sollte. Broadcasting ist nicht möglich."
   ]
  },
  {
   "cell_type": "code",
   "execution_count": null,
   "metadata": {},
   "outputs": [],
   "source": [
    "arr4 = np.ones((3, 3, 5))\n",
    "arr4"
   ]
  },
  {
   "cell_type": "code",
   "execution_count": null,
   "metadata": {},
   "outputs": [],
   "source": [
    "arr5 = np.ones((2, 5))\n",
    "arr5"
   ]
  },
  {
   "cell_type": "code",
   "execution_count": null,
   "metadata": {},
   "outputs": [],
   "source": [
    "summe = arr4 + arr5\n",
    "summe"
   ]
  }
 ],
 "metadata": {
  "interpreter": {
   "hash": "2e0d6b2f3e30f743bcbefea442309ec29360532d685ea05bc98680df757342c1"
  },
  "kernelspec": {
   "display_name": "Python 3.9.7 ('base')",
   "language": "python",
   "name": "python3"
  },
  "language_info": {
   "codemirror_mode": {
    "name": "ipython",
    "version": 3
   },
   "file_extension": ".py",
   "mimetype": "text/x-python",
   "name": "python",
   "nbconvert_exporter": "python",
   "pygments_lexer": "ipython3",
   "version": "3.9.7"
  }
 },
 "nbformat": 4,
 "nbformat_minor": 2
}
