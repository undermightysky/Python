{
 "cells": [
  {
   "cell_type": "markdown",
   "metadata": {},
   "source": [
    "# Pandas\n",
    "\n",
    "Pandas ist eine Python Bibliothek, welche für die Datenanalyse verwendet werden kann. Der Name leitet sich von den beiden englischen Worten \"panel data\" ab. Paneldaten sind mehrdimensionale Daten, welche oftmals aus einer zeitlichen aber auch nichtzeitlichen Dimension bestehen und in Tabellen organisiert werden, die aus Zeilen und Spalten bestehen, ähnlich wie man es von Excel-Tabellen kennt.\n",
    "\n",
    "Eine Stärke von Pandas ist, dass es direkt CSV- und Excel-Dateien lesen und schreiben kann und ganz allgemein ist Pandas in der Lage grosse, mehrdimensionale Datensätze zu lesen, in überschaubare Teile zu zerlegen und wertvolle Erkenntnisse aus diesen Informationen zu gewinnen. Pandas baut auf der NumPy Bibliothek auf und nutzt daher auch Datenstrukturen von NumPy.\n",
    "\n",
    "Wenn Sie die Anaconda-Distribution verwenden, dann ist die Python-Bibliothek Pandas bereits installiert. \n",
    "\n",
    "Um Pandas nutzen zu können, muss die Bibliothek importiert werden. "
   ]
  },
  {
   "cell_type": "code",
   "execution_count": 2,
   "metadata": {},
   "outputs": [],
   "source": [
    "import numpy as np\n",
    "import pandas as pd"
   ]
  },
  {
   "cell_type": "markdown",
   "metadata": {},
   "source": [
    "## Pandas Datenstrukturen\n",
    "\n",
    "Pandas kennt drei Arten von Datenstrukturen: \n",
    "- Series\n",
    "- DataFrame\n",
    "- Panel (mehrere DataFrames als 3D Datencontainer, wird hier nicht behandelt)\n",
    "\n",
    "## Series\n",
    "\n",
    "Ein Series Objekt kann man sich als einzelne Spalte einer Excel-Tabelle mit dem zugehörigen Index vorstellen. <br>\n",
    "Series Objekte haben ausserdem Ähnlichkeit zu den eindimensionalen Arrays in NumPy.\n",
    "\n",
    "Pandas Series-Objekt werden mit der pandas.Series Klasse erstellt: <br>\n",
    "https://pandas.pydata.org/pandas-docs/stable/reference/api/pandas.Series.html <br>\n",
    "Ein Series-Objekt behinhaltet zwei Komponenten: \n",
    "- Eine Sequenz von Werten\n",
    "- Eine Sequenz von Indizes"
   ]
  },
  {
   "cell_type": "markdown",
   "metadata": {},
   "source": [
    "Pandas Series erstellen"
   ]
  },
  {
   "cell_type": "code",
   "execution_count": 3,
   "metadata": {},
   "outputs": [
    {
     "data": {
      "text/plain": [
       "0    10\n",
       "1    20\n",
       "2    30\n",
       "dtype: int64"
      ]
     },
     "execution_count": 3,
     "metadata": {},
     "output_type": "execute_result"
    }
   ],
   "source": [
    "series_1 = pd.Series([10, 20, 30])\n",
    "series_1"
   ]
  },
  {
   "cell_type": "markdown",
   "metadata": {},
   "source": [
    "Auf die Werte zugreifen (ist ein NumPy Array)"
   ]
  },
  {
   "cell_type": "code",
   "execution_count": 3,
   "metadata": {},
   "outputs": [
    {
     "data": {
      "text/plain": [
       "array([10, 20, 30])"
      ]
     },
     "execution_count": 3,
     "metadata": {},
     "output_type": "execute_result"
    }
   ],
   "source": [
    "series_1.values"
   ]
  },
  {
   "cell_type": "markdown",
   "metadata": {},
   "source": [
    "Auf die Indizes zugreifen"
   ]
  },
  {
   "cell_type": "code",
   "execution_count": 4,
   "metadata": {},
   "outputs": [
    {
     "data": {
      "text/plain": [
       "RangeIndex(start=0, stop=3, step=1)"
      ]
     },
     "execution_count": 4,
     "metadata": {},
     "output_type": "execute_result"
    }
   ],
   "source": [
    "series_1.index"
   ]
  },
  {
   "cell_type": "markdown",
   "metadata": {},
   "source": [
    "Ein wesentlicher Unterschied zu eindimensionalen NumPy Arrays liegt in der Indizierung der Elemente innerhalb eines Series Objektes. <br>\n",
    "\n",
    "Gibt man bei der Erstellung eines Series Objektes nur eine Sequenz von Werten an (wie im oberen Beispiel), so werden diese Werte automatisch implizit mit Integerwerten von 0 bis ohne mit der Länge der Sequenz indiziert, genau wie das bei den eindimensionalen NumPy Arrays der Fall ist. <br>\n",
    "\n",
    "Im Unterschied zu den NumPy Arrays kann ein Series Objekt aber auch einen (fast) beliebigen Typ von Index haben. Diesen - explizit gewählten - Index kann man sich wie eine Beschriftung der Zeilen innerhalb einer Excel Tabelle vorstellen:"
   ]
  },
  {
   "cell_type": "markdown",
   "metadata": {},
   "source": [
    "Die Anzahl gegebener Indizes (zweites Argument) muss der Anzahl gegebener Werte (erstes Argument) entsprechen. "
   ]
  },
  {
   "cell_type": "code",
   "execution_count": 5,
   "metadata": {},
   "outputs": [
    {
     "data": {
      "text/plain": [
       "A    10\n",
       "B    20\n",
       "C    30\n",
       "dtype: int64"
      ]
     },
     "execution_count": 5,
     "metadata": {},
     "output_type": "execute_result"
    }
   ],
   "source": [
    "series_2 = pd.Series([10, 20, 30], ['A', 'B', 'C'])\n",
    "series_2"
   ]
  },
  {
   "cell_type": "markdown",
   "metadata": {},
   "source": [
    "Ein Series Objekt kann auch mit einem Dictionary erstellt werden, die Schlüssel bilden dann die Indizes"
   ]
  },
  {
   "cell_type": "code",
   "execution_count": 6,
   "metadata": {},
   "outputs": [
    {
     "data": {
      "text/plain": [
       "Zürich    8000\n",
       "Bern      3000\n",
       "Basel     4000\n",
       "dtype: int64"
      ]
     },
     "execution_count": 6,
     "metadata": {},
     "output_type": "execute_result"
    }
   ],
   "source": [
    "Postleitzahlen = pd.Series({\"Zürich\":8000 , \"Bern\":3000, \"Basel\":4000})\n",
    "Postleitzahlen"
   ]
  },
  {
   "cell_type": "markdown",
   "metadata": {},
   "source": [
    "Auf die Werte zugreifen"
   ]
  },
  {
   "cell_type": "code",
   "execution_count": null,
   "metadata": {},
   "outputs": [],
   "source": [
    "Postleitzahlen.values"
   ]
  },
  {
   "cell_type": "markdown",
   "metadata": {},
   "source": [
    "Auf die Indizes zugreifen (es handelt sich hierbei um die Schlüssel aus dem Dictionary)"
   ]
  },
  {
   "cell_type": "code",
   "execution_count": null,
   "metadata": {},
   "outputs": [],
   "source": [
    "Postleitzahlen.index"
   ]
  },
  {
   "cell_type": "markdown",
   "metadata": {},
   "source": [
    "Wird eine Index-Sequenz übergeben, so werden die Werte anhand der gegebenen Indizes neu indexiert. "
   ]
  },
  {
   "cell_type": "code",
   "execution_count": 6,
   "metadata": {},
   "outputs": [
    {
     "data": {
      "text/plain": [
       "Basel     4000\n",
       "Chur      7000\n",
       "Zürich    8000\n",
       "dtype: int64"
      ]
     },
     "execution_count": 6,
     "metadata": {},
     "output_type": "execute_result"
    }
   ],
   "source": [
    "Postleitzahlen = pd.Series({\"Zürich\":8000, \"Chur\":7000, \"Basel\":4000}, [\"Basel\", \"Chur\", \"Zürich\"])\n",
    "Postleitzahlen"
   ]
  },
  {
   "cell_type": "code",
   "execution_count": null,
   "metadata": {},
   "outputs": [],
   "source": [
    "Postleitzahlen.values"
   ]
  },
  {
   "cell_type": "code",
   "execution_count": null,
   "metadata": {},
   "outputs": [],
   "source": [
    "Postleitzahlen.index"
   ]
  },
  {
   "cell_type": "markdown",
   "metadata": {},
   "source": [
    "Series Objekte lassen sich auch vereinigen"
   ]
  },
  {
   "cell_type": "code",
   "execution_count": 7,
   "metadata": {},
   "outputs": [
    {
     "data": {
      "text/plain": [
       "Schrauben     3\n",
       "Nägel        35\n",
       "Muttern      78\n",
       "dtype: int64"
      ]
     },
     "execution_count": 7,
     "metadata": {},
     "output_type": "execute_result"
    }
   ],
   "source": [
    "lager_1 = pd.Series({\"Schrauben\":3 , \"Nägel\":25, \"Muttern\":33})\n",
    "lager_2 = pd.Series({\"Schrauben\":0 , \"Nägel\":10, \"Muttern\":45})\n",
    "lager_neu = lager_1 + lager_2\n",
    "lager_neu"
   ]
  },
  {
   "cell_type": "markdown",
   "metadata": {},
   "source": [
    "### Zugriff auf Elemente innerhalb eines Series Objektes"
   ]
  },
  {
   "cell_type": "code",
   "execution_count": 8,
   "metadata": {},
   "outputs": [],
   "source": [
    "Postleitzahlen = pd.Series({\"Zürich\":8000 , \"Bern\":3000, \"Basel\":4000})"
   ]
  },
  {
   "cell_type": "markdown",
   "metadata": {},
   "source": [
    "Zugriff über eckige Klammern und Positions-Index (ähnlich wie bei Listen oder NumPy Arrays)<br>\n",
    "Man beachte: Obwohl die Label-Indizes durch die Dictionary-Schlüssel explizit angegeben worden sind, kann man trotzdem noch mit den (implizit gegebenen) Positions-Indizes auf die Elemente zugreifen. Die Positions-Indizes sind also immer gegeben, ob mit oder ohne explizit gegebener Label-Indizes."
   ]
  },
  {
   "cell_type": "code",
   "execution_count": null,
   "metadata": {},
   "outputs": [],
   "source": [
    "Postleitzahlen[0]"
   ]
  },
  {
   "cell_type": "markdown",
   "metadata": {},
   "source": [
    "Zugriff über eckige Klammern und Label-Index (ähnlich wie bei den Dictionaries)"
   ]
  },
  {
   "cell_type": "code",
   "execution_count": null,
   "metadata": {},
   "outputs": [],
   "source": [
    "Postleitzahlen[\"Zürich\"]"
   ]
  },
  {
   "cell_type": "markdown",
   "metadata": {},
   "source": [
    "Man kann auch auf mehrere Elemente gleichzeitig zugreifen, indem man eine Liste (oder array-ähnliches Objekt) der Indizes übergibt:"
   ]
  },
  {
   "cell_type": "code",
   "execution_count": null,
   "metadata": {},
   "outputs": [],
   "source": [
    "Postleitzahlen[[\"Zürich\", \"Bern\"]]"
   ]
  },
  {
   "cell_type": "markdown",
   "metadata": {},
   "source": [
    "Zugriff auf das letzte Element in der Series"
   ]
  },
  {
   "cell_type": "code",
   "execution_count": null,
   "metadata": {},
   "outputs": [],
   "source": [
    "Postleitzahlen[-1]"
   ]
  },
  {
   "cell_type": "markdown",
   "metadata": {},
   "source": [
    "Zugriff auf Teilbereiche in der Series"
   ]
  },
  {
   "cell_type": "code",
   "execution_count": null,
   "metadata": {},
   "outputs": [],
   "source": [
    "Postleitzahlen[1:]"
   ]
  },
  {
   "cell_type": "markdown",
   "metadata": {},
   "source": [
    "Zugriff und gleichzeitige Filterung mittels Booleschem Ausdruck"
   ]
  },
  {
   "cell_type": "code",
   "execution_count": null,
   "metadata": {},
   "outputs": [],
   "source": [
    "Postleitzahlen[Postleitzahlen > 3000]"
   ]
  },
  {
   "cell_type": "markdown",
   "metadata": {},
   "source": [
    "Was ist jedoch, wenn die Indizes beim Series Objekt aus Integer Zahlen bestehen? <br>"
   ]
  },
  {
   "cell_type": "code",
   "execution_count": 2,
   "metadata": {},
   "outputs": [
    {
     "ename": "NameError",
     "evalue": "name 'pd' is not defined",
     "output_type": "error",
     "traceback": [
      "\u001b[0;31m---------------------------------------------------------------------------\u001b[0m",
      "\u001b[0;31mNameError\u001b[0m                                 Traceback (most recent call last)",
      "\u001b[0;32m/var/folders/54/g5v9838x7zv3cppsbsd2rchr0000gn/T/ipykernel_1285/4150189847.py\u001b[0m in \u001b[0;36m<module>\u001b[0;34m\u001b[0m\n\u001b[0;32m----> 1\u001b[0;31m \u001b[0mFormen\u001b[0m \u001b[0;34m=\u001b[0m \u001b[0mpd\u001b[0m\u001b[0;34m.\u001b[0m\u001b[0mSeries\u001b[0m\u001b[0;34m(\u001b[0m\u001b[0;34m[\u001b[0m\u001b[0;34m\"Kreis\"\u001b[0m\u001b[0;34m,\u001b[0m \u001b[0;34m\"Rechteck\"\u001b[0m\u001b[0;34m,\u001b[0m \u001b[0;34m\"Dreieck\"\u001b[0m\u001b[0;34m,\u001b[0m \u001b[0;34m\"Quadrat\"\u001b[0m\u001b[0;34m]\u001b[0m\u001b[0;34m,\u001b[0m \u001b[0mindex\u001b[0m\u001b[0;34m=\u001b[0m\u001b[0;34m[\u001b[0m\u001b[0;36m1\u001b[0m\u001b[0;34m,\u001b[0m \u001b[0;36m2\u001b[0m\u001b[0;34m,\u001b[0m \u001b[0;36m3\u001b[0m\u001b[0;34m,\u001b[0m \u001b[0;36m8\u001b[0m\u001b[0;34m]\u001b[0m\u001b[0;34m)\u001b[0m\u001b[0;34m\u001b[0m\u001b[0;34m\u001b[0m\u001b[0m\n\u001b[0m\u001b[1;32m      2\u001b[0m \u001b[0mFormen\u001b[0m\u001b[0;34m\u001b[0m\u001b[0;34m\u001b[0m\u001b[0m\n",
      "\u001b[0;31mNameError\u001b[0m: name 'pd' is not defined"
     ]
    }
   ],
   "source": [
    "Formen = pd.Series([\"Kreis\", \"Rechteck\", \"Dreieck\", \"Quadrat\"], index=[1, 2, 3, 8])\n",
    "Formen"
   ]
  },
  {
   "cell_type": "markdown",
   "metadata": {},
   "source": [
    "Was geschieht nun, wenn man Formen[1] aufruft? <br>\n",
    "Wird [1] als Positionsindex ausgewertet, so würde \"Rechteck\" zurück gegeben, wird [1] jedoch als Labelindex ausgewertet, dann würde \"Kreis\" zurück gegeben. "
   ]
  },
  {
   "cell_type": "code",
   "execution_count": null,
   "metadata": {},
   "outputs": [],
   "source": [
    "# [1] wird als Labelindex ausgewertet\n",
    "Formen[1]"
   ]
  },
  {
   "cell_type": "markdown",
   "metadata": {},
   "source": [
    "Um Verwirrungen zu vermeiden bietet Pandas zwei Methoden für den Datenzugriff: \n",
    "- .loc für den Datenzugriff über den Label-Index \n",
    "- .iloc für den Datenzugriff über den Positions-Index\n",
    "\n",
    "Man kann sich die Verwendung auch wie folgt merken: \n",
    "- Sie können .loc auf ein Series Objekt anwenden, ähnlich wie Sie [ ] bei einem Dictionary verwenden.\n",
    "- Sie können .iloc auf ein Series Objekt anwenden, ähnlich wie Sie [ ] auf eine Liste oder ein NumPy Array anwenden.\n",
    "\n",
    "Es ist empfohlen diese Methoden für den Zugriff auf die Elemente im Series-Objekt zu nutzen, da dadurch - für Sie aber auch für andere - klar definiert ist, auf welche Daten zugegriffen werden soll. <br>\n",
    "Des Weiteren bieten die beiden Methoden Vorteile in der Performance gegenüber dem \"normalen\" Indizierungsoperator.\n",
    "\n"
   ]
  },
  {
   "cell_type": "markdown",
   "metadata": {},
   "source": [
    "Zugriff auf Daten via Label-Index"
   ]
  },
  {
   "cell_type": "code",
   "execution_count": 10,
   "metadata": {},
   "outputs": [
    {
     "data": {
      "text/plain": [
       "'Kreis'"
      ]
     },
     "execution_count": 10,
     "metadata": {},
     "output_type": "execute_result"
    }
   ],
   "source": [
    "Formen.loc[1]"
   ]
  },
  {
   "cell_type": "markdown",
   "metadata": {},
   "source": [
    "Zugriff auf Daten via Positions-Index"
   ]
  },
  {
   "cell_type": "code",
   "execution_count": null,
   "metadata": {},
   "outputs": [],
   "source": [
    "Formen.iloc[1]"
   ]
  },
  {
   "cell_type": "markdown",
   "metadata": {},
   "source": [
    "Teilbereiche über Label-Index (INKLUSIVE dem angegebenen end-Element)"
   ]
  },
  {
   "cell_type": "code",
   "execution_count": 1,
   "metadata": {},
   "outputs": [
    {
     "ename": "NameError",
     "evalue": "name 'Formen' is not defined",
     "output_type": "error",
     "traceback": [
      "\u001b[0;31m---------------------------------------------------------------------------\u001b[0m",
      "\u001b[0;31mNameError\u001b[0m                                 Traceback (most recent call last)",
      "\u001b[0;32m/var/folders/54/g5v9838x7zv3cppsbsd2rchr0000gn/T/ipykernel_1285/2050775564.py\u001b[0m in \u001b[0;36m<module>\u001b[0;34m\u001b[0m\n\u001b[0;32m----> 1\u001b[0;31m \u001b[0mFormen\u001b[0m\u001b[0;34m.\u001b[0m\u001b[0mloc\u001b[0m\u001b[0;34m[\u001b[0m\u001b[0;36m1\u001b[0m\u001b[0;34m:\u001b[0m\u001b[0;36m2\u001b[0m\u001b[0;34m]\u001b[0m\u001b[0;34m\u001b[0m\u001b[0;34m\u001b[0m\u001b[0m\n\u001b[0m",
      "\u001b[0;31mNameError\u001b[0m: name 'Formen' is not defined"
     ]
    }
   ],
   "source": [
    "Formen.loc[1:2]"
   ]
  },
  {
   "cell_type": "markdown",
   "metadata": {},
   "source": [
    "Teilbereiche über Positions-Index (EXKLUSIVE mit dem angegebenen end-Element)"
   ]
  },
  {
   "cell_type": "code",
   "execution_count": 11,
   "metadata": {},
   "outputs": [
    {
     "data": {
      "text/plain": [
       "2    Rechteck\n",
       "dtype: object"
      ]
     },
     "execution_count": 11,
     "metadata": {},
     "output_type": "execute_result"
    }
   ],
   "source": [
    "Formen.iloc[1:2]"
   ]
  },
  {
   "cell_type": "markdown",
   "metadata": {},
   "source": [
    "## DataFrame\n",
    "\n",
    "Series Objekte sind insofern limitiert, da sie pro Index nur einen Wert speichern können. <br> \n",
    "Wenn man jedoch für jeden Index mehrere verschiedene Werte speichern möchte, dann ist das DataFrame Objekt die richtige Wahl. Diese Datenstruktur ist eine Aneinanderreihung von Series Objekten, welche denselben Index teilen."
   ]
  },
  {
   "cell_type": "markdown",
   "metadata": {},
   "source": [
    "Series Objekte zu DataFrame Objekt zusammenführen: "
   ]
  },
  {
   "cell_type": "code",
   "execution_count": 4,
   "metadata": {},
   "outputs": [],
   "source": [
    "import pandas as pd\n",
    "# Zwei Series Objekte erstellen\n",
    "Einwohnerzahlen = pd.Series({\"Zürich\":402762 , \"Bern\":133115, \"Basel\":171017})\n",
    "Postleitzahlen = pd.Series({\"Zürich\":8000 , \"Bern\":3000, \"Basel\":4000})"
   ]
  },
  {
   "cell_type": "code",
   "execution_count": 5,
   "metadata": {},
   "outputs": [
    {
     "data": {
      "text/html": [
       "<div>\n",
       "<style scoped>\n",
       "    .dataframe tbody tr th:only-of-type {\n",
       "        vertical-align: middle;\n",
       "    }\n",
       "\n",
       "    .dataframe tbody tr th {\n",
       "        vertical-align: top;\n",
       "    }\n",
       "\n",
       "    .dataframe thead th {\n",
       "        text-align: right;\n",
       "    }\n",
       "</style>\n",
       "<table border=\"1\" class=\"dataframe\">\n",
       "  <thead>\n",
       "    <tr style=\"text-align: right;\">\n",
       "      <th></th>\n",
       "      <th>Anzahl Einwohner</th>\n",
       "      <th>Postleitzahlen</th>\n",
       "    </tr>\n",
       "  </thead>\n",
       "  <tbody>\n",
       "    <tr>\n",
       "      <th>Zürich</th>\n",
       "      <td>402762</td>\n",
       "      <td>8000</td>\n",
       "    </tr>\n",
       "    <tr>\n",
       "      <th>Bern</th>\n",
       "      <td>133115</td>\n",
       "      <td>3000</td>\n",
       "    </tr>\n",
       "    <tr>\n",
       "      <th>Basel</th>\n",
       "      <td>171017</td>\n",
       "      <td>4000</td>\n",
       "    </tr>\n",
       "  </tbody>\n",
       "</table>\n",
       "</div>"
      ],
      "text/plain": [
       "        Anzahl Einwohner  Postleitzahlen\n",
       "Zürich            402762            8000\n",
       "Bern              133115            3000\n",
       "Basel             171017            4000"
      ]
     },
     "execution_count": 5,
     "metadata": {},
     "output_type": "execute_result"
    }
   ],
   "source": [
    "# Die Series Objekte werden mittels eines Dictionaries der DataFrame()-Methode übergeben und als Spalten eingefügt\n",
    "Städte_Information = pd.DataFrame({\"Anzahl Einwohner\": Einwohnerzahlen, \"Postleitzahlen\": Postleitzahlen})\n",
    "Städte_Information"
   ]
  },
  {
   "cell_type": "code",
   "execution_count": 6,
   "metadata": {},
   "outputs": [
    {
     "data": {
      "text/html": [
       "<div>\n",
       "<style scoped>\n",
       "    .dataframe tbody tr th:only-of-type {\n",
       "        vertical-align: middle;\n",
       "    }\n",
       "\n",
       "    .dataframe tbody tr th {\n",
       "        vertical-align: top;\n",
       "    }\n",
       "\n",
       "    .dataframe thead th {\n",
       "        text-align: right;\n",
       "    }\n",
       "</style>\n",
       "<table border=\"1\" class=\"dataframe\">\n",
       "  <thead>\n",
       "    <tr style=\"text-align: right;\">\n",
       "      <th></th>\n",
       "      <th>Zürich</th>\n",
       "      <th>Bern</th>\n",
       "      <th>Basel</th>\n",
       "    </tr>\n",
       "  </thead>\n",
       "  <tbody>\n",
       "    <tr>\n",
       "      <th>Anzahl Einwohner</th>\n",
       "      <td>402762</td>\n",
       "      <td>133115</td>\n",
       "      <td>171017</td>\n",
       "    </tr>\n",
       "    <tr>\n",
       "      <th>Postleitzahlen</th>\n",
       "      <td>8000</td>\n",
       "      <td>3000</td>\n",
       "      <td>4000</td>\n",
       "    </tr>\n",
       "  </tbody>\n",
       "</table>\n",
       "</div>"
      ],
      "text/plain": [
       "                  Zürich    Bern   Basel\n",
       "Anzahl Einwohner  402762  133115  171017\n",
       "Postleitzahlen      8000    3000    4000"
      ]
     },
     "execution_count": 6,
     "metadata": {},
     "output_type": "execute_result"
    }
   ],
   "source": [
    "# Die Series Objekte werden mittels einer Liste der DataFrame()-Methode übergeben, sie werden als Zeilen eingefügt\n",
    "Städte_Information = pd.DataFrame([Einwohnerzahlen, Postleitzahlen], index=[\"Anzahl Einwohner\", \"Postleitzahlen\"])\n",
    "Städte_Information"
   ]
  },
  {
   "cell_type": "markdown",
   "metadata": {},
   "source": [
    "Spaltennamen ändern"
   ]
  },
  {
   "cell_type": "code",
   "execution_count": null,
   "metadata": {},
   "outputs": [],
   "source": [
    "Städte_Information.columns = [\"Stadt A\", \"Stadt B\", \"Stadt C\"]\n",
    "Städte_Information"
   ]
  },
  {
   "cell_type": "markdown",
   "metadata": {},
   "source": [
    "Indexnamen ändern"
   ]
  },
  {
   "cell_type": "code",
   "execution_count": null,
   "metadata": {},
   "outputs": [],
   "source": [
    "Städte_Information.index = [\"Zahlen 1\", \"Zahlen 2\"]\n",
    "Städte_Information"
   ]
  },
  {
   "cell_type": "code",
   "execution_count": null,
   "metadata": {},
   "outputs": [],
   "source": [
    "Städte_Information.index.name = \"Indexspalte\"\n",
    "Städte_Information"
   ]
  },
  {
   "cell_type": "markdown",
   "metadata": {},
   "source": [
    "Sind die Indizes der gegebenen Series Objekte unterschiedlich, so wird für jeden gegebenen Index eine Zeile im DataFrame erstellt, wobei die Zellen der \"anderen\" Series Objekte, welche diesen Index nicht beinhalten, mit NaN (Not a Number)\n",
    "gefüllt werden: "
   ]
  },
  {
   "cell_type": "code",
   "execution_count": null,
   "metadata": {
    "scrolled": true
   },
   "outputs": [],
   "source": [
    "Einwohnerzahlen = pd.Series({\"Zörich\":402762 , \"Born\":133115, \"Bisel\":171017})\n",
    "Postleitzahlen = pd.Series({\"Zürich\":8000 , \"Bern\":3000, \"Basel\":4000})"
   ]
  },
  {
   "cell_type": "code",
   "execution_count": null,
   "metadata": {
    "scrolled": true
   },
   "outputs": [],
   "source": [
    "Städte_Information = pd.DataFrame({\"Anzahl Einwohner\": Einwohnerzahlen, \"Postleitzahlen\": Postleitzahlen})\n",
    "Städte_Information"
   ]
  },
  {
   "cell_type": "markdown",
   "metadata": {},
   "source": [
    "Man kann ein DataFrame Objekt aber auch aus einem NumPy Array erstellen. In diesem Falle wird die Shape des Arrays im DataFrame abgebildet und die Zeilen und Spalten - sofern man nichts weiter angibt - mit Integer Werten indiziert: "
   ]
  },
  {
   "cell_type": "code",
   "execution_count": null,
   "metadata": {},
   "outputs": [],
   "source": [
    "arr_1 = np.arange(0, 15).reshape(3, 5)\n",
    "dataframe_3 = pd.DataFrame(arr_1)\n",
    "dataframe_3"
   ]
  },
  {
   "cell_type": "markdown",
   "metadata": {},
   "source": [
    "Man kann die Zeilen- und Spaltenbeschriftung auch definieren, indem man sie als weitere Argumente übergibt:"
   ]
  },
  {
   "cell_type": "code",
   "execution_count": null,
   "metadata": {
    "scrolled": false
   },
   "outputs": [],
   "source": [
    "arr_1 = np.arange(0, 15).reshape(3, 5)\n",
    "dataframe_4 = pd.DataFrame(arr_1, ['Zeile1', 'Zeile2', 'Zeile3'], ['Spalte1', 'Spalte2', 'Spalte3', 'Spalte4', 'Spalte5'])\n",
    "dataframe_4"
   ]
  },
  {
   "cell_type": "markdown",
   "metadata": {},
   "source": [
    "Die Werte, welche in einem DataFrame Objekte gespeichert sind, können wie beim Series Objekt über das values Property angesprochen werden: "
   ]
  },
  {
   "cell_type": "code",
   "execution_count": null,
   "metadata": {},
   "outputs": [],
   "source": [
    "dataframe_4.values"
   ]
  },
  {
   "cell_type": "markdown",
   "metadata": {},
   "source": [
    "Auf die Zeilen- und Spaltenbeschriftung kann mit Hilfe der axes()-Methode zugegriffen werden:"
   ]
  },
  {
   "cell_type": "code",
   "execution_count": null,
   "metadata": {},
   "outputs": [],
   "source": [
    "# Zugriff auf die Zeilenindizes\n",
    "dataframe_4.axes[0]"
   ]
  },
  {
   "cell_type": "code",
   "execution_count": null,
   "metadata": {},
   "outputs": [],
   "source": [
    "# Zugriff auf die Spaltenindizes\n",
    "dataframe_4.axes[1]"
   ]
  },
  {
   "cell_type": "markdown",
   "metadata": {},
   "source": [
    "## Zugriff auf Elemente innerhalb eines DataFrame Objektes"
   ]
  },
  {
   "cell_type": "code",
   "execution_count": null,
   "metadata": {},
   "outputs": [],
   "source": [
    "Einwohnerzahlen = pd.Series({\"Zürich\":402762 , \"Bern\":133115, \"Basel\":171017})\n",
    "Postleitzahlen = pd.Series({\"Zürich\":8000 , \"Bern\":3000, \"Basel\":4000})\n",
    "Städte_Information = pd.DataFrame({\"Anzahl Einwohner\": Einwohnerzahlen, \"Postleitzahlen\": Postleitzahlen})\n",
    "Städte_Information"
   ]
  },
  {
   "cell_type": "markdown",
   "metadata": {},
   "source": [
    "Die Spalten eines DataFrame Objektes können über den Indizierungs-Operator und den Spalten-Index angesprochen werden:"
   ]
  },
  {
   "cell_type": "code",
   "execution_count": null,
   "metadata": {},
   "outputs": [],
   "source": [
    "Städte_Information[\"Anzahl Einwohner\"]"
   ]
  },
  {
   "cell_type": "markdown",
   "metadata": {},
   "source": [
    "Die Spalte eines DataFrame Objektes ist ein Series Objekt"
   ]
  },
  {
   "cell_type": "code",
   "execution_count": null,
   "metadata": {},
   "outputs": [],
   "source": [
    "type(Städte_Information[\"Postleitzahlen\"])"
   ]
  },
  {
   "cell_type": "markdown",
   "metadata": {},
   "source": [
    "Handelt es sich bei der Spaltenbeschriftung um einen String, dann kann auch mit der Punkt Notation auf die Spalte\n",
    "zugegriffen werden: \n",
    "\n",
    "Achtung: Je nach Spaltenbeschriftung kann diese Art des Zugriffs zu unerwünschtem Verhalten führen.\n",
    "Wenn die Spaltenbeschriftung bspw. \"shape\" lautet, dann würde beim Zugriff mit der Punkt Notation auf diese Spalte\n",
    "nicht der Spalteninhalt zurück gegeben werden, sondern die shape des DataFrame Objektes als Tuple. "
   ]
  },
  {
   "cell_type": "code",
   "execution_count": null,
   "metadata": {},
   "outputs": [],
   "source": [
    "Städte_Information.Postleitzahlen"
   ]
  },
  {
   "cell_type": "markdown",
   "metadata": {},
   "source": [
    "Die Zeilen von DataFrame Objekten können wie bei den Series Objekten über die loc() und iloc() Methoden angesprochen werden: "
   ]
  },
  {
   "cell_type": "code",
   "execution_count": null,
   "metadata": {},
   "outputs": [],
   "source": [
    "# Zugriff auf die Zeile mit dem Label-Index \"Zürich\"\n",
    "Städte_Information.loc[\"Zürich\"]\n",
    "# Städte_Information.loc[\"Zürich\":\"Bern\"]"
   ]
  },
  {
   "cell_type": "code",
   "execution_count": null,
   "metadata": {},
   "outputs": [],
   "source": [
    "# Zugriff auf die Zeile mit dem Positions-Index 2\n",
    "Städte_Information.iloc[2]"
   ]
  },
  {
   "cell_type": "markdown",
   "metadata": {},
   "source": [
    "Beide Methoden - loc() und iloc() - akzeptieren auch ein zweites Argument, welches eine bestimmte Spalte definiert:"
   ]
  },
  {
   "cell_type": "code",
   "execution_count": null,
   "metadata": {},
   "outputs": [],
   "source": [
    "# Zugriff auf das Element in der Zeile mit dem Label-Index \"Zürich\" und der Spalte mit dem Index \"Postleitzahlen\"\n",
    "Städte_Information.loc[\"Zürich\", \"Postleitzahlen\"]"
   ]
  },
  {
   "cell_type": "code",
   "execution_count": null,
   "metadata": {},
   "outputs": [],
   "source": [
    "Städte_Information.loc[\"Zürich\":\"Bern\", \"Anzahl Einwohner\"]"
   ]
  },
  {
   "cell_type": "markdown",
   "metadata": {},
   "source": [
    "## Zeilen und Spalten manipulieren\n"
   ]
  },
  {
   "cell_type": "code",
   "execution_count": null,
   "metadata": {},
   "outputs": [],
   "source": [
    "Einwohnerzahlen = pd.Series({\"Zürich\":402762 , \"Bern\":133115, \"Basel\":171017})\n",
    "Postleitzahlen = pd.Series({\"Zürich\":8000 , \"Bern\":3000, \"Basel\":4000})\n",
    "Städte_Information = pd.DataFrame({\"Anzahl Einwohner\": Einwohnerzahlen, \"Postleitzahlen\": Postleitzahlen})"
   ]
  },
  {
   "cell_type": "markdown",
   "metadata": {},
   "source": [
    "Neue Spalte hinzufügen"
   ]
  },
  {
   "cell_type": "code",
   "execution_count": null,
   "metadata": {},
   "outputs": [],
   "source": [
    "Städte_Information[\"Fläche\"] = [88, 52, 24]\n",
    "Städte_Information.insert(1, \"Fläche\", [88, 52, 24], allow_duplicates=True)\n",
    "Städte_Information"
   ]
  },
  {
   "cell_type": "markdown",
   "metadata": {},
   "source": [
    "Neue Zeile hinzufügen"
   ]
  },
  {
   "cell_type": "code",
   "execution_count": null,
   "metadata": {},
   "outputs": [],
   "source": [
    "neu = pd.Series(data={'Anzahl Einwohner':32957, 'Postleitzahlen':7000, 'Fläche':36}, name='Chur')\n",
    "Städte_Information = Städte_Information.append(neu)\n",
    "Städte_Information"
   ]
  },
  {
   "cell_type": "markdown",
   "metadata": {},
   "source": [
    "Spalte umbenennen"
   ]
  },
  {
   "cell_type": "code",
   "execution_count": null,
   "metadata": {},
   "outputs": [],
   "source": [
    "Städte_Information.rename(columns={'Fläche': 'Flaeche'}, inplace = True)\n",
    "# Städte_Information.set_axis([\"Anzahl Einwohner\", \"Postleitzahlen\", \"Flaeche\"], axis=\"columns\",  inplace = True)\n",
    "# Städte_Information.set_axis([\"Anzahl Einwohner\", \"Postleitzahlen\", \"Flaeche\"], axis=1,  inplace = True)\n",
    "Städte_Information"
   ]
  },
  {
   "cell_type": "markdown",
   "metadata": {},
   "source": [
    "Zeilen umbenennen"
   ]
  },
  {
   "cell_type": "code",
   "execution_count": null,
   "metadata": {},
   "outputs": [],
   "source": [
    "# Städte_Information.rename(index={\"Zürich\": \"Zuerich\"}, inplace=True)\n",
    "# Städte_Information.set_axis([\"Zuerich\", \"Bern\", \"Basel\", \"Chur\"], axis=\"index\",  inplace=True)\n",
    "Städte_Information.set_axis([\"Zuerich\", \"Bern\", \"Basel\", \"Chur\"], axis=0,  inplace=True)\n",
    "Städte_Information.index = [\"Zuerich\", \"Bern\", \"Basel\", \"Chur\"]\n",
    "Städte_Information"
   ]
  },
  {
   "cell_type": "markdown",
   "metadata": {},
   "source": [
    "Spalte löschen"
   ]
  },
  {
   "cell_type": "code",
   "execution_count": null,
   "metadata": {
    "scrolled": true
   },
   "outputs": [],
   "source": [
    "Städte_Information.drop(columns=[\"Flaeche\"], inplace=True)\n",
    "# Städte_Information.drop(\"Flaeche\", axis=1, inplace=True)\n",
    "Städte_Information"
   ]
  },
  {
   "cell_type": "markdown",
   "metadata": {},
   "source": [
    "Zeile löschen"
   ]
  },
  {
   "cell_type": "code",
   "execution_count": null,
   "metadata": {},
   "outputs": [],
   "source": [
    "# Städte_Information.drop(index=[\"Zürich\"], inplace=True)\n",
    "Städte_Information.drop(\"Zuerich\", axis=0, inplace=True)\n",
    "Städte_Information"
   ]
  },
  {
   "cell_type": "markdown",
   "metadata": {},
   "source": [
    "## Datensätze filtern\n",
    "\n",
    "Manchmal möchte man Teilbereiche eines Datensatzes auf Grund verschiedener Bedingungen filtern und daraus einen Teilbereich extrahieren (bspw. in ein neues DataFrame): "
   ]
  },
  {
   "cell_type": "code",
   "execution_count": 5,
   "metadata": {},
   "outputs": [
    {
     "data": {
      "text/html": [
       "<div>\n",
       "<style scoped>\n",
       "    .dataframe tbody tr th:only-of-type {\n",
       "        vertical-align: middle;\n",
       "    }\n",
       "\n",
       "    .dataframe tbody tr th {\n",
       "        vertical-align: top;\n",
       "    }\n",
       "\n",
       "    .dataframe thead th {\n",
       "        text-align: right;\n",
       "    }\n",
       "</style>\n",
       "<table border=\"1\" class=\"dataframe\">\n",
       "  <thead>\n",
       "    <tr style=\"text-align: right;\">\n",
       "      <th></th>\n",
       "      <th>method</th>\n",
       "      <th>number</th>\n",
       "      <th>orbital_period</th>\n",
       "      <th>mass</th>\n",
       "      <th>distance</th>\n",
       "      <th>year</th>\n",
       "    </tr>\n",
       "  </thead>\n",
       "  <tbody>\n",
       "    <tr>\n",
       "      <th>0</th>\n",
       "      <td>Radial Velocity</td>\n",
       "      <td>1</td>\n",
       "      <td>269.300000</td>\n",
       "      <td>7.10</td>\n",
       "      <td>77.40</td>\n",
       "      <td>2006</td>\n",
       "    </tr>\n",
       "    <tr>\n",
       "      <th>1</th>\n",
       "      <td>Radial Velocity</td>\n",
       "      <td>1</td>\n",
       "      <td>874.774000</td>\n",
       "      <td>2.21</td>\n",
       "      <td>56.95</td>\n",
       "      <td>2008</td>\n",
       "    </tr>\n",
       "    <tr>\n",
       "      <th>2</th>\n",
       "      <td>Radial Velocity</td>\n",
       "      <td>1</td>\n",
       "      <td>763.000000</td>\n",
       "      <td>2.60</td>\n",
       "      <td>19.84</td>\n",
       "      <td>2011</td>\n",
       "    </tr>\n",
       "    <tr>\n",
       "      <th>3</th>\n",
       "      <td>Radial Velocity</td>\n",
       "      <td>1</td>\n",
       "      <td>326.030000</td>\n",
       "      <td>19.40</td>\n",
       "      <td>110.62</td>\n",
       "      <td>2007</td>\n",
       "    </tr>\n",
       "    <tr>\n",
       "      <th>4</th>\n",
       "      <td>Radial Velocity</td>\n",
       "      <td>1</td>\n",
       "      <td>516.220000</td>\n",
       "      <td>10.50</td>\n",
       "      <td>119.47</td>\n",
       "      <td>2009</td>\n",
       "    </tr>\n",
       "    <tr>\n",
       "      <th>...</th>\n",
       "      <td>...</td>\n",
       "      <td>...</td>\n",
       "      <td>...</td>\n",
       "      <td>...</td>\n",
       "      <td>...</td>\n",
       "      <td>...</td>\n",
       "    </tr>\n",
       "    <tr>\n",
       "      <th>1030</th>\n",
       "      <td>Transit</td>\n",
       "      <td>1</td>\n",
       "      <td>3.941507</td>\n",
       "      <td>NaN</td>\n",
       "      <td>172.00</td>\n",
       "      <td>2006</td>\n",
       "    </tr>\n",
       "    <tr>\n",
       "      <th>1031</th>\n",
       "      <td>Transit</td>\n",
       "      <td>1</td>\n",
       "      <td>2.615864</td>\n",
       "      <td>NaN</td>\n",
       "      <td>148.00</td>\n",
       "      <td>2007</td>\n",
       "    </tr>\n",
       "    <tr>\n",
       "      <th>1032</th>\n",
       "      <td>Transit</td>\n",
       "      <td>1</td>\n",
       "      <td>3.191524</td>\n",
       "      <td>NaN</td>\n",
       "      <td>174.00</td>\n",
       "      <td>2007</td>\n",
       "    </tr>\n",
       "    <tr>\n",
       "      <th>1033</th>\n",
       "      <td>Transit</td>\n",
       "      <td>1</td>\n",
       "      <td>4.125083</td>\n",
       "      <td>NaN</td>\n",
       "      <td>293.00</td>\n",
       "      <td>2008</td>\n",
       "    </tr>\n",
       "    <tr>\n",
       "      <th>1034</th>\n",
       "      <td>Transit</td>\n",
       "      <td>1</td>\n",
       "      <td>4.187757</td>\n",
       "      <td>NaN</td>\n",
       "      <td>260.00</td>\n",
       "      <td>2008</td>\n",
       "    </tr>\n",
       "  </tbody>\n",
       "</table>\n",
       "<p>1035 rows × 6 columns</p>\n",
       "</div>"
      ],
      "text/plain": [
       "               method  number  orbital_period   mass  distance  year\n",
       "0     Radial Velocity       1      269.300000   7.10     77.40  2006\n",
       "1     Radial Velocity       1      874.774000   2.21     56.95  2008\n",
       "2     Radial Velocity       1      763.000000   2.60     19.84  2011\n",
       "3     Radial Velocity       1      326.030000  19.40    110.62  2007\n",
       "4     Radial Velocity       1      516.220000  10.50    119.47  2009\n",
       "...               ...     ...             ...    ...       ...   ...\n",
       "1030          Transit       1        3.941507    NaN    172.00  2006\n",
       "1031          Transit       1        2.615864    NaN    148.00  2007\n",
       "1032          Transit       1        3.191524    NaN    174.00  2007\n",
       "1033          Transit       1        4.125083    NaN    293.00  2008\n",
       "1034          Transit       1        4.187757    NaN    260.00  2008\n",
       "\n",
       "[1035 rows x 6 columns]"
      ]
     },
     "execution_count": 5,
     "metadata": {},
     "output_type": "execute_result"
    }
   ],
   "source": [
    "planets = pd.read_csv('planets.csv')\n",
    "planets"
   ]
  },
  {
   "cell_type": "code",
   "execution_count": null,
   "metadata": {},
   "outputs": [],
   "source": [
    "# Nur diejenigen Planeten, welche vor dem Jahr 2000 entdeckt worden sind: \n",
    "planets_bf_2000 = planets[planets[\"year\"] < 2000]\n",
    "planets_bf_2000"
   ]
  },
  {
   "cell_type": "code",
   "execution_count": null,
   "metadata": {},
   "outputs": [],
   "source": [
    "# Nur diejenigen Planeten, deren Masse nicht NaN ist:\n",
    "planets_mass = planets[planets[\"mass\"].notna()]\n",
    "planets_mass"
   ]
  },
  {
   "cell_type": "code",
   "execution_count": null,
   "metadata": {},
   "outputs": [],
   "source": [
    "# Nur diejenigen Planeten, deren Masse nicht NaN ist und vor dem Jahr 2000 entdeckt worden sind: \n",
    "planets_mass_bf_2000 = planets[(planets[\"mass\"].notna()) & (planets[\"year\"] < 2000)]\n",
    "planets_mass_bf_2000"
   ]
  },
  {
   "cell_type": "markdown",
   "metadata": {},
   "source": [
    "## Datensätze gruppieren und untersuchen\n",
    "\n",
    "Man kann die Eigenschaften des Datensatzes mit diversen mathematischen Funktionen genauer untersuchen, es gibt auch die Möglichkeit Teile des Datensatzes neu zu gruppieren."
   ]
  },
  {
   "cell_type": "markdown",
   "metadata": {},
   "source": [
    "Mathematische Funktionen wie mean(), sum(), max(), min() lassen sich auf DataFrame und Series Objekte anwenden"
   ]
  },
  {
   "cell_type": "code",
   "execution_count": null,
   "metadata": {},
   "outputs": [],
   "source": [
    "planets[\"mass\"].mean()"
   ]
  },
  {
   "cell_type": "markdown",
   "metadata": {},
   "source": [
    "Die Daten im DataFrame Objekt lassen sich anhand einer ausgewählten Spalte sortieren: "
   ]
  },
  {
   "cell_type": "code",
   "execution_count": null,
   "metadata": {
    "scrolled": false
   },
   "outputs": [],
   "source": [
    "planets.sort_values(by=\"year\", ascending=True)"
   ]
  },
  {
   "cell_type": "markdown",
   "metadata": {},
   "source": [
    "Deskriptive Statistik:"
   ]
  },
  {
   "cell_type": "code",
   "execution_count": null,
   "metadata": {},
   "outputs": [],
   "source": [
    "planets.describe()"
   ]
  },
  {
   "cell_type": "markdown",
   "metadata": {},
   "source": [
    "## Dateien schreiben und lesen\n"
   ]
  },
  {
   "cell_type": "markdown",
   "metadata": {},
   "source": [
    "CSV-Datei lesen"
   ]
  },
  {
   "cell_type": "code",
   "execution_count": null,
   "metadata": {},
   "outputs": [],
   "source": [
    "planets = pd.read_csv('planets.csv')\n",
    "planets"
   ]
  },
  {
   "cell_type": "markdown",
   "metadata": {},
   "source": [
    "CSV-Datei schreiben"
   ]
  },
  {
   "cell_type": "code",
   "execution_count": null,
   "metadata": {},
   "outputs": [],
   "source": [
    "Städte_Information = pd.DataFrame({\"Stadt\": [\"Zuerich\", \"Bern\", \"Basel\"],\n",
    "                                   \"Anzahl Einwohner\": [402762, 133115, 171017], \n",
    "                                    \"Postleitzahlen\" : [8000, 3000, 4000]})\n",
    "Städte_Information.set_index(\"Stadt\", inplace=True)\n",
    "Städte_Information"
   ]
  },
  {
   "cell_type": "code",
   "execution_count": null,
   "metadata": {},
   "outputs": [],
   "source": [
    "Städte_Information.to_csv(\"Staedte_Info.csv\")"
   ]
  },
  {
   "cell_type": "markdown",
   "metadata": {},
   "source": [
    "## Von Pandas zu NumPy"
   ]
  },
  {
   "cell_type": "code",
   "execution_count": null,
   "metadata": {},
   "outputs": [],
   "source": [
    "series_1 = pd.Series([1, 2, 3])\n",
    "series_2 = pd.Series([10, 20 ,30])\n",
    "dataframe_1 = pd.DataFrame(np.array([series_1, series_2]), ['Zeile1', 'Zeile2'], ['Spalte1', 'Spalte2', 'Spalte3'])\n",
    "dataframe_1"
   ]
  },
  {
   "cell_type": "markdown",
   "metadata": {},
   "source": [
    "Neben dem values Property gibt es auch die Methode to_numpy(), welche den Inhalt eines DataFrame (oder Series) Objektes automatisch in ein NumPy ndarray transformiert. "
   ]
  },
  {
   "cell_type": "code",
   "execution_count": null,
   "metadata": {},
   "outputs": [],
   "source": [
    "arr1 = dataframe_1.to_numpy()\n",
    "arr1"
   ]
  },
  {
   "cell_type": "markdown",
   "metadata": {},
   "source": [
    "## Umgang mit NaN (Not A Number)\n",
    "Bei der Arbeit mit realen Daten wird immer wieder der Fall auftreten, dass vereinzelte Werte nicht vorhanden sind (bspw. weil bei der Messung der Daten ein Fehler aufgetreten ist und dadurch kurzzeitig keine Messung gemacht werden konnte). <br>\n",
    "Solche fehlenden Datenpunkte werden innerhalb eines Series (oder DataFrame) Objektes mit NaN (Not A Number) gekennzeichnet. <br>\n",
    "Pandas bietet ein paar nützliche Methoden, um solche fehlenden Daten zu lokalisieren und gegebenfalls auch zu löschen. "
   ]
  },
  {
   "cell_type": "code",
   "execution_count": null,
   "metadata": {},
   "outputs": [],
   "source": [
    "Postleitzahlen = pd.Series({\"Zürich\":8000 , \"Chur\":7000, \"Basel\":4000}, [\"Basel\", \"Chur\", \"Zürich\", \"St.Gallen\", \"Biel\"])\n",
    "Postleitzahlen"
   ]
  },
  {
   "cell_type": "markdown",
   "metadata": {},
   "source": [
    "Auf NaN prüfen:"
   ]
  },
  {
   "cell_type": "code",
   "execution_count": null,
   "metadata": {
    "scrolled": true
   },
   "outputs": [],
   "source": [
    "Postleitzahlen.isna()"
   ]
  },
  {
   "cell_type": "code",
   "execution_count": null,
   "metadata": {},
   "outputs": [],
   "source": [
    "Postleitzahlen.notna()"
   ]
  },
  {
   "cell_type": "markdown",
   "metadata": {},
   "source": [
    "NaN löschen:<br>\n",
    "(Das inplace=True Argument sorgt dafür, dass die Änderungen direkt am Objekt vorgenommen werden. Bei inplace=False wird die Änderung nur am zurückgegebenen Objekt durchgeführt, das ursprüngliche Objekt bleibt jedoch unverändert.)"
   ]
  },
  {
   "cell_type": "code",
   "execution_count": null,
   "metadata": {
    "scrolled": true
   },
   "outputs": [],
   "source": [
    "Postleitzahlen.dropna(inplace=True)\n",
    "Postleitzahlen"
   ]
  },
  {
   "cell_type": "markdown",
   "metadata": {},
   "source": [
    "NaN auffüllen:"
   ]
  },
  {
   "cell_type": "code",
   "execution_count": null,
   "metadata": {
    "scrolled": false
   },
   "outputs": [],
   "source": [
    "Postleitzahlen = pd.Series({\"Zürich\":8000 , \"Chur\":7000, \"Basel\":4000}, [\"Basel\", \"Chur\", \"Zürich\", \"St.Gallen\", \"Biel\"])\n",
    "Postleitzahlen.fillna(0, inplace=True)\n",
    "Postleitzahlen"
   ]
  },
  {
   "cell_type": "markdown",
   "metadata": {},
   "source": [
    "Man kann die fehlenden Daten auch direkt ergänzen:"
   ]
  },
  {
   "cell_type": "code",
   "execution_count": null,
   "metadata": {},
   "outputs": [],
   "source": [
    "Postleitzahlen = pd.Series({\"Zürich\":8000 , \"Chur\":7000, \"Basel\":4000}, [\"Basel\", \"Chur\", \"Zürich\", \"St.Gallen\", \"Biel\"])\n",
    "Postleitzahlen.fillna({\"St.Gallen\":9000, \"Biel\":2500}, inplace=True)"
   ]
  },
  {
   "cell_type": "code",
   "execution_count": null,
   "metadata": {
    "scrolled": false
   },
   "outputs": [],
   "source": [
    "temp_sens = pd.read_csv('Temperatursensoren_NaN.csv')\n",
    "temp_sens.set_index(\"Datum\", inplace=True)\n",
    "temp_sens"
   ]
  },
  {
   "cell_type": "markdown",
   "metadata": {},
   "source": [
    "Alle Zeilen, welche NaN enthalten, löschen:"
   ]
  },
  {
   "cell_type": "code",
   "execution_count": null,
   "metadata": {},
   "outputs": [],
   "source": [
    "temp_sens.dropna()"
   ]
  },
  {
   "cell_type": "markdown",
   "metadata": {},
   "source": [
    "Alle Spalten, welche NaN enthalten, löschen:"
   ]
  },
  {
   "cell_type": "code",
   "execution_count": null,
   "metadata": {},
   "outputs": [],
   "source": [
    "temp_sens.dropna(axis=1)"
   ]
  },
  {
   "cell_type": "markdown",
   "metadata": {},
   "source": [
    "Anstatt einfach alle Zeilen, welche NaN enthalten zu löschen, kann man die fehlenden Werte anhand der gegebenen Messdaten auch interpolieren: "
   ]
  },
  {
   "cell_type": "code",
   "execution_count": null,
   "metadata": {},
   "outputs": [],
   "source": [
    "temp_sens_interp = temp_sens.interpolate(method ='linear', limit_direction ='backward', limit=1)\n",
    "# Ausgabe der ersten paar Zeilen des neuen DataFrame Objektes\n",
    "temp_sens_interp.head()"
   ]
  },
  {
   "cell_type": "code",
   "execution_count": null,
   "metadata": {
    "scrolled": true
   },
   "outputs": [],
   "source": [
    "# Vergleich mit ursprünglichen Daten\n",
    "temp_sens.head()"
   ]
  }
 ],
 "metadata": {
  "interpreter": {
   "hash": "2e0d6b2f3e30f743bcbefea442309ec29360532d685ea05bc98680df757342c1"
  },
  "kernelspec": {
   "display_name": "Python 3.9.7 ('base')",
   "language": "python",
   "name": "python3"
  },
  "language_info": {
   "codemirror_mode": {
    "name": "ipython",
    "version": 3
   },
   "file_extension": ".py",
   "mimetype": "text/x-python",
   "name": "python",
   "nbconvert_exporter": "python",
   "pygments_lexer": "ipython3",
   "version": "3.9.7"
  }
 },
 "nbformat": 4,
 "nbformat_minor": 2
}
